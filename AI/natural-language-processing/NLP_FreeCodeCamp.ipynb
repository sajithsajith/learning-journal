{
  "nbformat": 4,
  "nbformat_minor": 0,
  "metadata": {
    "colab": {
      "provenance": [],
      "authorship_tag": "ABX9TyN8zEQIrXRFcH4uu89+bQWL",
      "include_colab_link": true
    },
    "kernelspec": {
      "name": "python3",
      "display_name": "Python 3"
    },
    "language_info": {
      "name": "python"
    }
  },
  "cells": [
    {
      "cell_type": "markdown",
      "metadata": {
        "id": "view-in-github",
        "colab_type": "text"
      },
      "source": [
        "<a href=\"https://colab.research.google.com/github/sajithsajith/learning-journal/blob/main/AI/natural-language-processing/NLP_FreeCodeCamp.ipynb\" target=\"_parent\"><img src=\"https://colab.research.google.com/assets/colab-badge.svg\" alt=\"Open In Colab\"/></a>"
      ]
    },
    {
      "cell_type": "code",
      "execution_count": 1,
      "metadata": {
        "colab": {
          "base_uri": "https://localhost:8080/"
        },
        "id": "sixhKvwremhK",
        "outputId": "0f7de412-7288-44ff-e576-4c2e54f17a21"
      },
      "outputs": [
        {
          "output_type": "stream",
          "name": "stdout",
          "text": [
            "Requirement already satisfied: nltk in /usr/local/lib/python3.11/dist-packages (3.9.1)\n",
            "Requirement already satisfied: click in /usr/local/lib/python3.11/dist-packages (from nltk) (8.2.1)\n",
            "Requirement already satisfied: joblib in /usr/local/lib/python3.11/dist-packages (from nltk) (1.5.1)\n",
            "Requirement already satisfied: regex>=2021.8.3 in /usr/local/lib/python3.11/dist-packages (from nltk) (2024.11.6)\n",
            "Requirement already satisfied: tqdm in /usr/local/lib/python3.11/dist-packages (from nltk) (4.67.1)\n"
          ]
        }
      ],
      "source": [
        "pip install nltk"
      ]
    },
    {
      "cell_type": "code",
      "source": [
        "import os\n",
        "import nltk\n",
        "import nltk.corpus"
      ],
      "metadata": {
        "id": "Nlp3YZlpe902"
      },
      "execution_count": 2,
      "outputs": []
    },
    {
      "cell_type": "code",
      "source": [
        "nltk.download()"
      ],
      "metadata": {
        "id": "V41iFdpjhqpA"
      },
      "execution_count": null,
      "outputs": []
    },
    {
      "cell_type": "code",
      "source": [
        "datas = os.listdir(nltk.data.find(\"corpora\"))\n",
        "datas.sort()\n",
        "datas"
      ],
      "metadata": {
        "colab": {
          "base_uri": "https://localhost:8080/"
        },
        "id": "szzQf7bGfa4u",
        "outputId": "89900cab-62ec-4f7e-f245-fb40b8897e9c"
      },
      "execution_count": 18,
      "outputs": [
        {
          "output_type": "execute_result",
          "data": {
            "text/plain": [
              "['abc',\n",
              " 'abc.zip',\n",
              " 'alpino',\n",
              " 'alpino.zip',\n",
              " 'bcp47.zip',\n",
              " 'biocreative_ppi',\n",
              " 'biocreative_ppi.zip',\n",
              " 'brown',\n",
              " 'brown.zip',\n",
              " 'brown_tei',\n",
              " 'brown_tei.zip',\n",
              " 'cess_cat',\n",
              " 'cess_cat.zip',\n",
              " 'cess_esp',\n",
              " 'cess_esp.zip',\n",
              " 'chat80',\n",
              " 'chat80.zip',\n",
              " 'city_database',\n",
              " 'city_database.zip',\n",
              " 'cmudict',\n",
              " 'cmudict.zip',\n",
              " 'comparative_sentences',\n",
              " 'comparative_sentences.zip',\n",
              " 'comtrans.zip',\n",
              " 'conll2000',\n",
              " 'conll2000.zip',\n",
              " 'conll2002',\n",
              " 'conll2002.zip',\n",
              " 'conll2007.zip',\n",
              " 'crubadan',\n",
              " 'crubadan.zip',\n",
              " 'dependency_treebank',\n",
              " 'dependency_treebank.zip',\n",
              " 'dolch',\n",
              " 'dolch.zip',\n",
              " 'english_wordnet',\n",
              " 'english_wordnet.zip',\n",
              " 'europarl_raw',\n",
              " 'europarl_raw.zip',\n",
              " 'extended_omw.zip',\n",
              " 'floresta',\n",
              " 'floresta.zip',\n",
              " 'framenet_v15',\n",
              " 'framenet_v15.zip',\n",
              " 'framenet_v17',\n",
              " 'framenet_v17.zip',\n",
              " 'gazetteers',\n",
              " 'gazetteers.zip',\n",
              " 'genesis',\n",
              " 'genesis.zip',\n",
              " 'gutenberg',\n",
              " 'gutenberg.zip',\n",
              " 'ieer',\n",
              " 'ieer.zip',\n",
              " 'inaugural',\n",
              " 'inaugural.zip',\n",
              " 'indian',\n",
              " 'indian.zip',\n",
              " 'jeita.zip',\n",
              " 'kimmo',\n",
              " 'kimmo.zip',\n",
              " 'knbc.zip',\n",
              " 'lin_thesaurus',\n",
              " 'lin_thesaurus.zip',\n",
              " 'mac_morpho',\n",
              " 'mac_morpho.zip',\n",
              " 'machado.zip',\n",
              " 'masc_tagged.zip',\n",
              " 'movie_reviews',\n",
              " 'movie_reviews.zip',\n",
              " 'mte_teip5',\n",
              " 'mte_teip5.zip',\n",
              " 'names',\n",
              " 'names.zip',\n",
              " 'nombank.1.0.zip',\n",
              " 'nonbreaking_prefixes',\n",
              " 'nonbreaking_prefixes.zip',\n",
              " 'nps_chat',\n",
              " 'nps_chat.zip',\n",
              " 'omw-1.4.zip',\n",
              " 'omw.zip',\n",
              " 'opinion_lexicon',\n",
              " 'opinion_lexicon.zip',\n",
              " 'panlex_swadesh.zip',\n",
              " 'paradigms',\n",
              " 'paradigms.zip',\n",
              " 'pe08',\n",
              " 'pe08.zip',\n",
              " 'pil',\n",
              " 'pil.zip',\n",
              " 'pl196x',\n",
              " 'pl196x.zip',\n",
              " 'ppattach',\n",
              " 'ppattach.zip',\n",
              " 'problem_reports',\n",
              " 'problem_reports.zip',\n",
              " 'product_reviews_1',\n",
              " 'product_reviews_1.zip',\n",
              " 'product_reviews_2',\n",
              " 'product_reviews_2.zip',\n",
              " 'propbank.zip',\n",
              " 'pros_cons',\n",
              " 'pros_cons.zip',\n",
              " 'ptb',\n",
              " 'ptb.zip',\n",
              " 'qc',\n",
              " 'qc.zip',\n",
              " 'reuters.zip',\n",
              " 'rte',\n",
              " 'rte.zip',\n",
              " 'semcor.zip',\n",
              " 'senseval',\n",
              " 'senseval.zip',\n",
              " 'sentence_polarity',\n",
              " 'sentence_polarity.zip',\n",
              " 'sentiwordnet',\n",
              " 'sentiwordnet.zip',\n",
              " 'shakespeare',\n",
              " 'shakespeare.zip',\n",
              " 'sinica_treebank',\n",
              " 'sinica_treebank.zip',\n",
              " 'smultron',\n",
              " 'smultron.zip',\n",
              " 'state_union',\n",
              " 'state_union.zip',\n",
              " 'stopwords',\n",
              " 'stopwords.zip',\n",
              " 'subjectivity',\n",
              " 'subjectivity.zip',\n",
              " 'swadesh',\n",
              " 'swadesh.zip',\n",
              " 'switchboard',\n",
              " 'switchboard.zip',\n",
              " 'timit',\n",
              " 'timit.zip',\n",
              " 'toolbox',\n",
              " 'toolbox.zip',\n",
              " 'treebank',\n",
              " 'treebank.zip',\n",
              " 'twitter_samples',\n",
              " 'twitter_samples.zip',\n",
              " 'udhr',\n",
              " 'udhr.zip',\n",
              " 'udhr2',\n",
              " 'udhr2.zip',\n",
              " 'unicode_samples',\n",
              " 'unicode_samples.zip',\n",
              " 'universal_treebanks_v20.zip',\n",
              " 'verbnet',\n",
              " 'verbnet.zip',\n",
              " 'verbnet3',\n",
              " 'verbnet3.zip',\n",
              " 'webtext',\n",
              " 'webtext.zip',\n",
              " 'wordnet.zip',\n",
              " 'wordnet2021.zip',\n",
              " 'wordnet2022',\n",
              " 'wordnet2022.zip',\n",
              " 'wordnet31.zip',\n",
              " 'wordnet_ic',\n",
              " 'wordnet_ic.zip',\n",
              " 'words',\n",
              " 'words.zip',\n",
              " 'ycoe',\n",
              " 'ycoe.zip']"
            ]
          },
          "metadata": {},
          "execution_count": 18
        }
      ]
    },
    {
      "cell_type": "code",
      "source": [
        "from nltk.corpus import brown\n",
        "brown.words()"
      ],
      "metadata": {
        "colab": {
          "base_uri": "https://localhost:8080/"
        },
        "id": "J30EAep5heOh",
        "outputId": "65f7f2db-c378-4557-c642-5e01934f71cb"
      },
      "execution_count": 21,
      "outputs": [
        {
          "output_type": "execute_result",
          "data": {
            "text/plain": [
              "['The', 'Fulton', 'County', 'Grand', 'Jury', 'said', ...]"
            ]
          },
          "metadata": {},
          "execution_count": 21
        }
      ]
    },
    {
      "cell_type": "code",
      "source": [
        "nltk.corpus.gutenberg.fileids()"
      ],
      "metadata": {
        "colab": {
          "base_uri": "https://localhost:8080/"
        },
        "id": "CK8G3DHUgQWJ",
        "outputId": "eb24cc3d-fcc9-4f40-f029-60e75d65c6e9"
      },
      "execution_count": 22,
      "outputs": [
        {
          "output_type": "execute_result",
          "data": {
            "text/plain": [
              "['austen-emma.txt',\n",
              " 'austen-persuasion.txt',\n",
              " 'austen-sense.txt',\n",
              " 'bible-kjv.txt',\n",
              " 'blake-poems.txt',\n",
              " 'bryant-stories.txt',\n",
              " 'burgess-busterbrown.txt',\n",
              " 'carroll-alice.txt',\n",
              " 'chesterton-ball.txt',\n",
              " 'chesterton-brown.txt',\n",
              " 'chesterton-thursday.txt',\n",
              " 'edgeworth-parents.txt',\n",
              " 'melville-moby_dick.txt',\n",
              " 'milton-paradise.txt',\n",
              " 'shakespeare-caesar.txt',\n",
              " 'shakespeare-hamlet.txt',\n",
              " 'shakespeare-macbeth.txt',\n",
              " 'whitman-leaves.txt']"
            ]
          },
          "metadata": {},
          "execution_count": 22
        }
      ]
    },
    {
      "cell_type": "code",
      "source": [
        "hamlet = nltk.corpus.gutenberg.words('shakespeare-hamlet.txt')\n",
        "hamlet"
      ],
      "metadata": {
        "colab": {
          "base_uri": "https://localhost:8080/"
        },
        "id": "fqaJhIxiiIZM",
        "outputId": "2812332f-3200-4a37-ad9f-ccd311d9c856"
      },
      "execution_count": 23,
      "outputs": [
        {
          "output_type": "execute_result",
          "data": {
            "text/plain": [
              "['[', 'The', 'Tragedie', 'of', 'Hamlet', 'by', ...]"
            ]
          },
          "metadata": {},
          "execution_count": 23
        }
      ]
    },
    {
      "cell_type": "code",
      "source": [
        "len(hamlet)"
      ],
      "metadata": {
        "colab": {
          "base_uri": "https://localhost:8080/"
        },
        "id": "iZJrYCiBibju",
        "outputId": "7d9bea1d-1a22-4069-df8a-5a89e3d8b35d"
      },
      "execution_count": 26,
      "outputs": [
        {
          "output_type": "execute_result",
          "data": {
            "text/plain": [
              "37360"
            ]
          },
          "metadata": {},
          "execution_count": 26
        }
      ]
    },
    {
      "cell_type": "code",
      "source": [
        "words = \"\"\n",
        "for word in hamlet[:100]:\n",
        "  words += word + \" \"\n",
        "words"
      ],
      "metadata": {
        "colab": {
          "base_uri": "https://localhost:8080/",
          "height": 122
        },
        "id": "r62a1QwpiiMg",
        "outputId": "abdd3875-aae4-402a-ae2d-bdd1a0006770"
      },
      "execution_count": 31,
      "outputs": [
        {
          "output_type": "execute_result",
          "data": {
            "text/plain": [
              "\"[ The Tragedie of Hamlet by William Shakespeare 1599 ] Actus Primus . Scoena Prima . Enter Barnardo and Francisco two Centinels . Barnardo . Who ' s there ? Fran . Nay answer me : Stand & vnfold your selfe Bar . Long liue the King Fran . Barnardo ? Bar . He Fran . You come most carefully vpon your houre Bar . ' Tis now strook twelue , get thee to bed Francisco Fran . For this releefe much thankes : ' Tis bitter cold , And I am sicke at heart Barn . Haue you had \""
            ],
            "application/vnd.google.colaboratory.intrinsic+json": {
              "type": "string"
            }
          },
          "metadata": {},
          "execution_count": 31
        }
      ]
    },
    {
      "cell_type": "code",
      "source": [
        "text = \"\"\"Lorem ipsum dolor sit amet. 33 eaque repellat et ratione atque ab voluptates quia! Sit sint accusamus sed unde nesciunt ut voluptatem consequuntur sed autem similique vel dolores repellat sit laborum aperiam.\n",
        "\n",
        "Sed itaque nisi ex similique culpa qui saepe impedit qui atque voluptatem sed nihil quibusdam. Sed repudiandae quidem 33 dolores dolorem quo sunt aliquid et repellendus corporis ut dolore voluptatem. Aut quia dolorum ut quod nihil At tempora dolor ea eligendi porro quo deleniti possimus ut similique minima eum nesciunt atque. Aut obcaecati debitis quo accusamus porro et iure voluptatem et rerum consectetur ut voluptatem provident et impedit minima.\n",
        "\n",
        "Ex quasi labore qui repellat totam rem ratione labore in rerum rerum ea recusandae sunt est obcaecati esse? Ut soluta autem et vero eaque est sapiente consequatur 33 ducimus vero est quisquam quaerat. Eos nihil laudantium qui repellat voluptas 33 accusamus eligendi ea corporis minima eum voluptas quibusdam qui nesciunt quod. Est reiciendis delectus sed quia consequatur et officia tempore rem velit galisum et voluptatem magni sed blanditiis ipsam sed vero voluptatum.\n",
        "\n",
        "Sit tenetur amet et internos dolorem eum alias tempore. Eum corrupti quia qui dolorem molestiae qui eligendi consequatur. Id quod officia ad nobis quam qui ipsa iure non deleniti eligendi quo corporis exercitationem. Sit magni dolore et suscipit doloribus quo molestias quas.\n",
        "\n",
        "33 mollitia laudantium id pariatur mollitia eum aperiam quisquam. Aut voluptas optio aut fuga ipsam et quisquam libero ab culpa explicabo ut animi accusamus et ipsam doloribus sed quia perspiciatis. Qui consequuntur quia eos officia alias et consequatur quia est consequuntur reiciendis ex omnis laborum non doloribus optio. Eos dolorum nisi qui perferendis nesciunt in nobis voluptate sit doloribus odio et dolores itaque nam assumenda magnam?\n",
        "\"\"\""
      ],
      "metadata": {
        "id": "p95LhcGbqZkW"
      },
      "execution_count": 35,
      "outputs": []
    },
    {
      "cell_type": "code",
      "source": [
        "from nltk.tokenize import word_tokenize"
      ],
      "metadata": {
        "id": "pWM_35vLrTSE"
      },
      "execution_count": 36,
      "outputs": []
    },
    {
      "cell_type": "code",
      "source": [
        "text_tokens = word_tokenize(text)\n",
        "text_tokens"
      ],
      "metadata": {
        "colab": {
          "base_uri": "https://localhost:8080/"
        },
        "id": "gkS9Teisrc3p",
        "outputId": "44efb418-cdd4-46b5-e797-72b206eb6672"
      },
      "execution_count": 37,
      "outputs": [
        {
          "output_type": "execute_result",
          "data": {
            "text/plain": [
              "['Lorem',\n",
              " 'ipsum',\n",
              " 'dolor',\n",
              " 'sit',\n",
              " 'amet',\n",
              " '.',\n",
              " '33',\n",
              " 'eaque',\n",
              " 'repellat',\n",
              " 'et',\n",
              " 'ratione',\n",
              " 'atque',\n",
              " 'ab',\n",
              " 'voluptates',\n",
              " 'quia',\n",
              " '!',\n",
              " 'Sit',\n",
              " 'sint',\n",
              " 'accusamus',\n",
              " 'sed',\n",
              " 'unde',\n",
              " 'nesciunt',\n",
              " 'ut',\n",
              " 'voluptatem',\n",
              " 'consequuntur',\n",
              " 'sed',\n",
              " 'autem',\n",
              " 'similique',\n",
              " 'vel',\n",
              " 'dolores',\n",
              " 'repellat',\n",
              " 'sit',\n",
              " 'laborum',\n",
              " 'aperiam',\n",
              " '.',\n",
              " 'Sed',\n",
              " 'itaque',\n",
              " 'nisi',\n",
              " 'ex',\n",
              " 'similique',\n",
              " 'culpa',\n",
              " 'qui',\n",
              " 'saepe',\n",
              " 'impedit',\n",
              " 'qui',\n",
              " 'atque',\n",
              " 'voluptatem',\n",
              " 'sed',\n",
              " 'nihil',\n",
              " 'quibusdam',\n",
              " '.',\n",
              " 'Sed',\n",
              " 'repudiandae',\n",
              " 'quidem',\n",
              " '33',\n",
              " 'dolores',\n",
              " 'dolorem',\n",
              " 'quo',\n",
              " 'sunt',\n",
              " 'aliquid',\n",
              " 'et',\n",
              " 'repellendus',\n",
              " 'corporis',\n",
              " 'ut',\n",
              " 'dolore',\n",
              " 'voluptatem',\n",
              " '.',\n",
              " 'Aut',\n",
              " 'quia',\n",
              " 'dolorum',\n",
              " 'ut',\n",
              " 'quod',\n",
              " 'nihil',\n",
              " 'At',\n",
              " 'tempora',\n",
              " 'dolor',\n",
              " 'ea',\n",
              " 'eligendi',\n",
              " 'porro',\n",
              " 'quo',\n",
              " 'deleniti',\n",
              " 'possimus',\n",
              " 'ut',\n",
              " 'similique',\n",
              " 'minima',\n",
              " 'eum',\n",
              " 'nesciunt',\n",
              " 'atque',\n",
              " '.',\n",
              " 'Aut',\n",
              " 'obcaecati',\n",
              " 'debitis',\n",
              " 'quo',\n",
              " 'accusamus',\n",
              " 'porro',\n",
              " 'et',\n",
              " 'iure',\n",
              " 'voluptatem',\n",
              " 'et',\n",
              " 'rerum',\n",
              " 'consectetur',\n",
              " 'ut',\n",
              " 'voluptatem',\n",
              " 'provident',\n",
              " 'et',\n",
              " 'impedit',\n",
              " 'minima',\n",
              " '.',\n",
              " 'Ex',\n",
              " 'quasi',\n",
              " 'labore',\n",
              " 'qui',\n",
              " 'repellat',\n",
              " 'totam',\n",
              " 'rem',\n",
              " 'ratione',\n",
              " 'labore',\n",
              " 'in',\n",
              " 'rerum',\n",
              " 'rerum',\n",
              " 'ea',\n",
              " 'recusandae',\n",
              " 'sunt',\n",
              " 'est',\n",
              " 'obcaecati',\n",
              " 'esse',\n",
              " '?',\n",
              " 'Ut',\n",
              " 'soluta',\n",
              " 'autem',\n",
              " 'et',\n",
              " 'vero',\n",
              " 'eaque',\n",
              " 'est',\n",
              " 'sapiente',\n",
              " 'consequatur',\n",
              " '33',\n",
              " 'ducimus',\n",
              " 'vero',\n",
              " 'est',\n",
              " 'quisquam',\n",
              " 'quaerat',\n",
              " '.',\n",
              " 'Eos',\n",
              " 'nihil',\n",
              " 'laudantium',\n",
              " 'qui',\n",
              " 'repellat',\n",
              " 'voluptas',\n",
              " '33',\n",
              " 'accusamus',\n",
              " 'eligendi',\n",
              " 'ea',\n",
              " 'corporis',\n",
              " 'minima',\n",
              " 'eum',\n",
              " 'voluptas',\n",
              " 'quibusdam',\n",
              " 'qui',\n",
              " 'nesciunt',\n",
              " 'quod',\n",
              " '.',\n",
              " 'Est',\n",
              " 'reiciendis',\n",
              " 'delectus',\n",
              " 'sed',\n",
              " 'quia',\n",
              " 'consequatur',\n",
              " 'et',\n",
              " 'officia',\n",
              " 'tempore',\n",
              " 'rem',\n",
              " 'velit',\n",
              " 'galisum',\n",
              " 'et',\n",
              " 'voluptatem',\n",
              " 'magni',\n",
              " 'sed',\n",
              " 'blanditiis',\n",
              " 'ipsam',\n",
              " 'sed',\n",
              " 'vero',\n",
              " 'voluptatum',\n",
              " '.',\n",
              " 'Sit',\n",
              " 'tenetur',\n",
              " 'amet',\n",
              " 'et',\n",
              " 'internos',\n",
              " 'dolorem',\n",
              " 'eum',\n",
              " 'alias',\n",
              " 'tempore',\n",
              " '.',\n",
              " 'Eum',\n",
              " 'corrupti',\n",
              " 'quia',\n",
              " 'qui',\n",
              " 'dolorem',\n",
              " 'molestiae',\n",
              " 'qui',\n",
              " 'eligendi',\n",
              " 'consequatur',\n",
              " '.',\n",
              " 'Id',\n",
              " 'quod',\n",
              " 'officia',\n",
              " 'ad',\n",
              " 'nobis',\n",
              " 'quam',\n",
              " 'qui',\n",
              " 'ipsa',\n",
              " 'iure',\n",
              " 'non',\n",
              " 'deleniti',\n",
              " 'eligendi',\n",
              " 'quo',\n",
              " 'corporis',\n",
              " 'exercitationem',\n",
              " '.',\n",
              " 'Sit',\n",
              " 'magni',\n",
              " 'dolore',\n",
              " 'et',\n",
              " 'suscipit',\n",
              " 'doloribus',\n",
              " 'quo',\n",
              " 'molestias',\n",
              " 'quas',\n",
              " '.',\n",
              " '33',\n",
              " 'mollitia',\n",
              " 'laudantium',\n",
              " 'id',\n",
              " 'pariatur',\n",
              " 'mollitia',\n",
              " 'eum',\n",
              " 'aperiam',\n",
              " 'quisquam',\n",
              " '.',\n",
              " 'Aut',\n",
              " 'voluptas',\n",
              " 'optio',\n",
              " 'aut',\n",
              " 'fuga',\n",
              " 'ipsam',\n",
              " 'et',\n",
              " 'quisquam',\n",
              " 'libero',\n",
              " 'ab',\n",
              " 'culpa',\n",
              " 'explicabo',\n",
              " 'ut',\n",
              " 'animi',\n",
              " 'accusamus',\n",
              " 'et',\n",
              " 'ipsam',\n",
              " 'doloribus',\n",
              " 'sed',\n",
              " 'quia',\n",
              " 'perspiciatis',\n",
              " '.',\n",
              " 'Qui',\n",
              " 'consequuntur',\n",
              " 'quia',\n",
              " 'eos',\n",
              " 'officia',\n",
              " 'alias',\n",
              " 'et',\n",
              " 'consequatur',\n",
              " 'quia',\n",
              " 'est',\n",
              " 'consequuntur',\n",
              " 'reiciendis',\n",
              " 'ex',\n",
              " 'omnis',\n",
              " 'laborum',\n",
              " 'non',\n",
              " 'doloribus',\n",
              " 'optio',\n",
              " '.',\n",
              " 'Eos',\n",
              " 'dolorum',\n",
              " 'nisi',\n",
              " 'qui',\n",
              " 'perferendis',\n",
              " 'nesciunt',\n",
              " 'in',\n",
              " 'nobis',\n",
              " 'voluptate',\n",
              " 'sit',\n",
              " 'doloribus',\n",
              " 'odio',\n",
              " 'et',\n",
              " 'dolores',\n",
              " 'itaque',\n",
              " 'nam',\n",
              " 'assumenda',\n",
              " 'magnam',\n",
              " '?']"
            ]
          },
          "metadata": {},
          "execution_count": 37
        }
      ]
    },
    {
      "cell_type": "code",
      "source": [
        "len(text_tokens)"
      ],
      "metadata": {
        "colab": {
          "base_uri": "https://localhost:8080/"
        },
        "id": "yIGET-Gtr0WB",
        "outputId": "cd01e5ab-5af9-4b63-fdd1-107d93ec0c82"
      },
      "execution_count": 38,
      "outputs": [
        {
          "output_type": "execute_result",
          "data": {
            "text/plain": [
              "300"
            ]
          },
          "metadata": {},
          "execution_count": 38
        }
      ]
    },
    {
      "cell_type": "code",
      "source": [
        "len(text)"
      ],
      "metadata": {
        "colab": {
          "base_uri": "https://localhost:8080/"
        },
        "id": "F0smnzfLr3Cf",
        "outputId": "a6e3cc09-b104-4621-fbe2-6f5a60eb2422"
      },
      "execution_count": 39,
      "outputs": [
        {
          "output_type": "execute_result",
          "data": {
            "text/plain": [
              "1858"
            ]
          },
          "metadata": {},
          "execution_count": 39
        }
      ]
    },
    {
      "cell_type": "code",
      "source": [
        "from nltk.probability import FreqDist\n",
        "fdist = FreqDist()"
      ],
      "metadata": {
        "id": "KZqIjRJisJRn"
      },
      "execution_count": 41,
      "outputs": []
    },
    {
      "cell_type": "code",
      "source": [
        "fdist"
      ],
      "metadata": {
        "colab": {
          "base_uri": "https://localhost:8080/"
        },
        "id": "q-sHrVxasaEx",
        "outputId": "b5bea154-58b1-4f16-aa14-82fa565b466d"
      },
      "execution_count": 42,
      "outputs": [
        {
          "output_type": "execute_result",
          "data": {
            "text/plain": [
              "FreqDist({})"
            ]
          },
          "metadata": {},
          "execution_count": 42
        }
      ]
    },
    {
      "cell_type": "code",
      "source": [
        "for word in text_tokens:\n",
        "  fdist[word.lower()] += 1\n",
        "fdist"
      ],
      "metadata": {
        "colab": {
          "base_uri": "https://localhost:8080/"
        },
        "id": "EKlLzsCGsO40",
        "outputId": "5c5f24e0-73a8-4cf6-a604-c5d8bd48d46a"
      },
      "execution_count": 43,
      "outputs": [
        {
          "output_type": "execute_result",
          "data": {
            "text/plain": [
              "FreqDist({'.': 16, 'et': 14, 'qui': 10, 'sed': 9, 'quia': 7, 'ut': 7, 'sit': 6, 'voluptatem': 6, '33': 5, 'quo': 5, ...})"
            ]
          },
          "metadata": {},
          "execution_count": 43
        }
      ]
    },
    {
      "cell_type": "code",
      "source": [
        "fdist[\"sit\"]"
      ],
      "metadata": {
        "colab": {
          "base_uri": "https://localhost:8080/"
        },
        "id": "j7I_99r2swiK",
        "outputId": "2daab416-be74-4cad-8ecd-74854afc0aae"
      },
      "execution_count": 51,
      "outputs": [
        {
          "output_type": "execute_result",
          "data": {
            "text/plain": [
              "6"
            ]
          },
          "metadata": {},
          "execution_count": 51
        }
      ]
    },
    {
      "cell_type": "code",
      "source": [
        "len(fdist)"
      ],
      "metadata": {
        "colab": {
          "base_uri": "https://localhost:8080/"
        },
        "id": "1P2rlWlEs3Ie",
        "outputId": "3a5b5397-fb06-4fb6-a5df-efe93a3013ff"
      },
      "execution_count": 52,
      "outputs": [
        {
          "output_type": "execute_result",
          "data": {
            "text/plain": [
              "126"
            ]
          },
          "metadata": {},
          "execution_count": 52
        }
      ]
    },
    {
      "cell_type": "code",
      "source": [
        "#Top 10 tokens\n",
        "fdist.most_common(10)"
      ],
      "metadata": {
        "colab": {
          "base_uri": "https://localhost:8080/"
        },
        "id": "upZqMPP7tfVL",
        "outputId": "e5b3a2ff-500a-4f82-a90d-d612e99a6876"
      },
      "execution_count": 54,
      "outputs": [
        {
          "output_type": "execute_result",
          "data": {
            "text/plain": [
              "[('.', 16),\n",
              " ('et', 14),\n",
              " ('qui', 10),\n",
              " ('sed', 9),\n",
              " ('quia', 7),\n",
              " ('ut', 7),\n",
              " ('sit', 6),\n",
              " ('voluptatem', 6),\n",
              " ('33', 5),\n",
              " ('quo', 5)]"
            ]
          },
          "metadata": {},
          "execution_count": 54
        }
      ]
    }
  ]
}