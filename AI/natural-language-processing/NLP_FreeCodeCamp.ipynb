{
  "nbformat": 4,
  "nbformat_minor": 0,
  "metadata": {
    "colab": {
      "provenance": [],
      "authorship_tag": "ABX9TyN8zEQIrXRFcH4uu89+bQWL",
      "include_colab_link": true
    },
    "kernelspec": {
      "name": "python3",
      "display_name": "Python 3"
    },
    "language_info": {
      "name": "python"
    }
  },
  "cells": [
    {
      "cell_type": "markdown",
      "metadata": {
        "id": "view-in-github",
        "colab_type": "text"
      },
      "source": [
        "<a href=\"https://colab.research.google.com/github/sajithsajith/learning-journal/blob/main/AI/natural-language-processing/NLP_FreeCodeCamp.ipynb\" target=\"_parent\"><img src=\"https://colab.research.google.com/assets/colab-badge.svg\" alt=\"Open In Colab\"/></a>"
      ]
    },
    {
      "cell_type": "code",
      "execution_count": 1,
      "metadata": {
        "colab": {
          "base_uri": "https://localhost:8080/"
        },
        "id": "sixhKvwremhK",
        "outputId": "f5f333b6-5e93-422a-d7cd-111f75ce6f5c"
      },
      "outputs": [
        {
          "output_type": "stream",
          "name": "stdout",
          "text": [
            "Requirement already satisfied: nltk in /usr/local/lib/python3.11/dist-packages (3.9.1)\n",
            "Requirement already satisfied: click in /usr/local/lib/python3.11/dist-packages (from nltk) (8.2.1)\n",
            "Requirement already satisfied: joblib in /usr/local/lib/python3.11/dist-packages (from nltk) (1.5.1)\n",
            "Requirement already satisfied: regex>=2021.8.3 in /usr/local/lib/python3.11/dist-packages (from nltk) (2024.11.6)\n",
            "Requirement already satisfied: tqdm in /usr/local/lib/python3.11/dist-packages (from nltk) (4.67.1)\n"
          ]
        }
      ],
      "source": [
        "pip install nltk"
      ]
    },
    {
      "cell_type": "code",
      "source": [
        "import os\n",
        "import nltk\n",
        "import nltk.corpus"
      ],
      "metadata": {
        "id": "Nlp3YZlpe902"
      },
      "execution_count": 2,
      "outputs": []
    },
    {
      "cell_type": "code",
      "source": [
        "nltk.download()"
      ],
      "metadata": {
        "id": "V41iFdpjhqpA",
        "outputId": "c3ad29d2-51a2-4421-8d57-5818626233db",
        "colab": {
          "base_uri": "https://localhost:8080/"
        }
      },
      "execution_count": 3,
      "outputs": [
        {
          "name": "stdout",
          "output_type": "stream",
          "text": [
            "NLTK Downloader\n",
            "---------------------------------------------------------------------------\n",
            "    d) Download   l) List    u) Update   c) Config   h) Help   q) Quit\n",
            "---------------------------------------------------------------------------\n",
            "Downloader> d\n",
            "\n",
            "Download which package (l=list; x=cancel)?\n",
            "  Identifier> \n",
            "\n",
            "---------------------------------------------------------------------------\n",
            "    d) Download   l) List    u) Update   c) Config   h) Help   q) Quit\n",
            "---------------------------------------------------------------------------\n",
            "Downloader> d\n",
            "\n",
            "Download which package (l=list; x=cancel)?\n",
            "  Identifier> l\n",
            "Packages:\n",
            "  [ ] abc................. Australian Broadcasting Commission 2006\n",
            "  [ ] alpino.............. Alpino Dutch Treebank\n",
            "  [ ] averaged_perceptron_tagger Averaged Perceptron Tagger\n",
            "  [ ] averaged_perceptron_tagger_eng Averaged Perceptron Tagger (JSON)\n",
            "  [ ] averaged_perceptron_tagger_ru Averaged Perceptron Tagger (Russian)\n",
            "  [ ] averaged_perceptron_tagger_rus Averaged Perceptron Tagger (Russian)\n",
            "  [ ] basque_grammars..... Grammars for Basque\n",
            "  [ ] bcp47............... BCP-47 Language Tags\n",
            "  [ ] biocreative_ppi..... BioCreAtIvE (Critical Assessment of Information\n",
            "                           Extraction Systems in Biology)\n",
            "  [ ] bllip_wsj_no_aux.... BLLIP Parser: WSJ Model\n",
            "  [ ] book_grammars....... Grammars from NLTK Book\n",
            "  [ ] brown............... Brown Corpus\n",
            "  [ ] brown_tei........... Brown Corpus (TEI XML Version)\n",
            "  [ ] cess_cat............ CESS-CAT Treebank\n",
            "  [ ] cess_esp............ CESS-ESP Treebank\n",
            "  [ ] chat80.............. Chat-80 Data Files\n",
            "  [ ] city_database....... City Database\n",
            "  [ ] cmudict............. The Carnegie Mellon Pronouncing Dictionary (0.6)\n",
            "  [ ] comparative_sentences Comparative Sentence Dataset\n",
            "Hit Enter to continue: \n",
            "  [ ] comtrans............ ComTrans Corpus Sample\n",
            "  [ ] conll2000........... CONLL 2000 Chunking Corpus\n",
            "  [ ] conll2002........... CONLL 2002 Named Entity Recognition Corpus\n",
            "  [ ] conll2007........... Dependency Treebanks from CoNLL 2007 (Catalan\n",
            "                           and Basque Subset)\n",
            "  [ ] crubadan............ Crubadan Corpus\n",
            "  [ ] dependency_treebank. Dependency Parsed Treebank\n",
            "  [ ] dolch............... Dolch Word List\n",
            "  [ ] english_wordnet..... Open English Wordnet\n",
            "  [ ] europarl_raw........ Sample European Parliament Proceedings Parallel\n",
            "                           Corpus\n",
            "  [ ] extended_omw........ Extended Open Multilingual WordNet\n",
            "  [ ] floresta............ Portuguese Treebank\n",
            "  [ ] framenet_v15........ FrameNet 1.5\n",
            "  [ ] framenet_v17........ FrameNet 1.7\n",
            "  [ ] gazetteers.......... Gazeteer Lists\n",
            "  [ ] genesis............. Genesis Corpus\n",
            "  [ ] gutenberg........... Project Gutenberg Selections\n",
            "  [ ] ieer................ NIST IE-ER DATA SAMPLE\n",
            "  [ ] inaugural........... C-Span Inaugural Address Corpus\n",
            "  [ ] indian.............. Indian Language POS-Tagged Corpus\n",
            "Hit Enter to continue: \n",
            "  [ ] jeita............... JEITA Public Morphologically Tagged Corpus (in\n",
            "                           ChaSen format)\n",
            "  [ ] kimmo............... PC-KIMMO Data Files\n",
            "  [ ] knbc................ KNB Corpus (Annotated blog corpus)\n",
            "  [ ] large_grammars...... Large context-free and feature-based grammars\n",
            "                           for parser comparison\n",
            "  [ ] lin_thesaurus....... Lin's Dependency Thesaurus\n",
            "  [ ] mac_morpho.......... MAC-MORPHO: Brazilian Portuguese news text with\n",
            "                           part-of-speech tags\n",
            "  [ ] machado............. Machado de Assis -- Obra Completa\n",
            "  [ ] masc_tagged......... MASC Tagged Corpus\n",
            "  [ ] maxent_ne_chunker... ACE Named Entity Chunker (Maximum entropy)\n",
            "  [ ] maxent_ne_chunker_tab ACE Named Entity Chunker (Maximum entropy)\n",
            "  [ ] maxent_treebank_pos_tagger Treebank Part of Speech Tagger (Maximum entropy)\n",
            "  [ ] maxent_treebank_pos_tagger_tab Treebank Part of Speech Tagger (Maximum entropy)\n",
            "  [ ] moses_sample........ Moses Sample Models\n",
            "  [ ] movie_reviews....... Sentiment Polarity Dataset Version 2.0\n",
            "  [ ] mte_teip5........... MULTEXT-East 1984 annotated corpus 4.0\n",
            "  [ ] mwa_ppdb............ The monolingual word aligner (Sultan et al.\n",
            "                           2015) subset of the Paraphrase Database.\n",
            "  [ ] names............... Names Corpus, Version 1.3 (1994-03-29)\n",
            "Hit Enter to continue: \n",
            "  [ ] nombank.1.0......... NomBank Corpus 1.0\n",
            "  [ ] nonbreaking_prefixes Non-Breaking Prefixes (Moses Decoder)\n",
            "  [ ] nps_chat............ NPS Chat\n",
            "  [ ] omw-1.4............. Open Multilingual Wordnet\n",
            "  [ ] omw................. Open Multilingual Wordnet\n",
            "  [ ] opinion_lexicon..... Opinion Lexicon\n",
            "  [ ] panlex_swadesh...... PanLex Swadesh Corpora\n",
            "  [ ] paradigms........... Paradigm Corpus\n",
            "  [ ] pe08................ Cross-Framework and Cross-Domain Parser\n",
            "                           Evaluation Shared Task\n",
            "  [ ] perluniprops........ perluniprops: Index of Unicode Version 7.0.0\n",
            "                           character properties in Perl\n",
            "  [ ] pil................. The Patient Information Leaflet (PIL) Corpus\n",
            "  [ ] pl196x.............. Polish language of the XX century sixties\n",
            "  [ ] porter_test......... Porter Stemmer Test Files\n",
            "  [ ] ppattach............ Prepositional Phrase Attachment Corpus\n",
            "  [ ] problem_reports..... Problem Report Corpus\n",
            "  [ ] product_reviews_1... Product Reviews (5 Products)\n",
            "  [ ] product_reviews_2... Product Reviews (9 Products)\n",
            "  [ ] propbank............ Proposition Bank Corpus 1.0\n",
            "  [ ] pros_cons........... Pros and Cons\n",
            "Hit Enter to continue: \n",
            "  [ ] ptb................. Penn Treebank\n",
            "  [ ] punkt............... Punkt Tokenizer Models\n",
            "  [ ] punkt_tab........... Punkt Tokenizer Models\n",
            "  [ ] qc.................. Experimental Data for Question Classification\n",
            "  [ ] reuters............. The Reuters-21578 benchmark corpus, ApteMod\n",
            "                           version\n",
            "  [ ] rslp................ RSLP Stemmer (Removedor de Sufixos da Lingua\n",
            "                           Portuguesa)\n",
            "  [ ] rte................. PASCAL RTE Challenges 1, 2, and 3\n",
            "  [ ] sample_grammars..... Sample Grammars\n",
            "  [ ] semcor.............. SemCor 3.0\n",
            "  [ ] senseval............ SENSEVAL 2 Corpus: Sense Tagged Text\n",
            "  [ ] sentence_polarity... Sentence Polarity Dataset v1.0\n",
            "  [ ] sentiwordnet........ SentiWordNet\n",
            "  [ ] shakespeare......... Shakespeare XML Corpus Sample\n",
            "  [ ] sinica_treebank..... Sinica Treebank Corpus Sample\n",
            "  [ ] smultron............ SMULTRON Corpus Sample\n",
            "  [ ] snowball_data....... Snowball Data\n",
            "  [ ] spanish_grammars.... Grammars for Spanish\n",
            "  [ ] state_union......... C-Span State of the Union Address Corpus\n",
            "  [ ] stopwords........... Stopwords Corpus\n",
            "Hit Enter to continue: \n",
            "  [ ] subjectivity........ Subjectivity Dataset v1.0\n",
            "  [ ] swadesh............. Swadesh Wordlists\n",
            "  [ ] switchboard......... Switchboard Corpus Sample\n",
            "  [ ] tagsets............. Help on Tagsets\n",
            "  [ ] tagsets_json........ Help on Tagsets (JSON)\n",
            "  [ ] timit............... TIMIT Corpus Sample\n",
            "  [ ] toolbox............. Toolbox Sample Files\n",
            "  [ ] treebank............ Penn Treebank Sample\n",
            "  [ ] twitter_samples..... Twitter Samples\n",
            "  [ ] udhr2............... Universal Declaration of Human Rights Corpus\n",
            "                           (Unicode Version)\n",
            "  [ ] udhr................ Universal Declaration of Human Rights Corpus\n",
            "  [ ] unicode_samples..... Unicode Samples\n",
            "  [ ] universal_tagset.... Mappings to the Universal Part-of-Speech Tagset\n",
            "  [ ] universal_treebanks_v20 Universal Treebanks Version 2.0\n",
            "  [ ] vader_lexicon....... VADER Sentiment Lexicon\n",
            "  [ ] verbnet3............ VerbNet Lexicon, Version 3.3\n",
            "  [ ] verbnet............. VerbNet Lexicon, Version 2.1\n",
            "  [ ] webtext............. Web Text Corpus\n",
            "  [ ] wmt15_eval.......... Evaluation data from WMT15\n",
            "  [ ] word2vec_sample..... Word2Vec Sample\n",
            "Hit Enter to continue: \n",
            "  [ ] wordnet2021......... Open English Wordnet 2021\n",
            "  [ ] wordnet2022......... Open English Wordnet 2022\n",
            "  [ ] wordnet31........... Wordnet 3.1\n",
            "  [ ] wordnet............. WordNet\n",
            "  [ ] wordnet_ic.......... WordNet-InfoContent\n",
            "  [ ] words............... Word Lists\n",
            "  [ ] ycoe................ York-Toronto-Helsinki Parsed Corpus of Old\n",
            "                           English Prose\n",
            "\n",
            "Collections:\n",
            "  [ ] all-corpora......... All the corpora\n",
            "  [ ] all-nltk............ All packages available on nltk_data gh-pages\n",
            "                           branch\n",
            "  [ ] all................. All packages\n",
            "  [ ] book................ Everything used in the NLTK Book\n",
            "  [ ] popular............. Popular packages\n",
            "  [ ] tests............... Packages for running tests\n",
            "  [ ] third-party......... Third-party data packages\n",
            "\n",
            "([*] marks installed packages)\n",
            "\n",
            "Download which package (l=list; x=cancel)?\n",
            "  Identifier> all\n"
          ]
        },
        {
          "output_type": "stream",
          "name": "stderr",
          "text": [
            "    Downloading collection 'all'\n",
            "       | \n",
            "       | Downloading package abc to /root/nltk_data...\n",
            "       |   Unzipping corpora/abc.zip.\n",
            "       | Downloading package alpino to /root/nltk_data...\n",
            "       |   Unzipping corpora/alpino.zip.\n",
            "       | Downloading package averaged_perceptron_tagger to\n",
            "       |     /root/nltk_data...\n",
            "       |   Unzipping taggers/averaged_perceptron_tagger.zip.\n",
            "       | Downloading package averaged_perceptron_tagger_eng to\n",
            "       |     /root/nltk_data...\n",
            "       |   Unzipping taggers/averaged_perceptron_tagger_eng.zip.\n",
            "       | Downloading package averaged_perceptron_tagger_ru to\n",
            "       |     /root/nltk_data...\n",
            "       |   Unzipping taggers/averaged_perceptron_tagger_ru.zip.\n",
            "       | Downloading package averaged_perceptron_tagger_rus to\n",
            "       |     /root/nltk_data...\n",
            "       |   Unzipping taggers/averaged_perceptron_tagger_rus.zip.\n",
            "       | Downloading package basque_grammars to /root/nltk_data...\n",
            "       |   Unzipping grammars/basque_grammars.zip.\n",
            "       | Downloading package bcp47 to /root/nltk_data...\n",
            "       | Downloading package biocreative_ppi to /root/nltk_data...\n",
            "       |   Unzipping corpora/biocreative_ppi.zip.\n",
            "       | Downloading package bllip_wsj_no_aux to /root/nltk_data...\n",
            "       |   Unzipping models/bllip_wsj_no_aux.zip.\n",
            "       | Downloading package book_grammars to /root/nltk_data...\n",
            "       |   Unzipping grammars/book_grammars.zip.\n",
            "       | Downloading package brown to /root/nltk_data...\n",
            "       |   Unzipping corpora/brown.zip.\n",
            "       | Downloading package brown_tei to /root/nltk_data...\n",
            "       |   Unzipping corpora/brown_tei.zip.\n",
            "       | Downloading package cess_cat to /root/nltk_data...\n",
            "       |   Unzipping corpora/cess_cat.zip.\n",
            "       | Downloading package cess_esp to /root/nltk_data...\n",
            "       |   Unzipping corpora/cess_esp.zip.\n",
            "       | Downloading package chat80 to /root/nltk_data...\n",
            "       |   Unzipping corpora/chat80.zip.\n",
            "       | Downloading package city_database to /root/nltk_data...\n",
            "       |   Unzipping corpora/city_database.zip.\n",
            "       | Downloading package cmudict to /root/nltk_data...\n",
            "       |   Unzipping corpora/cmudict.zip.\n",
            "       | Downloading package comparative_sentences to\n",
            "       |     /root/nltk_data...\n",
            "       |   Unzipping corpora/comparative_sentences.zip.\n",
            "       | Downloading package comtrans to /root/nltk_data...\n",
            "       | Downloading package conll2000 to /root/nltk_data...\n",
            "       |   Unzipping corpora/conll2000.zip.\n",
            "       | Downloading package conll2002 to /root/nltk_data...\n",
            "       |   Unzipping corpora/conll2002.zip.\n",
            "       | Downloading package conll2007 to /root/nltk_data...\n",
            "       | Downloading package crubadan to /root/nltk_data...\n",
            "       |   Unzipping corpora/crubadan.zip.\n",
            "       | Downloading package dependency_treebank to /root/nltk_data...\n",
            "       |   Unzipping corpora/dependency_treebank.zip.\n",
            "       | Downloading package dolch to /root/nltk_data...\n",
            "       |   Unzipping corpora/dolch.zip.\n",
            "       | Downloading package english_wordnet to /root/nltk_data...\n",
            "       |   Unzipping corpora/english_wordnet.zip.\n",
            "       | Downloading package europarl_raw to /root/nltk_data...\n",
            "       |   Unzipping corpora/europarl_raw.zip.\n",
            "       | Downloading package extended_omw to /root/nltk_data...\n",
            "       | Downloading package floresta to /root/nltk_data...\n",
            "       |   Unzipping corpora/floresta.zip.\n",
            "       | Downloading package framenet_v15 to /root/nltk_data...\n",
            "       |   Unzipping corpora/framenet_v15.zip.\n",
            "       | Downloading package framenet_v17 to /root/nltk_data...\n",
            "       |   Unzipping corpora/framenet_v17.zip.\n",
            "       | Downloading package gazetteers to /root/nltk_data...\n",
            "       |   Unzipping corpora/gazetteers.zip.\n",
            "       | Downloading package genesis to /root/nltk_data...\n",
            "       |   Unzipping corpora/genesis.zip.\n",
            "       | Downloading package gutenberg to /root/nltk_data...\n",
            "       |   Unzipping corpora/gutenberg.zip.\n",
            "       | Downloading package ieer to /root/nltk_data...\n",
            "       |   Unzipping corpora/ieer.zip.\n",
            "       | Downloading package inaugural to /root/nltk_data...\n",
            "       |   Unzipping corpora/inaugural.zip.\n",
            "       | Downloading package indian to /root/nltk_data...\n",
            "       |   Unzipping corpora/indian.zip.\n",
            "       | Downloading package jeita to /root/nltk_data...\n",
            "       | Downloading package kimmo to /root/nltk_data...\n",
            "       |   Unzipping corpora/kimmo.zip.\n",
            "       | Downloading package knbc to /root/nltk_data...\n",
            "       | Downloading package large_grammars to /root/nltk_data...\n",
            "       |   Unzipping grammars/large_grammars.zip.\n",
            "       | Downloading package lin_thesaurus to /root/nltk_data...\n",
            "       |   Unzipping corpora/lin_thesaurus.zip.\n",
            "       | Downloading package mac_morpho to /root/nltk_data...\n",
            "       |   Unzipping corpora/mac_morpho.zip.\n",
            "       | Downloading package machado to /root/nltk_data...\n",
            "       | Downloading package masc_tagged to /root/nltk_data...\n",
            "       | Downloading package maxent_ne_chunker to /root/nltk_data...\n",
            "       |   Unzipping chunkers/maxent_ne_chunker.zip.\n",
            "       | Downloading package maxent_ne_chunker_tab to\n",
            "       |     /root/nltk_data...\n",
            "       |   Unzipping chunkers/maxent_ne_chunker_tab.zip.\n",
            "       | Downloading package maxent_treebank_pos_tagger to\n",
            "       |     /root/nltk_data...\n",
            "       |   Unzipping taggers/maxent_treebank_pos_tagger.zip.\n",
            "       | Downloading package maxent_treebank_pos_tagger_tab to\n",
            "       |     /root/nltk_data...\n",
            "       |   Unzipping taggers/maxent_treebank_pos_tagger_tab.zip.\n",
            "       | Downloading package moses_sample to /root/nltk_data...\n",
            "       |   Unzipping models/moses_sample.zip.\n",
            "       | Downloading package movie_reviews to /root/nltk_data...\n",
            "       |   Unzipping corpora/movie_reviews.zip.\n",
            "       | Downloading package mte_teip5 to /root/nltk_data...\n",
            "       |   Unzipping corpora/mte_teip5.zip.\n",
            "       | Downloading package mwa_ppdb to /root/nltk_data...\n",
            "       |   Unzipping misc/mwa_ppdb.zip.\n",
            "       | Downloading package names to /root/nltk_data...\n",
            "       |   Unzipping corpora/names.zip.\n",
            "       | Downloading package nombank.1.0 to /root/nltk_data...\n",
            "       | Downloading package nonbreaking_prefixes to\n",
            "       |     /root/nltk_data...\n",
            "       |   Unzipping corpora/nonbreaking_prefixes.zip.\n",
            "       | Downloading package nps_chat to /root/nltk_data...\n",
            "       |   Unzipping corpora/nps_chat.zip.\n",
            "       | Downloading package omw to /root/nltk_data...\n",
            "       | Downloading package omw-1.4 to /root/nltk_data...\n",
            "       | Downloading package opinion_lexicon to /root/nltk_data...\n",
            "       |   Unzipping corpora/opinion_lexicon.zip.\n",
            "       | Downloading package panlex_swadesh to /root/nltk_data...\n",
            "       | Downloading package paradigms to /root/nltk_data...\n",
            "       |   Unzipping corpora/paradigms.zip.\n",
            "       | Downloading package pe08 to /root/nltk_data...\n",
            "       |   Unzipping corpora/pe08.zip.\n",
            "       | Downloading package perluniprops to /root/nltk_data...\n",
            "       |   Unzipping misc/perluniprops.zip.\n",
            "       | Downloading package pil to /root/nltk_data...\n",
            "       |   Unzipping corpora/pil.zip.\n",
            "       | Downloading package pl196x to /root/nltk_data...\n",
            "       |   Unzipping corpora/pl196x.zip.\n",
            "       | Downloading package porter_test to /root/nltk_data...\n",
            "       |   Unzipping stemmers/porter_test.zip.\n",
            "       | Downloading package ppattach to /root/nltk_data...\n",
            "       |   Unzipping corpora/ppattach.zip.\n",
            "       | Downloading package problem_reports to /root/nltk_data...\n",
            "       |   Unzipping corpora/problem_reports.zip.\n",
            "       | Downloading package product_reviews_1 to /root/nltk_data...\n",
            "       |   Unzipping corpora/product_reviews_1.zip.\n",
            "       | Downloading package product_reviews_2 to /root/nltk_data...\n",
            "       |   Unzipping corpora/product_reviews_2.zip.\n",
            "       | Downloading package propbank to /root/nltk_data...\n",
            "       | Downloading package pros_cons to /root/nltk_data...\n",
            "       |   Unzipping corpora/pros_cons.zip.\n",
            "       | Downloading package ptb to /root/nltk_data...\n",
            "       |   Unzipping corpora/ptb.zip.\n",
            "       | Downloading package punkt to /root/nltk_data...\n",
            "       |   Unzipping tokenizers/punkt.zip.\n",
            "       | Downloading package punkt_tab to /root/nltk_data...\n",
            "       |   Unzipping tokenizers/punkt_tab.zip.\n",
            "       | Downloading package qc to /root/nltk_data...\n",
            "       |   Unzipping corpora/qc.zip.\n",
            "       | Downloading package reuters to /root/nltk_data...\n",
            "       | Downloading package rslp to /root/nltk_data...\n",
            "       |   Unzipping stemmers/rslp.zip.\n",
            "       | Downloading package rte to /root/nltk_data...\n",
            "       |   Unzipping corpora/rte.zip.\n",
            "       | Downloading package sample_grammars to /root/nltk_data...\n",
            "       |   Unzipping grammars/sample_grammars.zip.\n",
            "       | Downloading package semcor to /root/nltk_data...\n",
            "       | Downloading package senseval to /root/nltk_data...\n",
            "       |   Unzipping corpora/senseval.zip.\n",
            "       | Downloading package sentence_polarity to /root/nltk_data...\n",
            "       |   Unzipping corpora/sentence_polarity.zip.\n",
            "       | Downloading package sentiwordnet to /root/nltk_data...\n",
            "       |   Unzipping corpora/sentiwordnet.zip.\n",
            "       | Downloading package shakespeare to /root/nltk_data...\n",
            "       |   Unzipping corpora/shakespeare.zip.\n",
            "       | Downloading package sinica_treebank to /root/nltk_data...\n",
            "       |   Unzipping corpora/sinica_treebank.zip.\n",
            "       | Downloading package smultron to /root/nltk_data...\n",
            "       |   Unzipping corpora/smultron.zip.\n",
            "       | Downloading package snowball_data to /root/nltk_data...\n",
            "       | Downloading package spanish_grammars to /root/nltk_data...\n",
            "       |   Unzipping grammars/spanish_grammars.zip.\n",
            "       | Downloading package state_union to /root/nltk_data...\n",
            "       |   Unzipping corpora/state_union.zip.\n",
            "       | Downloading package stopwords to /root/nltk_data...\n",
            "       |   Unzipping corpora/stopwords.zip.\n",
            "       | Downloading package subjectivity to /root/nltk_data...\n",
            "       |   Unzipping corpora/subjectivity.zip.\n",
            "       | Downloading package swadesh to /root/nltk_data...\n",
            "       |   Unzipping corpora/swadesh.zip.\n",
            "       | Downloading package switchboard to /root/nltk_data...\n",
            "       |   Unzipping corpora/switchboard.zip.\n",
            "       | Downloading package tagsets to /root/nltk_data...\n",
            "       |   Unzipping help/tagsets.zip.\n",
            "       | Downloading package tagsets_json to /root/nltk_data...\n",
            "       |   Unzipping help/tagsets_json.zip.\n",
            "       | Downloading package timit to /root/nltk_data...\n",
            "       |   Unzipping corpora/timit.zip.\n",
            "       | Downloading package toolbox to /root/nltk_data...\n",
            "       |   Unzipping corpora/toolbox.zip.\n",
            "       | Downloading package treebank to /root/nltk_data...\n",
            "       |   Unzipping corpora/treebank.zip.\n",
            "       | Downloading package twitter_samples to /root/nltk_data...\n",
            "       |   Unzipping corpora/twitter_samples.zip.\n",
            "       | Downloading package udhr to /root/nltk_data...\n",
            "       |   Unzipping corpora/udhr.zip.\n",
            "       | Downloading package udhr2 to /root/nltk_data...\n",
            "       |   Unzipping corpora/udhr2.zip.\n",
            "       | Downloading package unicode_samples to /root/nltk_data...\n",
            "       |   Unzipping corpora/unicode_samples.zip.\n",
            "       | Downloading package universal_tagset to /root/nltk_data...\n",
            "       |   Unzipping taggers/universal_tagset.zip.\n",
            "       | Downloading package universal_treebanks_v20 to\n",
            "       |     /root/nltk_data...\n",
            "       | Downloading package vader_lexicon to /root/nltk_data...\n",
            "       | Downloading package verbnet to /root/nltk_data...\n",
            "       |   Unzipping corpora/verbnet.zip.\n",
            "       | Downloading package verbnet3 to /root/nltk_data...\n",
            "       |   Unzipping corpora/verbnet3.zip.\n",
            "       | Downloading package webtext to /root/nltk_data...\n",
            "       |   Unzipping corpora/webtext.zip.\n",
            "       | Downloading package wmt15_eval to /root/nltk_data...\n",
            "       |   Unzipping models/wmt15_eval.zip.\n",
            "       | Downloading package word2vec_sample to /root/nltk_data...\n",
            "       |   Unzipping models/word2vec_sample.zip.\n",
            "       | Downloading package wordnet to /root/nltk_data...\n",
            "       | Downloading package wordnet2021 to /root/nltk_data...\n",
            "       | Downloading package wordnet2022 to /root/nltk_data...\n",
            "       |   Unzipping corpora/wordnet2022.zip.\n",
            "       | Downloading package wordnet31 to /root/nltk_data...\n",
            "       | Downloading package wordnet_ic to /root/nltk_data...\n",
            "       |   Unzipping corpora/wordnet_ic.zip.\n",
            "       | Downloading package words to /root/nltk_data...\n",
            "       |   Unzipping corpora/words.zip.\n",
            "       | Downloading package ycoe to /root/nltk_data...\n",
            "       |   Unzipping corpora/ycoe.zip.\n",
            "       | \n",
            "     Done downloading collection all\n"
          ]
        },
        {
          "name": "stdout",
          "output_type": "stream",
          "text": [
            "\n",
            "---------------------------------------------------------------------------\n",
            "    d) Download   l) List    u) Update   c) Config   h) Help   q) Quit\n",
            "---------------------------------------------------------------------------\n",
            "Downloader> q\n"
          ]
        },
        {
          "output_type": "execute_result",
          "data": {
            "text/plain": [
              "True"
            ]
          },
          "metadata": {},
          "execution_count": 3
        }
      ]
    },
    {
      "cell_type": "code",
      "source": [
        "datas = os.listdir(nltk.data.find(\"corpora\"))\n",
        "datas.sort()\n",
        "datas"
      ],
      "metadata": {
        "colab": {
          "base_uri": "https://localhost:8080/"
        },
        "id": "szzQf7bGfa4u",
        "outputId": "92d89671-b644-4940-8dc2-d44e9a9b2902"
      },
      "execution_count": 4,
      "outputs": [
        {
          "output_type": "execute_result",
          "data": {
            "text/plain": [
              "['abc',\n",
              " 'abc.zip',\n",
              " 'alpino',\n",
              " 'alpino.zip',\n",
              " 'bcp47.zip',\n",
              " 'biocreative_ppi',\n",
              " 'biocreative_ppi.zip',\n",
              " 'brown',\n",
              " 'brown.zip',\n",
              " 'brown_tei',\n",
              " 'brown_tei.zip',\n",
              " 'cess_cat',\n",
              " 'cess_cat.zip',\n",
              " 'cess_esp',\n",
              " 'cess_esp.zip',\n",
              " 'chat80',\n",
              " 'chat80.zip',\n",
              " 'city_database',\n",
              " 'city_database.zip',\n",
              " 'cmudict',\n",
              " 'cmudict.zip',\n",
              " 'comparative_sentences',\n",
              " 'comparative_sentences.zip',\n",
              " 'comtrans.zip',\n",
              " 'conll2000',\n",
              " 'conll2000.zip',\n",
              " 'conll2002',\n",
              " 'conll2002.zip',\n",
              " 'conll2007.zip',\n",
              " 'crubadan',\n",
              " 'crubadan.zip',\n",
              " 'dependency_treebank',\n",
              " 'dependency_treebank.zip',\n",
              " 'dolch',\n",
              " 'dolch.zip',\n",
              " 'english_wordnet',\n",
              " 'english_wordnet.zip',\n",
              " 'europarl_raw',\n",
              " 'europarl_raw.zip',\n",
              " 'extended_omw.zip',\n",
              " 'floresta',\n",
              " 'floresta.zip',\n",
              " 'framenet_v15',\n",
              " 'framenet_v15.zip',\n",
              " 'framenet_v17',\n",
              " 'framenet_v17.zip',\n",
              " 'gazetteers',\n",
              " 'gazetteers.zip',\n",
              " 'genesis',\n",
              " 'genesis.zip',\n",
              " 'gutenberg',\n",
              " 'gutenberg.zip',\n",
              " 'ieer',\n",
              " 'ieer.zip',\n",
              " 'inaugural',\n",
              " 'inaugural.zip',\n",
              " 'indian',\n",
              " 'indian.zip',\n",
              " 'jeita.zip',\n",
              " 'kimmo',\n",
              " 'kimmo.zip',\n",
              " 'knbc.zip',\n",
              " 'lin_thesaurus',\n",
              " 'lin_thesaurus.zip',\n",
              " 'mac_morpho',\n",
              " 'mac_morpho.zip',\n",
              " 'machado.zip',\n",
              " 'masc_tagged.zip',\n",
              " 'movie_reviews',\n",
              " 'movie_reviews.zip',\n",
              " 'mte_teip5',\n",
              " 'mte_teip5.zip',\n",
              " 'names',\n",
              " 'names.zip',\n",
              " 'nombank.1.0.zip',\n",
              " 'nonbreaking_prefixes',\n",
              " 'nonbreaking_prefixes.zip',\n",
              " 'nps_chat',\n",
              " 'nps_chat.zip',\n",
              " 'omw-1.4.zip',\n",
              " 'omw.zip',\n",
              " 'opinion_lexicon',\n",
              " 'opinion_lexicon.zip',\n",
              " 'panlex_swadesh.zip',\n",
              " 'paradigms',\n",
              " 'paradigms.zip',\n",
              " 'pe08',\n",
              " 'pe08.zip',\n",
              " 'pil',\n",
              " 'pil.zip',\n",
              " 'pl196x',\n",
              " 'pl196x.zip',\n",
              " 'ppattach',\n",
              " 'ppattach.zip',\n",
              " 'problem_reports',\n",
              " 'problem_reports.zip',\n",
              " 'product_reviews_1',\n",
              " 'product_reviews_1.zip',\n",
              " 'product_reviews_2',\n",
              " 'product_reviews_2.zip',\n",
              " 'propbank.zip',\n",
              " 'pros_cons',\n",
              " 'pros_cons.zip',\n",
              " 'ptb',\n",
              " 'ptb.zip',\n",
              " 'qc',\n",
              " 'qc.zip',\n",
              " 'reuters.zip',\n",
              " 'rte',\n",
              " 'rte.zip',\n",
              " 'semcor.zip',\n",
              " 'senseval',\n",
              " 'senseval.zip',\n",
              " 'sentence_polarity',\n",
              " 'sentence_polarity.zip',\n",
              " 'sentiwordnet',\n",
              " 'sentiwordnet.zip',\n",
              " 'shakespeare',\n",
              " 'shakespeare.zip',\n",
              " 'sinica_treebank',\n",
              " 'sinica_treebank.zip',\n",
              " 'smultron',\n",
              " 'smultron.zip',\n",
              " 'state_union',\n",
              " 'state_union.zip',\n",
              " 'stopwords',\n",
              " 'stopwords.zip',\n",
              " 'subjectivity',\n",
              " 'subjectivity.zip',\n",
              " 'swadesh',\n",
              " 'swadesh.zip',\n",
              " 'switchboard',\n",
              " 'switchboard.zip',\n",
              " 'timit',\n",
              " 'timit.zip',\n",
              " 'toolbox',\n",
              " 'toolbox.zip',\n",
              " 'treebank',\n",
              " 'treebank.zip',\n",
              " 'twitter_samples',\n",
              " 'twitter_samples.zip',\n",
              " 'udhr',\n",
              " 'udhr.zip',\n",
              " 'udhr2',\n",
              " 'udhr2.zip',\n",
              " 'unicode_samples',\n",
              " 'unicode_samples.zip',\n",
              " 'universal_treebanks_v20.zip',\n",
              " 'verbnet',\n",
              " 'verbnet.zip',\n",
              " 'verbnet3',\n",
              " 'verbnet3.zip',\n",
              " 'webtext',\n",
              " 'webtext.zip',\n",
              " 'wordnet.zip',\n",
              " 'wordnet2021.zip',\n",
              " 'wordnet2022',\n",
              " 'wordnet2022.zip',\n",
              " 'wordnet31.zip',\n",
              " 'wordnet_ic',\n",
              " 'wordnet_ic.zip',\n",
              " 'words',\n",
              " 'words.zip',\n",
              " 'ycoe',\n",
              " 'ycoe.zip']"
            ]
          },
          "metadata": {},
          "execution_count": 4
        }
      ]
    },
    {
      "cell_type": "code",
      "source": [
        "from nltk.corpus import brown\n",
        "brown.words()"
      ],
      "metadata": {
        "colab": {
          "base_uri": "https://localhost:8080/"
        },
        "id": "J30EAep5heOh",
        "outputId": "6f4927f7-7eb5-4b5e-b3d2-fcfc1c03a80a"
      },
      "execution_count": 5,
      "outputs": [
        {
          "output_type": "execute_result",
          "data": {
            "text/plain": [
              "['The', 'Fulton', 'County', 'Grand', 'Jury', 'said', ...]"
            ]
          },
          "metadata": {},
          "execution_count": 5
        }
      ]
    },
    {
      "cell_type": "code",
      "source": [
        "nltk.corpus.gutenberg.fileids()"
      ],
      "metadata": {
        "colab": {
          "base_uri": "https://localhost:8080/"
        },
        "id": "CK8G3DHUgQWJ",
        "outputId": "cc656a61-9cc5-4547-a2cc-111073595822"
      },
      "execution_count": 6,
      "outputs": [
        {
          "output_type": "execute_result",
          "data": {
            "text/plain": [
              "['austen-emma.txt',\n",
              " 'austen-persuasion.txt',\n",
              " 'austen-sense.txt',\n",
              " 'bible-kjv.txt',\n",
              " 'blake-poems.txt',\n",
              " 'bryant-stories.txt',\n",
              " 'burgess-busterbrown.txt',\n",
              " 'carroll-alice.txt',\n",
              " 'chesterton-ball.txt',\n",
              " 'chesterton-brown.txt',\n",
              " 'chesterton-thursday.txt',\n",
              " 'edgeworth-parents.txt',\n",
              " 'melville-moby_dick.txt',\n",
              " 'milton-paradise.txt',\n",
              " 'shakespeare-caesar.txt',\n",
              " 'shakespeare-hamlet.txt',\n",
              " 'shakespeare-macbeth.txt',\n",
              " 'whitman-leaves.txt']"
            ]
          },
          "metadata": {},
          "execution_count": 6
        }
      ]
    },
    {
      "cell_type": "code",
      "source": [
        "hamlet = nltk.corpus.gutenberg.words('shakespeare-hamlet.txt')\n",
        "hamlet"
      ],
      "metadata": {
        "colab": {
          "base_uri": "https://localhost:8080/"
        },
        "id": "fqaJhIxiiIZM",
        "outputId": "7ca0b184-d1b7-40b2-e87c-bc510926a1d1"
      },
      "execution_count": 7,
      "outputs": [
        {
          "output_type": "execute_result",
          "data": {
            "text/plain": [
              "['[', 'The', 'Tragedie', 'of', 'Hamlet', 'by', ...]"
            ]
          },
          "metadata": {},
          "execution_count": 7
        }
      ]
    },
    {
      "cell_type": "code",
      "source": [
        "len(hamlet)"
      ],
      "metadata": {
        "colab": {
          "base_uri": "https://localhost:8080/"
        },
        "id": "iZJrYCiBibju",
        "outputId": "19b57ca8-880f-4b0b-eff2-a30284bf9d0a"
      },
      "execution_count": 8,
      "outputs": [
        {
          "output_type": "execute_result",
          "data": {
            "text/plain": [
              "37360"
            ]
          },
          "metadata": {},
          "execution_count": 8
        }
      ]
    },
    {
      "cell_type": "code",
      "source": [
        "words = \"\"\n",
        "for word in hamlet[:100]:\n",
        "  words += word + \" \"\n",
        "words"
      ],
      "metadata": {
        "colab": {
          "base_uri": "https://localhost:8080/",
          "height": 122
        },
        "id": "r62a1QwpiiMg",
        "outputId": "7e7eb7a5-8414-412b-9b6b-12153386c9c5"
      },
      "execution_count": 9,
      "outputs": [
        {
          "output_type": "execute_result",
          "data": {
            "text/plain": [
              "\"[ The Tragedie of Hamlet by William Shakespeare 1599 ] Actus Primus . Scoena Prima . Enter Barnardo and Francisco two Centinels . Barnardo . Who ' s there ? Fran . Nay answer me : Stand & vnfold your selfe Bar . Long liue the King Fran . Barnardo ? Bar . He Fran . You come most carefully vpon your houre Bar . ' Tis now strook twelue , get thee to bed Francisco Fran . For this releefe much thankes : ' Tis bitter cold , And I am sicke at heart Barn . Haue you had \""
            ],
            "application/vnd.google.colaboratory.intrinsic+json": {
              "type": "string"
            }
          },
          "metadata": {},
          "execution_count": 9
        }
      ]
    },
    {
      "cell_type": "code",
      "source": [
        "text = \"\"\"Lorem ipsum dolor sit amet. 33 eaque repellat et ratione atque ab voluptates quia! Sit sint accusamus sed unde nesciunt ut voluptatem consequuntur sed autem similique vel dolores repellat sit laborum aperiam.\n",
        "\n",
        "Sed itaque nisi ex similique culpa qui saepe impedit qui atque voluptatem sed nihil quibusdam. Sed repudiandae quidem 33 dolores dolorem quo sunt aliquid et repellendus corporis ut dolore voluptatem. Aut quia dolorum ut quod nihil At tempora dolor ea eligendi porro quo deleniti possimus ut similique minima eum nesciunt atque. Aut obcaecati debitis quo accusamus porro et iure voluptatem et rerum consectetur ut voluptatem provident et impedit minima.\n",
        "\n",
        "Ex quasi labore qui repellat totam rem ratione labore in rerum rerum ea recusandae sunt est obcaecati esse? Ut soluta autem et vero eaque est sapiente consequatur 33 ducimus vero est quisquam quaerat. Eos nihil laudantium qui repellat voluptas 33 accusamus eligendi ea corporis minima eum voluptas quibusdam qui nesciunt quod. Est reiciendis delectus sed quia consequatur et officia tempore rem velit galisum et voluptatem magni sed blanditiis ipsam sed vero voluptatum.\n",
        "\n",
        "Sit tenetur amet et internos dolorem eum alias tempore. Eum corrupti quia qui dolorem molestiae qui eligendi consequatur. Id quod officia ad nobis quam qui ipsa iure non deleniti eligendi quo corporis exercitationem. Sit magni dolore et suscipit doloribus quo molestias quas.\n",
        "\n",
        "33 mollitia laudantium id pariatur mollitia eum aperiam quisquam. Aut voluptas optio aut fuga ipsam et quisquam libero ab culpa explicabo ut animi accusamus et ipsam doloribus sed quia perspiciatis. Qui consequuntur quia eos officia alias et consequatur quia est consequuntur reiciendis ex omnis laborum non doloribus optio. Eos dolorum nisi qui perferendis nesciunt in nobis voluptate sit doloribus odio et dolores itaque nam assumenda magnam?\n",
        "\"\"\""
      ],
      "metadata": {
        "id": "p95LhcGbqZkW"
      },
      "execution_count": 10,
      "outputs": []
    },
    {
      "cell_type": "code",
      "source": [
        "from nltk.tokenize import word_tokenize"
      ],
      "metadata": {
        "id": "pWM_35vLrTSE"
      },
      "execution_count": 11,
      "outputs": []
    },
    {
      "cell_type": "code",
      "source": [
        "text_tokens = word_tokenize(text)\n",
        "text_tokens"
      ],
      "metadata": {
        "colab": {
          "base_uri": "https://localhost:8080/"
        },
        "id": "gkS9Teisrc3p",
        "outputId": "adfa80ab-cc21-448f-d6f7-eb1c26c12203"
      },
      "execution_count": 12,
      "outputs": [
        {
          "output_type": "execute_result",
          "data": {
            "text/plain": [
              "['Lorem',\n",
              " 'ipsum',\n",
              " 'dolor',\n",
              " 'sit',\n",
              " 'amet',\n",
              " '.',\n",
              " '33',\n",
              " 'eaque',\n",
              " 'repellat',\n",
              " 'et',\n",
              " 'ratione',\n",
              " 'atque',\n",
              " 'ab',\n",
              " 'voluptates',\n",
              " 'quia',\n",
              " '!',\n",
              " 'Sit',\n",
              " 'sint',\n",
              " 'accusamus',\n",
              " 'sed',\n",
              " 'unde',\n",
              " 'nesciunt',\n",
              " 'ut',\n",
              " 'voluptatem',\n",
              " 'consequuntur',\n",
              " 'sed',\n",
              " 'autem',\n",
              " 'similique',\n",
              " 'vel',\n",
              " 'dolores',\n",
              " 'repellat',\n",
              " 'sit',\n",
              " 'laborum',\n",
              " 'aperiam',\n",
              " '.',\n",
              " 'Sed',\n",
              " 'itaque',\n",
              " 'nisi',\n",
              " 'ex',\n",
              " 'similique',\n",
              " 'culpa',\n",
              " 'qui',\n",
              " 'saepe',\n",
              " 'impedit',\n",
              " 'qui',\n",
              " 'atque',\n",
              " 'voluptatem',\n",
              " 'sed',\n",
              " 'nihil',\n",
              " 'quibusdam',\n",
              " '.',\n",
              " 'Sed',\n",
              " 'repudiandae',\n",
              " 'quidem',\n",
              " '33',\n",
              " 'dolores',\n",
              " 'dolorem',\n",
              " 'quo',\n",
              " 'sunt',\n",
              " 'aliquid',\n",
              " 'et',\n",
              " 'repellendus',\n",
              " 'corporis',\n",
              " 'ut',\n",
              " 'dolore',\n",
              " 'voluptatem',\n",
              " '.',\n",
              " 'Aut',\n",
              " 'quia',\n",
              " 'dolorum',\n",
              " 'ut',\n",
              " 'quod',\n",
              " 'nihil',\n",
              " 'At',\n",
              " 'tempora',\n",
              " 'dolor',\n",
              " 'ea',\n",
              " 'eligendi',\n",
              " 'porro',\n",
              " 'quo',\n",
              " 'deleniti',\n",
              " 'possimus',\n",
              " 'ut',\n",
              " 'similique',\n",
              " 'minima',\n",
              " 'eum',\n",
              " 'nesciunt',\n",
              " 'atque',\n",
              " '.',\n",
              " 'Aut',\n",
              " 'obcaecati',\n",
              " 'debitis',\n",
              " 'quo',\n",
              " 'accusamus',\n",
              " 'porro',\n",
              " 'et',\n",
              " 'iure',\n",
              " 'voluptatem',\n",
              " 'et',\n",
              " 'rerum',\n",
              " 'consectetur',\n",
              " 'ut',\n",
              " 'voluptatem',\n",
              " 'provident',\n",
              " 'et',\n",
              " 'impedit',\n",
              " 'minima',\n",
              " '.',\n",
              " 'Ex',\n",
              " 'quasi',\n",
              " 'labore',\n",
              " 'qui',\n",
              " 'repellat',\n",
              " 'totam',\n",
              " 'rem',\n",
              " 'ratione',\n",
              " 'labore',\n",
              " 'in',\n",
              " 'rerum',\n",
              " 'rerum',\n",
              " 'ea',\n",
              " 'recusandae',\n",
              " 'sunt',\n",
              " 'est',\n",
              " 'obcaecati',\n",
              " 'esse',\n",
              " '?',\n",
              " 'Ut',\n",
              " 'soluta',\n",
              " 'autem',\n",
              " 'et',\n",
              " 'vero',\n",
              " 'eaque',\n",
              " 'est',\n",
              " 'sapiente',\n",
              " 'consequatur',\n",
              " '33',\n",
              " 'ducimus',\n",
              " 'vero',\n",
              " 'est',\n",
              " 'quisquam',\n",
              " 'quaerat',\n",
              " '.',\n",
              " 'Eos',\n",
              " 'nihil',\n",
              " 'laudantium',\n",
              " 'qui',\n",
              " 'repellat',\n",
              " 'voluptas',\n",
              " '33',\n",
              " 'accusamus',\n",
              " 'eligendi',\n",
              " 'ea',\n",
              " 'corporis',\n",
              " 'minima',\n",
              " 'eum',\n",
              " 'voluptas',\n",
              " 'quibusdam',\n",
              " 'qui',\n",
              " 'nesciunt',\n",
              " 'quod',\n",
              " '.',\n",
              " 'Est',\n",
              " 'reiciendis',\n",
              " 'delectus',\n",
              " 'sed',\n",
              " 'quia',\n",
              " 'consequatur',\n",
              " 'et',\n",
              " 'officia',\n",
              " 'tempore',\n",
              " 'rem',\n",
              " 'velit',\n",
              " 'galisum',\n",
              " 'et',\n",
              " 'voluptatem',\n",
              " 'magni',\n",
              " 'sed',\n",
              " 'blanditiis',\n",
              " 'ipsam',\n",
              " 'sed',\n",
              " 'vero',\n",
              " 'voluptatum',\n",
              " '.',\n",
              " 'Sit',\n",
              " 'tenetur',\n",
              " 'amet',\n",
              " 'et',\n",
              " 'internos',\n",
              " 'dolorem',\n",
              " 'eum',\n",
              " 'alias',\n",
              " 'tempore',\n",
              " '.',\n",
              " 'Eum',\n",
              " 'corrupti',\n",
              " 'quia',\n",
              " 'qui',\n",
              " 'dolorem',\n",
              " 'molestiae',\n",
              " 'qui',\n",
              " 'eligendi',\n",
              " 'consequatur',\n",
              " '.',\n",
              " 'Id',\n",
              " 'quod',\n",
              " 'officia',\n",
              " 'ad',\n",
              " 'nobis',\n",
              " 'quam',\n",
              " 'qui',\n",
              " 'ipsa',\n",
              " 'iure',\n",
              " 'non',\n",
              " 'deleniti',\n",
              " 'eligendi',\n",
              " 'quo',\n",
              " 'corporis',\n",
              " 'exercitationem',\n",
              " '.',\n",
              " 'Sit',\n",
              " 'magni',\n",
              " 'dolore',\n",
              " 'et',\n",
              " 'suscipit',\n",
              " 'doloribus',\n",
              " 'quo',\n",
              " 'molestias',\n",
              " 'quas',\n",
              " '.',\n",
              " '33',\n",
              " 'mollitia',\n",
              " 'laudantium',\n",
              " 'id',\n",
              " 'pariatur',\n",
              " 'mollitia',\n",
              " 'eum',\n",
              " 'aperiam',\n",
              " 'quisquam',\n",
              " '.',\n",
              " 'Aut',\n",
              " 'voluptas',\n",
              " 'optio',\n",
              " 'aut',\n",
              " 'fuga',\n",
              " 'ipsam',\n",
              " 'et',\n",
              " 'quisquam',\n",
              " 'libero',\n",
              " 'ab',\n",
              " 'culpa',\n",
              " 'explicabo',\n",
              " 'ut',\n",
              " 'animi',\n",
              " 'accusamus',\n",
              " 'et',\n",
              " 'ipsam',\n",
              " 'doloribus',\n",
              " 'sed',\n",
              " 'quia',\n",
              " 'perspiciatis',\n",
              " '.',\n",
              " 'Qui',\n",
              " 'consequuntur',\n",
              " 'quia',\n",
              " 'eos',\n",
              " 'officia',\n",
              " 'alias',\n",
              " 'et',\n",
              " 'consequatur',\n",
              " 'quia',\n",
              " 'est',\n",
              " 'consequuntur',\n",
              " 'reiciendis',\n",
              " 'ex',\n",
              " 'omnis',\n",
              " 'laborum',\n",
              " 'non',\n",
              " 'doloribus',\n",
              " 'optio',\n",
              " '.',\n",
              " 'Eos',\n",
              " 'dolorum',\n",
              " 'nisi',\n",
              " 'qui',\n",
              " 'perferendis',\n",
              " 'nesciunt',\n",
              " 'in',\n",
              " 'nobis',\n",
              " 'voluptate',\n",
              " 'sit',\n",
              " 'doloribus',\n",
              " 'odio',\n",
              " 'et',\n",
              " 'dolores',\n",
              " 'itaque',\n",
              " 'nam',\n",
              " 'assumenda',\n",
              " 'magnam',\n",
              " '?']"
            ]
          },
          "metadata": {},
          "execution_count": 12
        }
      ]
    },
    {
      "cell_type": "code",
      "source": [
        "len(text_tokens)"
      ],
      "metadata": {
        "colab": {
          "base_uri": "https://localhost:8080/"
        },
        "id": "yIGET-Gtr0WB",
        "outputId": "461bc876-bd88-4838-be4c-9b6b7941dc57"
      },
      "execution_count": 13,
      "outputs": [
        {
          "output_type": "execute_result",
          "data": {
            "text/plain": [
              "300"
            ]
          },
          "metadata": {},
          "execution_count": 13
        }
      ]
    },
    {
      "cell_type": "code",
      "source": [
        "len(text)"
      ],
      "metadata": {
        "colab": {
          "base_uri": "https://localhost:8080/"
        },
        "id": "F0smnzfLr3Cf",
        "outputId": "ced4bec7-fcc2-4094-d8c1-99310a9d804e"
      },
      "execution_count": 14,
      "outputs": [
        {
          "output_type": "execute_result",
          "data": {
            "text/plain": [
              "1858"
            ]
          },
          "metadata": {},
          "execution_count": 14
        }
      ]
    },
    {
      "cell_type": "code",
      "source": [
        "from nltk.probability import FreqDist\n",
        "fdist = FreqDist()"
      ],
      "metadata": {
        "id": "KZqIjRJisJRn"
      },
      "execution_count": 15,
      "outputs": []
    },
    {
      "cell_type": "code",
      "source": [
        "fdist"
      ],
      "metadata": {
        "colab": {
          "base_uri": "https://localhost:8080/"
        },
        "id": "q-sHrVxasaEx",
        "outputId": "8ab52c52-1166-46da-882d-fb41992f9c5f"
      },
      "execution_count": 16,
      "outputs": [
        {
          "output_type": "execute_result",
          "data": {
            "text/plain": [
              "FreqDist({})"
            ]
          },
          "metadata": {},
          "execution_count": 16
        }
      ]
    },
    {
      "cell_type": "code",
      "source": [
        "for word in text_tokens:\n",
        "  fdist[word.lower()] += 1\n",
        "fdist"
      ],
      "metadata": {
        "colab": {
          "base_uri": "https://localhost:8080/"
        },
        "id": "EKlLzsCGsO40",
        "outputId": "ecc6738a-95f5-4524-875d-11147e0c8ba5"
      },
      "execution_count": 17,
      "outputs": [
        {
          "output_type": "execute_result",
          "data": {
            "text/plain": [
              "FreqDist({'.': 16, 'et': 14, 'qui': 10, 'sed': 9, 'quia': 7, 'ut': 7, 'sit': 6, 'voluptatem': 6, '33': 5, 'quo': 5, ...})"
            ]
          },
          "metadata": {},
          "execution_count": 17
        }
      ]
    },
    {
      "cell_type": "code",
      "source": [
        "fdist[\"sit\"]"
      ],
      "metadata": {
        "colab": {
          "base_uri": "https://localhost:8080/"
        },
        "id": "j7I_99r2swiK",
        "outputId": "4ecc9f43-9e98-44cc-ac0f-90fe744e0afb"
      },
      "execution_count": 18,
      "outputs": [
        {
          "output_type": "execute_result",
          "data": {
            "text/plain": [
              "6"
            ]
          },
          "metadata": {},
          "execution_count": 18
        }
      ]
    },
    {
      "cell_type": "code",
      "source": [
        "len(fdist)"
      ],
      "metadata": {
        "colab": {
          "base_uri": "https://localhost:8080/"
        },
        "id": "1P2rlWlEs3Ie",
        "outputId": "478ab8f7-5109-409c-e9b6-9911e2c0e4c0"
      },
      "execution_count": 19,
      "outputs": [
        {
          "output_type": "execute_result",
          "data": {
            "text/plain": [
              "126"
            ]
          },
          "metadata": {},
          "execution_count": 19
        }
      ]
    },
    {
      "cell_type": "code",
      "source": [
        "#Top 10 tokens\n",
        "fdist.most_common(10)"
      ],
      "metadata": {
        "colab": {
          "base_uri": "https://localhost:8080/"
        },
        "id": "upZqMPP7tfVL",
        "outputId": "870ee879-ef64-4253-bce3-63d7b7346a0d"
      },
      "execution_count": 20,
      "outputs": [
        {
          "output_type": "execute_result",
          "data": {
            "text/plain": [
              "[('.', 16),\n",
              " ('et', 14),\n",
              " ('qui', 10),\n",
              " ('sed', 9),\n",
              " ('quia', 7),\n",
              " ('ut', 7),\n",
              " ('sit', 6),\n",
              " ('voluptatem', 6),\n",
              " ('33', 5),\n",
              " ('quo', 5)]"
            ]
          },
          "metadata": {},
          "execution_count": 20
        }
      ]
    }
  ]
}