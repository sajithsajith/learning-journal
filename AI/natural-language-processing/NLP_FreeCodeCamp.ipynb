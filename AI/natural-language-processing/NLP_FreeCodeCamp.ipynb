{
  "nbformat": 4,
  "nbformat_minor": 0,
  "metadata": {
    "colab": {
      "provenance": [],
      "authorship_tag": "ABX9TyP3UgImKc+J/c3W7n8RvzmQ",
      "include_colab_link": true
    },
    "kernelspec": {
      "name": "python3",
      "display_name": "Python 3"
    },
    "language_info": {
      "name": "python"
    }
  },
  "cells": [
    {
      "cell_type": "markdown",
      "metadata": {
        "id": "view-in-github",
        "colab_type": "text"
      },
      "source": [
        "<a href=\"https://colab.research.google.com/github/sajithsajith/learning-journal/blob/main/AI/natural-language-processing/NLP_FreeCodeCamp.ipynb\" target=\"_parent\"><img src=\"https://colab.research.google.com/assets/colab-badge.svg\" alt=\"Open In Colab\"/></a>"
      ]
    },
    {
      "cell_type": "code",
      "execution_count": 1,
      "metadata": {
        "colab": {
          "base_uri": "https://localhost:8080/"
        },
        "id": "sixhKvwremhK",
        "outputId": "01c9e55f-4d70-41a5-a514-08c9a3898167"
      },
      "outputs": [
        {
          "output_type": "stream",
          "name": "stdout",
          "text": [
            "Requirement already satisfied: nltk in /usr/local/lib/python3.11/dist-packages (3.9.1)\n",
            "Requirement already satisfied: click in /usr/local/lib/python3.11/dist-packages (from nltk) (8.2.1)\n",
            "Requirement already satisfied: joblib in /usr/local/lib/python3.11/dist-packages (from nltk) (1.5.1)\n",
            "Requirement already satisfied: regex>=2021.8.3 in /usr/local/lib/python3.11/dist-packages (from nltk) (2024.11.6)\n",
            "Requirement already satisfied: tqdm in /usr/local/lib/python3.11/dist-packages (from nltk) (4.67.1)\n"
          ]
        }
      ],
      "source": [
        "pip install nltk"
      ]
    },
    {
      "cell_type": "code",
      "source": [
        "import os\n",
        "import nltk\n",
        "import nltk.corpus"
      ],
      "metadata": {
        "id": "Nlp3YZlpe902"
      },
      "execution_count": 2,
      "outputs": []
    },
    {
      "cell_type": "code",
      "source": [
        "nltk.download()"
      ],
      "metadata": {
        "id": "V41iFdpjhqpA",
        "colab": {
          "base_uri": "https://localhost:8080/"
        },
        "outputId": "3b255d56-64d7-44c6-b39c-e313888bbb2b"
      },
      "execution_count": 3,
      "outputs": [
        {
          "name": "stdout",
          "output_type": "stream",
          "text": [
            "NLTK Downloader\n",
            "---------------------------------------------------------------------------\n",
            "    d) Download   l) List    u) Update   c) Config   h) Help   q) Quit\n",
            "---------------------------------------------------------------------------\n",
            "Downloader> d\n",
            "\n",
            "Download which package (l=list; x=cancel)?\n",
            "  Identifier> l\n",
            "Packages:\n",
            "  [ ] abc................. Australian Broadcasting Commission 2006\n",
            "  [ ] alpino.............. Alpino Dutch Treebank\n",
            "  [ ] averaged_perceptron_tagger Averaged Perceptron Tagger\n",
            "  [ ] averaged_perceptron_tagger_eng Averaged Perceptron Tagger (JSON)\n",
            "  [ ] averaged_perceptron_tagger_ru Averaged Perceptron Tagger (Russian)\n",
            "  [ ] averaged_perceptron_tagger_rus Averaged Perceptron Tagger (Russian)\n",
            "  [ ] basque_grammars..... Grammars for Basque\n",
            "  [ ] bcp47............... BCP-47 Language Tags\n",
            "  [ ] biocreative_ppi..... BioCreAtIvE (Critical Assessment of Information\n",
            "                           Extraction Systems in Biology)\n",
            "  [ ] bllip_wsj_no_aux.... BLLIP Parser: WSJ Model\n",
            "  [ ] book_grammars....... Grammars from NLTK Book\n",
            "  [ ] brown............... Brown Corpus\n",
            "  [ ] brown_tei........... Brown Corpus (TEI XML Version)\n",
            "  [ ] cess_cat............ CESS-CAT Treebank\n",
            "  [ ] cess_esp............ CESS-ESP Treebank\n",
            "  [ ] chat80.............. Chat-80 Data Files\n",
            "  [ ] city_database....... City Database\n",
            "  [ ] cmudict............. The Carnegie Mellon Pronouncing Dictionary (0.6)\n",
            "  [ ] comparative_sentences Comparative Sentence Dataset\n",
            "Hit Enter to continue: \n",
            "  [ ] comtrans............ ComTrans Corpus Sample\n",
            "  [ ] conll2000........... CONLL 2000 Chunking Corpus\n",
            "  [ ] conll2002........... CONLL 2002 Named Entity Recognition Corpus\n",
            "  [ ] conll2007........... Dependency Treebanks from CoNLL 2007 (Catalan\n",
            "                           and Basque Subset)\n",
            "  [ ] crubadan............ Crubadan Corpus\n",
            "  [ ] dependency_treebank. Dependency Parsed Treebank\n",
            "  [ ] dolch............... Dolch Word List\n",
            "  [ ] english_wordnet..... Open English Wordnet\n",
            "  [ ] europarl_raw........ Sample European Parliament Proceedings Parallel\n",
            "                           Corpus\n",
            "  [ ] extended_omw........ Extended Open Multilingual WordNet\n",
            "  [ ] floresta............ Portuguese Treebank\n",
            "  [ ] framenet_v15........ FrameNet 1.5\n",
            "  [ ] framenet_v17........ FrameNet 1.7\n",
            "  [ ] gazetteers.......... Gazeteer Lists\n",
            "  [ ] genesis............. Genesis Corpus\n",
            "  [ ] gutenberg........... Project Gutenberg Selections\n",
            "  [ ] ieer................ NIST IE-ER DATA SAMPLE\n",
            "  [ ] inaugural........... C-Span Inaugural Address Corpus\n",
            "  [ ] indian.............. Indian Language POS-Tagged Corpus\n",
            "Hit Enter to continue: \n",
            "  [ ] jeita............... JEITA Public Morphologically Tagged Corpus (in\n",
            "                           ChaSen format)\n",
            "  [ ] kimmo............... PC-KIMMO Data Files\n",
            "  [ ] knbc................ KNB Corpus (Annotated blog corpus)\n",
            "  [ ] large_grammars...... Large context-free and feature-based grammars\n",
            "                           for parser comparison\n",
            "  [ ] lin_thesaurus....... Lin's Dependency Thesaurus\n",
            "  [ ] mac_morpho.......... MAC-MORPHO: Brazilian Portuguese news text with\n",
            "                           part-of-speech tags\n",
            "  [ ] machado............. Machado de Assis -- Obra Completa\n",
            "  [ ] masc_tagged......... MASC Tagged Corpus\n",
            "  [ ] maxent_ne_chunker... ACE Named Entity Chunker (Maximum entropy)\n",
            "  [ ] maxent_ne_chunker_tab ACE Named Entity Chunker (Maximum entropy)\n",
            "  [ ] maxent_treebank_pos_tagger Treebank Part of Speech Tagger (Maximum entropy)\n",
            "  [ ] maxent_treebank_pos_tagger_tab Treebank Part of Speech Tagger (Maximum entropy)\n",
            "  [ ] moses_sample........ Moses Sample Models\n",
            "  [ ] movie_reviews....... Sentiment Polarity Dataset Version 2.0\n",
            "  [ ] mte_teip5........... MULTEXT-East 1984 annotated corpus 4.0\n",
            "  [ ] mwa_ppdb............ The monolingual word aligner (Sultan et al.\n",
            "                           2015) subset of the Paraphrase Database.\n",
            "  [ ] names............... Names Corpus, Version 1.3 (1994-03-29)\n",
            "Hit Enter to continue: \n",
            "  [ ] nombank.1.0......... NomBank Corpus 1.0\n",
            "  [ ] nonbreaking_prefixes Non-Breaking Prefixes (Moses Decoder)\n",
            "  [ ] nps_chat............ NPS Chat\n",
            "  [ ] omw-1.4............. Open Multilingual Wordnet\n",
            "  [ ] omw................. Open Multilingual Wordnet\n",
            "  [ ] opinion_lexicon..... Opinion Lexicon\n",
            "  [ ] panlex_swadesh...... PanLex Swadesh Corpora\n",
            "  [ ] paradigms........... Paradigm Corpus\n",
            "  [ ] pe08................ Cross-Framework and Cross-Domain Parser\n",
            "                           Evaluation Shared Task\n",
            "  [ ] perluniprops........ perluniprops: Index of Unicode Version 7.0.0\n",
            "                           character properties in Perl\n",
            "  [ ] pil................. The Patient Information Leaflet (PIL) Corpus\n",
            "  [ ] pl196x.............. Polish language of the XX century sixties\n",
            "  [ ] porter_test......... Porter Stemmer Test Files\n",
            "  [ ] ppattach............ Prepositional Phrase Attachment Corpus\n",
            "  [ ] problem_reports..... Problem Report Corpus\n",
            "  [ ] product_reviews_1... Product Reviews (5 Products)\n",
            "  [ ] product_reviews_2... Product Reviews (9 Products)\n",
            "  [ ] propbank............ Proposition Bank Corpus 1.0\n",
            "  [ ] pros_cons........... Pros and Cons\n",
            "Hit Enter to continue: \n",
            "  [ ] ptb................. Penn Treebank\n",
            "  [ ] punkt............... Punkt Tokenizer Models\n",
            "  [ ] punkt_tab........... Punkt Tokenizer Models\n",
            "  [ ] qc.................. Experimental Data for Question Classification\n",
            "  [ ] reuters............. The Reuters-21578 benchmark corpus, ApteMod\n",
            "                           version\n",
            "  [ ] rslp................ RSLP Stemmer (Removedor de Sufixos da Lingua\n",
            "                           Portuguesa)\n",
            "  [ ] rte................. PASCAL RTE Challenges 1, 2, and 3\n",
            "  [ ] sample_grammars..... Sample Grammars\n",
            "  [ ] semcor.............. SemCor 3.0\n",
            "  [ ] senseval............ SENSEVAL 2 Corpus: Sense Tagged Text\n",
            "  [ ] sentence_polarity... Sentence Polarity Dataset v1.0\n",
            "  [ ] sentiwordnet........ SentiWordNet\n",
            "  [ ] shakespeare......... Shakespeare XML Corpus Sample\n",
            "  [ ] sinica_treebank..... Sinica Treebank Corpus Sample\n",
            "  [ ] smultron............ SMULTRON Corpus Sample\n",
            "  [ ] snowball_data....... Snowball Data\n",
            "  [ ] spanish_grammars.... Grammars for Spanish\n",
            "  [ ] state_union......... C-Span State of the Union Address Corpus\n",
            "  [ ] stopwords........... Stopwords Corpus\n",
            "Hit Enter to continue: \n",
            "  [ ] subjectivity........ Subjectivity Dataset v1.0\n",
            "  [ ] swadesh............. Swadesh Wordlists\n",
            "  [ ] switchboard......... Switchboard Corpus Sample\n",
            "  [ ] tagsets............. Help on Tagsets\n",
            "  [ ] tagsets_json........ Help on Tagsets (JSON)\n",
            "  [ ] timit............... TIMIT Corpus Sample\n",
            "  [ ] toolbox............. Toolbox Sample Files\n",
            "  [ ] treebank............ Penn Treebank Sample\n",
            "  [ ] twitter_samples..... Twitter Samples\n",
            "  [ ] udhr2............... Universal Declaration of Human Rights Corpus\n",
            "                           (Unicode Version)\n",
            "  [ ] udhr................ Universal Declaration of Human Rights Corpus\n",
            "  [ ] unicode_samples..... Unicode Samples\n",
            "  [ ] universal_tagset.... Mappings to the Universal Part-of-Speech Tagset\n",
            "  [ ] universal_treebanks_v20 Universal Treebanks Version 2.0\n",
            "  [ ] vader_lexicon....... VADER Sentiment Lexicon\n",
            "  [ ] verbnet3............ VerbNet Lexicon, Version 3.3\n",
            "  [ ] verbnet............. VerbNet Lexicon, Version 2.1\n",
            "  [ ] webtext............. Web Text Corpus\n",
            "  [ ] wmt15_eval.......... Evaluation data from WMT15\n",
            "  [ ] word2vec_sample..... Word2Vec Sample\n",
            "Hit Enter to continue: \n",
            "  [ ] wordnet2021......... Open English Wordnet 2021\n",
            "  [ ] wordnet2022......... Open English Wordnet 2022\n",
            "  [ ] wordnet31........... Wordnet 3.1\n",
            "  [ ] wordnet............. WordNet\n",
            "  [ ] wordnet_ic.......... WordNet-InfoContent\n",
            "  [ ] words............... Word Lists\n",
            "  [ ] ycoe................ York-Toronto-Helsinki Parsed Corpus of Old\n",
            "                           English Prose\n",
            "\n",
            "Collections:\n",
            "  [ ] all-corpora......... All the corpora\n",
            "  [ ] all-nltk............ All packages available on nltk_data gh-pages\n",
            "                           branch\n",
            "  [ ] all................. All packages\n",
            "  [ ] book................ Everything used in the NLTK Book\n",
            "  [ ] popular............. Popular packages\n",
            "  [ ] tests............... Packages for running tests\n",
            "  [ ] third-party......... Third-party data packages\n",
            "\n",
            "([*] marks installed packages)\n",
            "\n",
            "Download which package (l=list; x=cancel)?\n",
            "  Identifier> all\n"
          ]
        },
        {
          "output_type": "stream",
          "name": "stderr",
          "text": [
            "    Downloading collection 'all'\n",
            "       | \n",
            "       | Downloading package abc to /root/nltk_data...\n",
            "       |   Unzipping corpora/abc.zip.\n",
            "       | Downloading package alpino to /root/nltk_data...\n",
            "       |   Unzipping corpora/alpino.zip.\n",
            "       | Downloading package averaged_perceptron_tagger to\n",
            "       |     /root/nltk_data...\n",
            "       |   Unzipping taggers/averaged_perceptron_tagger.zip.\n",
            "       | Downloading package averaged_perceptron_tagger_eng to\n",
            "       |     /root/nltk_data...\n",
            "       |   Unzipping taggers/averaged_perceptron_tagger_eng.zip.\n",
            "       | Downloading package averaged_perceptron_tagger_ru to\n",
            "       |     /root/nltk_data...\n",
            "       |   Unzipping taggers/averaged_perceptron_tagger_ru.zip.\n",
            "       | Downloading package averaged_perceptron_tagger_rus to\n",
            "       |     /root/nltk_data...\n",
            "       |   Unzipping taggers/averaged_perceptron_tagger_rus.zip.\n",
            "       | Downloading package basque_grammars to /root/nltk_data...\n",
            "       |   Unzipping grammars/basque_grammars.zip.\n",
            "       | Downloading package bcp47 to /root/nltk_data...\n",
            "       | Downloading package biocreative_ppi to /root/nltk_data...\n",
            "       |   Unzipping corpora/biocreative_ppi.zip.\n",
            "       | Downloading package bllip_wsj_no_aux to /root/nltk_data...\n",
            "       |   Unzipping models/bllip_wsj_no_aux.zip.\n",
            "       | Downloading package book_grammars to /root/nltk_data...\n",
            "       |   Unzipping grammars/book_grammars.zip.\n",
            "       | Downloading package brown to /root/nltk_data...\n",
            "       |   Unzipping corpora/brown.zip.\n",
            "       | Downloading package brown_tei to /root/nltk_data...\n",
            "       |   Unzipping corpora/brown_tei.zip.\n",
            "       | Downloading package cess_cat to /root/nltk_data...\n",
            "       |   Unzipping corpora/cess_cat.zip.\n",
            "       | Downloading package cess_esp to /root/nltk_data...\n",
            "       |   Unzipping corpora/cess_esp.zip.\n",
            "       | Downloading package chat80 to /root/nltk_data...\n",
            "       |   Unzipping corpora/chat80.zip.\n",
            "       | Downloading package city_database to /root/nltk_data...\n",
            "       |   Unzipping corpora/city_database.zip.\n",
            "       | Downloading package cmudict to /root/nltk_data...\n",
            "       |   Unzipping corpora/cmudict.zip.\n",
            "       | Downloading package comparative_sentences to\n",
            "       |     /root/nltk_data...\n",
            "       |   Unzipping corpora/comparative_sentences.zip.\n",
            "       | Downloading package comtrans to /root/nltk_data...\n",
            "       | Downloading package conll2000 to /root/nltk_data...\n",
            "       |   Unzipping corpora/conll2000.zip.\n",
            "       | Downloading package conll2002 to /root/nltk_data...\n",
            "       |   Unzipping corpora/conll2002.zip.\n",
            "       | Downloading package conll2007 to /root/nltk_data...\n",
            "       | Downloading package crubadan to /root/nltk_data...\n",
            "       |   Unzipping corpora/crubadan.zip.\n",
            "       | Downloading package dependency_treebank to /root/nltk_data...\n",
            "       |   Unzipping corpora/dependency_treebank.zip.\n",
            "       | Downloading package dolch to /root/nltk_data...\n",
            "       |   Unzipping corpora/dolch.zip.\n",
            "       | Downloading package english_wordnet to /root/nltk_data...\n",
            "       |   Unzipping corpora/english_wordnet.zip.\n",
            "       | Downloading package europarl_raw to /root/nltk_data...\n",
            "       |   Unzipping corpora/europarl_raw.zip.\n",
            "       | Downloading package extended_omw to /root/nltk_data...\n",
            "       | Downloading package floresta to /root/nltk_data...\n",
            "       |   Unzipping corpora/floresta.zip.\n",
            "       | Downloading package framenet_v15 to /root/nltk_data...\n",
            "       |   Unzipping corpora/framenet_v15.zip.\n",
            "       | Downloading package framenet_v17 to /root/nltk_data...\n",
            "       |   Unzipping corpora/framenet_v17.zip.\n",
            "       | Downloading package gazetteers to /root/nltk_data...\n",
            "       |   Unzipping corpora/gazetteers.zip.\n",
            "       | Downloading package genesis to /root/nltk_data...\n",
            "       |   Unzipping corpora/genesis.zip.\n",
            "       | Downloading package gutenberg to /root/nltk_data...\n",
            "       |   Unzipping corpora/gutenberg.zip.\n",
            "       | Downloading package ieer to /root/nltk_data...\n",
            "       |   Unzipping corpora/ieer.zip.\n",
            "       | Downloading package inaugural to /root/nltk_data...\n",
            "       |   Unzipping corpora/inaugural.zip.\n",
            "       | Downloading package indian to /root/nltk_data...\n",
            "       |   Unzipping corpora/indian.zip.\n",
            "       | Downloading package jeita to /root/nltk_data...\n",
            "       | Downloading package kimmo to /root/nltk_data...\n",
            "       |   Unzipping corpora/kimmo.zip.\n",
            "       | Downloading package knbc to /root/nltk_data...\n",
            "       | Downloading package large_grammars to /root/nltk_data...\n",
            "       |   Unzipping grammars/large_grammars.zip.\n",
            "       | Downloading package lin_thesaurus to /root/nltk_data...\n",
            "       |   Unzipping corpora/lin_thesaurus.zip.\n",
            "       | Downloading package mac_morpho to /root/nltk_data...\n",
            "       |   Unzipping corpora/mac_morpho.zip.\n",
            "       | Downloading package machado to /root/nltk_data...\n",
            "       | Downloading package masc_tagged to /root/nltk_data...\n",
            "       | Downloading package maxent_ne_chunker to /root/nltk_data...\n",
            "       |   Unzipping chunkers/maxent_ne_chunker.zip.\n",
            "       | Downloading package maxent_ne_chunker_tab to\n",
            "       |     /root/nltk_data...\n",
            "       |   Unzipping chunkers/maxent_ne_chunker_tab.zip.\n",
            "       | Downloading package maxent_treebank_pos_tagger to\n",
            "       |     /root/nltk_data...\n",
            "       |   Unzipping taggers/maxent_treebank_pos_tagger.zip.\n",
            "       | Downloading package maxent_treebank_pos_tagger_tab to\n",
            "       |     /root/nltk_data...\n",
            "       |   Unzipping taggers/maxent_treebank_pos_tagger_tab.zip.\n",
            "       | Downloading package moses_sample to /root/nltk_data...\n",
            "       |   Unzipping models/moses_sample.zip.\n",
            "       | Downloading package movie_reviews to /root/nltk_data...\n",
            "       |   Unzipping corpora/movie_reviews.zip.\n",
            "       | Downloading package mte_teip5 to /root/nltk_data...\n",
            "       |   Unzipping corpora/mte_teip5.zip.\n",
            "       | Downloading package mwa_ppdb to /root/nltk_data...\n",
            "       |   Unzipping misc/mwa_ppdb.zip.\n",
            "       | Downloading package names to /root/nltk_data...\n",
            "       |   Unzipping corpora/names.zip.\n",
            "       | Downloading package nombank.1.0 to /root/nltk_data...\n",
            "       | Downloading package nonbreaking_prefixes to\n",
            "       |     /root/nltk_data...\n",
            "       |   Unzipping corpora/nonbreaking_prefixes.zip.\n",
            "       | Downloading package nps_chat to /root/nltk_data...\n",
            "       |   Unzipping corpora/nps_chat.zip.\n",
            "       | Downloading package omw to /root/nltk_data...\n",
            "       | Downloading package omw-1.4 to /root/nltk_data...\n",
            "       | Downloading package opinion_lexicon to /root/nltk_data...\n",
            "       |   Unzipping corpora/opinion_lexicon.zip.\n",
            "       | Downloading package panlex_swadesh to /root/nltk_data...\n",
            "       | Downloading package paradigms to /root/nltk_data...\n",
            "       |   Unzipping corpora/paradigms.zip.\n",
            "       | Downloading package pe08 to /root/nltk_data...\n",
            "       |   Unzipping corpora/pe08.zip.\n",
            "       | Downloading package perluniprops to /root/nltk_data...\n",
            "       |   Unzipping misc/perluniprops.zip.\n",
            "       | Downloading package pil to /root/nltk_data...\n",
            "       |   Unzipping corpora/pil.zip.\n",
            "       | Downloading package pl196x to /root/nltk_data...\n",
            "       |   Unzipping corpora/pl196x.zip.\n",
            "       | Downloading package porter_test to /root/nltk_data...\n",
            "       |   Unzipping stemmers/porter_test.zip.\n",
            "       | Downloading package ppattach to /root/nltk_data...\n",
            "       |   Unzipping corpora/ppattach.zip.\n",
            "       | Downloading package problem_reports to /root/nltk_data...\n",
            "       |   Unzipping corpora/problem_reports.zip.\n",
            "       | Downloading package product_reviews_1 to /root/nltk_data...\n",
            "       |   Unzipping corpora/product_reviews_1.zip.\n",
            "       | Downloading package product_reviews_2 to /root/nltk_data...\n",
            "       |   Unzipping corpora/product_reviews_2.zip.\n",
            "       | Downloading package propbank to /root/nltk_data...\n",
            "       | Downloading package pros_cons to /root/nltk_data...\n",
            "       |   Unzipping corpora/pros_cons.zip.\n",
            "       | Downloading package ptb to /root/nltk_data...\n",
            "       |   Unzipping corpora/ptb.zip.\n",
            "       | Downloading package punkt to /root/nltk_data...\n",
            "       |   Unzipping tokenizers/punkt.zip.\n",
            "       | Downloading package punkt_tab to /root/nltk_data...\n",
            "       |   Unzipping tokenizers/punkt_tab.zip.\n",
            "       | Downloading package qc to /root/nltk_data...\n",
            "       |   Unzipping corpora/qc.zip.\n",
            "       | Downloading package reuters to /root/nltk_data...\n",
            "       | Downloading package rslp to /root/nltk_data...\n",
            "       |   Unzipping stemmers/rslp.zip.\n",
            "       | Downloading package rte to /root/nltk_data...\n",
            "       |   Unzipping corpora/rte.zip.\n",
            "       | Downloading package sample_grammars to /root/nltk_data...\n",
            "       |   Unzipping grammars/sample_grammars.zip.\n",
            "       | Downloading package semcor to /root/nltk_data...\n",
            "       | Downloading package senseval to /root/nltk_data...\n",
            "       |   Unzipping corpora/senseval.zip.\n",
            "       | Downloading package sentence_polarity to /root/nltk_data...\n",
            "       |   Unzipping corpora/sentence_polarity.zip.\n",
            "       | Downloading package sentiwordnet to /root/nltk_data...\n",
            "       |   Unzipping corpora/sentiwordnet.zip.\n",
            "       | Downloading package shakespeare to /root/nltk_data...\n",
            "       |   Unzipping corpora/shakespeare.zip.\n",
            "       | Downloading package sinica_treebank to /root/nltk_data...\n",
            "       |   Unzipping corpora/sinica_treebank.zip.\n",
            "       | Downloading package smultron to /root/nltk_data...\n",
            "       |   Unzipping corpora/smultron.zip.\n",
            "       | Downloading package snowball_data to /root/nltk_data...\n",
            "       | Downloading package spanish_grammars to /root/nltk_data...\n",
            "       |   Unzipping grammars/spanish_grammars.zip.\n",
            "       | Downloading package state_union to /root/nltk_data...\n",
            "       |   Unzipping corpora/state_union.zip.\n",
            "       | Downloading package stopwords to /root/nltk_data...\n",
            "       |   Unzipping corpora/stopwords.zip.\n",
            "       | Downloading package subjectivity to /root/nltk_data...\n",
            "       |   Unzipping corpora/subjectivity.zip.\n",
            "       | Downloading package swadesh to /root/nltk_data...\n",
            "       |   Unzipping corpora/swadesh.zip.\n",
            "       | Downloading package switchboard to /root/nltk_data...\n",
            "       |   Unzipping corpora/switchboard.zip.\n",
            "       | Downloading package tagsets to /root/nltk_data...\n",
            "       |   Unzipping help/tagsets.zip.\n",
            "       | Downloading package tagsets_json to /root/nltk_data...\n",
            "       |   Unzipping help/tagsets_json.zip.\n",
            "       | Downloading package timit to /root/nltk_data...\n",
            "       |   Unzipping corpora/timit.zip.\n",
            "       | Downloading package toolbox to /root/nltk_data...\n",
            "       |   Unzipping corpora/toolbox.zip.\n",
            "       | Downloading package treebank to /root/nltk_data...\n",
            "       |   Unzipping corpora/treebank.zip.\n",
            "       | Downloading package twitter_samples to /root/nltk_data...\n",
            "       |   Unzipping corpora/twitter_samples.zip.\n",
            "       | Downloading package udhr to /root/nltk_data...\n",
            "       |   Unzipping corpora/udhr.zip.\n",
            "       | Downloading package udhr2 to /root/nltk_data...\n",
            "       |   Unzipping corpora/udhr2.zip.\n",
            "       | Downloading package unicode_samples to /root/nltk_data...\n",
            "       |   Unzipping corpora/unicode_samples.zip.\n",
            "       | Downloading package universal_tagset to /root/nltk_data...\n",
            "       |   Unzipping taggers/universal_tagset.zip.\n",
            "       | Downloading package universal_treebanks_v20 to\n",
            "       |     /root/nltk_data...\n",
            "       | Downloading package vader_lexicon to /root/nltk_data...\n",
            "       | Downloading package verbnet to /root/nltk_data...\n",
            "       |   Unzipping corpora/verbnet.zip.\n",
            "       | Downloading package verbnet3 to /root/nltk_data...\n",
            "       |   Unzipping corpora/verbnet3.zip.\n",
            "       | Downloading package webtext to /root/nltk_data...\n",
            "       |   Unzipping corpora/webtext.zip.\n",
            "       | Downloading package wmt15_eval to /root/nltk_data...\n",
            "       |   Unzipping models/wmt15_eval.zip.\n",
            "       | Downloading package word2vec_sample to /root/nltk_data...\n",
            "       |   Unzipping models/word2vec_sample.zip.\n",
            "       | Downloading package wordnet to /root/nltk_data...\n",
            "       | Downloading package wordnet2021 to /root/nltk_data...\n",
            "       | Downloading package wordnet2022 to /root/nltk_data...\n",
            "       |   Unzipping corpora/wordnet2022.zip.\n",
            "       | Downloading package wordnet31 to /root/nltk_data...\n",
            "       | Downloading package wordnet_ic to /root/nltk_data...\n",
            "       |   Unzipping corpora/wordnet_ic.zip.\n",
            "       | Downloading package words to /root/nltk_data...\n",
            "       |   Unzipping corpora/words.zip.\n",
            "       | Downloading package ycoe to /root/nltk_data...\n",
            "       |   Unzipping corpora/ycoe.zip.\n",
            "       | \n",
            "     Done downloading collection all\n"
          ]
        },
        {
          "name": "stdout",
          "output_type": "stream",
          "text": [
            "\n",
            "---------------------------------------------------------------------------\n",
            "    d) Download   l) List    u) Update   c) Config   h) Help   q) Quit\n",
            "---------------------------------------------------------------------------\n",
            "Downloader> q\n"
          ]
        },
        {
          "output_type": "execute_result",
          "data": {
            "text/plain": [
              "True"
            ]
          },
          "metadata": {},
          "execution_count": 3
        }
      ]
    },
    {
      "cell_type": "code",
      "source": [
        "datas = os.listdir(nltk.data.find(\"corpora\"))\n",
        "datas.sort()\n",
        "datas"
      ],
      "metadata": {
        "colab": {
          "base_uri": "https://localhost:8080/"
        },
        "id": "szzQf7bGfa4u",
        "outputId": "576988ce-328c-4885-b623-dc2e9c9feeae"
      },
      "execution_count": 4,
      "outputs": [
        {
          "output_type": "execute_result",
          "data": {
            "text/plain": [
              "['abc',\n",
              " 'abc.zip',\n",
              " 'alpino',\n",
              " 'alpino.zip',\n",
              " 'bcp47.zip',\n",
              " 'biocreative_ppi',\n",
              " 'biocreative_ppi.zip',\n",
              " 'brown',\n",
              " 'brown.zip',\n",
              " 'brown_tei',\n",
              " 'brown_tei.zip',\n",
              " 'cess_cat',\n",
              " 'cess_cat.zip',\n",
              " 'cess_esp',\n",
              " 'cess_esp.zip',\n",
              " 'chat80',\n",
              " 'chat80.zip',\n",
              " 'city_database',\n",
              " 'city_database.zip',\n",
              " 'cmudict',\n",
              " 'cmudict.zip',\n",
              " 'comparative_sentences',\n",
              " 'comparative_sentences.zip',\n",
              " 'comtrans.zip',\n",
              " 'conll2000',\n",
              " 'conll2000.zip',\n",
              " 'conll2002',\n",
              " 'conll2002.zip',\n",
              " 'conll2007.zip',\n",
              " 'crubadan',\n",
              " 'crubadan.zip',\n",
              " 'dependency_treebank',\n",
              " 'dependency_treebank.zip',\n",
              " 'dolch',\n",
              " 'dolch.zip',\n",
              " 'english_wordnet',\n",
              " 'english_wordnet.zip',\n",
              " 'europarl_raw',\n",
              " 'europarl_raw.zip',\n",
              " 'extended_omw.zip',\n",
              " 'floresta',\n",
              " 'floresta.zip',\n",
              " 'framenet_v15',\n",
              " 'framenet_v15.zip',\n",
              " 'framenet_v17',\n",
              " 'framenet_v17.zip',\n",
              " 'gazetteers',\n",
              " 'gazetteers.zip',\n",
              " 'genesis',\n",
              " 'genesis.zip',\n",
              " 'gutenberg',\n",
              " 'gutenberg.zip',\n",
              " 'ieer',\n",
              " 'ieer.zip',\n",
              " 'inaugural',\n",
              " 'inaugural.zip',\n",
              " 'indian',\n",
              " 'indian.zip',\n",
              " 'jeita.zip',\n",
              " 'kimmo',\n",
              " 'kimmo.zip',\n",
              " 'knbc.zip',\n",
              " 'lin_thesaurus',\n",
              " 'lin_thesaurus.zip',\n",
              " 'mac_morpho',\n",
              " 'mac_morpho.zip',\n",
              " 'machado.zip',\n",
              " 'masc_tagged.zip',\n",
              " 'movie_reviews',\n",
              " 'movie_reviews.zip',\n",
              " 'mte_teip5',\n",
              " 'mte_teip5.zip',\n",
              " 'names',\n",
              " 'names.zip',\n",
              " 'nombank.1.0.zip',\n",
              " 'nonbreaking_prefixes',\n",
              " 'nonbreaking_prefixes.zip',\n",
              " 'nps_chat',\n",
              " 'nps_chat.zip',\n",
              " 'omw-1.4.zip',\n",
              " 'omw.zip',\n",
              " 'opinion_lexicon',\n",
              " 'opinion_lexicon.zip',\n",
              " 'panlex_swadesh.zip',\n",
              " 'paradigms',\n",
              " 'paradigms.zip',\n",
              " 'pe08',\n",
              " 'pe08.zip',\n",
              " 'pil',\n",
              " 'pil.zip',\n",
              " 'pl196x',\n",
              " 'pl196x.zip',\n",
              " 'ppattach',\n",
              " 'ppattach.zip',\n",
              " 'problem_reports',\n",
              " 'problem_reports.zip',\n",
              " 'product_reviews_1',\n",
              " 'product_reviews_1.zip',\n",
              " 'product_reviews_2',\n",
              " 'product_reviews_2.zip',\n",
              " 'propbank.zip',\n",
              " 'pros_cons',\n",
              " 'pros_cons.zip',\n",
              " 'ptb',\n",
              " 'ptb.zip',\n",
              " 'qc',\n",
              " 'qc.zip',\n",
              " 'reuters.zip',\n",
              " 'rte',\n",
              " 'rte.zip',\n",
              " 'semcor.zip',\n",
              " 'senseval',\n",
              " 'senseval.zip',\n",
              " 'sentence_polarity',\n",
              " 'sentence_polarity.zip',\n",
              " 'sentiwordnet',\n",
              " 'sentiwordnet.zip',\n",
              " 'shakespeare',\n",
              " 'shakespeare.zip',\n",
              " 'sinica_treebank',\n",
              " 'sinica_treebank.zip',\n",
              " 'smultron',\n",
              " 'smultron.zip',\n",
              " 'state_union',\n",
              " 'state_union.zip',\n",
              " 'stopwords',\n",
              " 'stopwords.zip',\n",
              " 'subjectivity',\n",
              " 'subjectivity.zip',\n",
              " 'swadesh',\n",
              " 'swadesh.zip',\n",
              " 'switchboard',\n",
              " 'switchboard.zip',\n",
              " 'timit',\n",
              " 'timit.zip',\n",
              " 'toolbox',\n",
              " 'toolbox.zip',\n",
              " 'treebank',\n",
              " 'treebank.zip',\n",
              " 'twitter_samples',\n",
              " 'twitter_samples.zip',\n",
              " 'udhr',\n",
              " 'udhr.zip',\n",
              " 'udhr2',\n",
              " 'udhr2.zip',\n",
              " 'unicode_samples',\n",
              " 'unicode_samples.zip',\n",
              " 'universal_treebanks_v20.zip',\n",
              " 'verbnet',\n",
              " 'verbnet.zip',\n",
              " 'verbnet3',\n",
              " 'verbnet3.zip',\n",
              " 'webtext',\n",
              " 'webtext.zip',\n",
              " 'wordnet.zip',\n",
              " 'wordnet2021.zip',\n",
              " 'wordnet2022',\n",
              " 'wordnet2022.zip',\n",
              " 'wordnet31.zip',\n",
              " 'wordnet_ic',\n",
              " 'wordnet_ic.zip',\n",
              " 'words',\n",
              " 'words.zip',\n",
              " 'ycoe',\n",
              " 'ycoe.zip']"
            ]
          },
          "metadata": {},
          "execution_count": 4
        }
      ]
    },
    {
      "cell_type": "code",
      "source": [
        "from nltk.corpus import brown\n",
        "brown.words()"
      ],
      "metadata": {
        "colab": {
          "base_uri": "https://localhost:8080/"
        },
        "id": "J30EAep5heOh",
        "outputId": "0c16a42c-b022-4db6-919d-851614f29372"
      },
      "execution_count": 5,
      "outputs": [
        {
          "output_type": "execute_result",
          "data": {
            "text/plain": [
              "['The', 'Fulton', 'County', 'Grand', 'Jury', 'said', ...]"
            ]
          },
          "metadata": {},
          "execution_count": 5
        }
      ]
    },
    {
      "cell_type": "code",
      "source": [
        "nltk.corpus.gutenberg.fileids()"
      ],
      "metadata": {
        "colab": {
          "base_uri": "https://localhost:8080/"
        },
        "id": "CK8G3DHUgQWJ",
        "outputId": "f631af8d-58fd-4f1a-cc89-dcb1ce64ba4a"
      },
      "execution_count": 6,
      "outputs": [
        {
          "output_type": "execute_result",
          "data": {
            "text/plain": [
              "['austen-emma.txt',\n",
              " 'austen-persuasion.txt',\n",
              " 'austen-sense.txt',\n",
              " 'bible-kjv.txt',\n",
              " 'blake-poems.txt',\n",
              " 'bryant-stories.txt',\n",
              " 'burgess-busterbrown.txt',\n",
              " 'carroll-alice.txt',\n",
              " 'chesterton-ball.txt',\n",
              " 'chesterton-brown.txt',\n",
              " 'chesterton-thursday.txt',\n",
              " 'edgeworth-parents.txt',\n",
              " 'melville-moby_dick.txt',\n",
              " 'milton-paradise.txt',\n",
              " 'shakespeare-caesar.txt',\n",
              " 'shakespeare-hamlet.txt',\n",
              " 'shakespeare-macbeth.txt',\n",
              " 'whitman-leaves.txt']"
            ]
          },
          "metadata": {},
          "execution_count": 6
        }
      ]
    },
    {
      "cell_type": "code",
      "source": [
        "hamlet = nltk.corpus.gutenberg.words('shakespeare-hamlet.txt')\n",
        "hamlet"
      ],
      "metadata": {
        "colab": {
          "base_uri": "https://localhost:8080/"
        },
        "id": "fqaJhIxiiIZM",
        "outputId": "f934dd12-afda-4a88-e450-208d39dff777"
      },
      "execution_count": 7,
      "outputs": [
        {
          "output_type": "execute_result",
          "data": {
            "text/plain": [
              "['[', 'The', 'Tragedie', 'of', 'Hamlet', 'by', ...]"
            ]
          },
          "metadata": {},
          "execution_count": 7
        }
      ]
    },
    {
      "cell_type": "code",
      "source": [
        "len(hamlet)"
      ],
      "metadata": {
        "colab": {
          "base_uri": "https://localhost:8080/"
        },
        "id": "iZJrYCiBibju",
        "outputId": "aa60eea5-bb0c-4626-c1a8-9edec6fa5b0d"
      },
      "execution_count": 8,
      "outputs": [
        {
          "output_type": "execute_result",
          "data": {
            "text/plain": [
              "37360"
            ]
          },
          "metadata": {},
          "execution_count": 8
        }
      ]
    },
    {
      "cell_type": "code",
      "source": [
        "words = \"\"\n",
        "for word in hamlet[:100]:\n",
        "  words += word + \" \"\n",
        "words"
      ],
      "metadata": {
        "colab": {
          "base_uri": "https://localhost:8080/",
          "height": 70
        },
        "id": "r62a1QwpiiMg",
        "outputId": "a0a7c804-5257-4338-eabc-cf66d983ed61"
      },
      "execution_count": 9,
      "outputs": [
        {
          "output_type": "execute_result",
          "data": {
            "text/plain": [
              "\"[ The Tragedie of Hamlet by William Shakespeare 1599 ] Actus Primus . Scoena Prima . Enter Barnardo and Francisco two Centinels . Barnardo . Who ' s there ? Fran . Nay answer me : Stand & vnfold your selfe Bar . Long liue the King Fran . Barnardo ? Bar . He Fran . You come most carefully vpon your houre Bar . ' Tis now strook twelue , get thee to bed Francisco Fran . For this releefe much thankes : ' Tis bitter cold , And I am sicke at heart Barn . Haue you had \""
            ],
            "application/vnd.google.colaboratory.intrinsic+json": {
              "type": "string"
            }
          },
          "metadata": {},
          "execution_count": 9
        }
      ]
    },
    {
      "cell_type": "code",
      "source": [
        "text = \"\"\"Lorem ipsum dolor sit amet. 33 eaque repellat et ratione atque ab voluptates quia! Sit sint accusamus sed unde nesciunt ut voluptatem consequuntur sed autem similique vel dolores repellat sit laborum aperiam.\n",
        "\n",
        "Sed itaque nisi ex similique culpa qui saepe impedit qui atque voluptatem sed nihil quibusdam. Sed repudiandae quidem 33 dolores dolorem quo sunt aliquid et repellendus corporis ut dolore voluptatem. Aut quia dolorum ut quod nihil At tempora dolor ea eligendi porro quo deleniti possimus ut similique minima eum nesciunt atque. Aut obcaecati debitis quo accusamus porro et iure voluptatem et rerum consectetur ut voluptatem provident et impedit minima.\n",
        "\n",
        "Ex quasi labore qui repellat totam rem ratione labore in rerum rerum ea recusandae sunt est obcaecati esse? Ut soluta autem et vero eaque est sapiente consequatur 33 ducimus vero est quisquam quaerat. Eos nihil laudantium qui repellat voluptas 33 accusamus eligendi ea corporis minima eum voluptas quibusdam qui nesciunt quod. Est reiciendis delectus sed quia consequatur et officia tempore rem velit galisum et voluptatem magni sed blanditiis ipsam sed vero voluptatum.\n",
        "\n",
        "Sit tenetur amet et internos dolorem eum alias tempore. Eum corrupti quia qui dolorem molestiae qui eligendi consequatur. Id quod officia ad nobis quam qui ipsa iure non deleniti eligendi quo corporis exercitationem. Sit magni dolore et suscipit doloribus quo molestias quas.\n",
        "\n",
        "33 mollitia laudantium id pariatur mollitia eum aperiam quisquam. Aut voluptas optio aut fuga ipsam et quisquam libero ab culpa explicabo ut animi accusamus et ipsam doloribus sed quia perspiciatis. Qui consequuntur quia eos officia alias et consequatur quia est consequuntur reiciendis ex omnis laborum non doloribus optio. Eos dolorum nisi qui perferendis nesciunt in nobis voluptate sit doloribus odio et dolores itaque nam assumenda magnam?\n",
        "\"\"\""
      ],
      "metadata": {
        "id": "p95LhcGbqZkW"
      },
      "execution_count": 10,
      "outputs": []
    },
    {
      "cell_type": "code",
      "source": [
        "from nltk.tokenize import word_tokenize"
      ],
      "metadata": {
        "id": "pWM_35vLrTSE"
      },
      "execution_count": 11,
      "outputs": []
    },
    {
      "cell_type": "code",
      "source": [
        "text_tokens = word_tokenize(text)\n",
        "text_tokens"
      ],
      "metadata": {
        "colab": {
          "base_uri": "https://localhost:8080/"
        },
        "id": "gkS9Teisrc3p",
        "outputId": "4bfcb432-015f-4fe7-8f92-bf37413b475c"
      },
      "execution_count": 12,
      "outputs": [
        {
          "output_type": "execute_result",
          "data": {
            "text/plain": [
              "['Lorem',\n",
              " 'ipsum',\n",
              " 'dolor',\n",
              " 'sit',\n",
              " 'amet',\n",
              " '.',\n",
              " '33',\n",
              " 'eaque',\n",
              " 'repellat',\n",
              " 'et',\n",
              " 'ratione',\n",
              " 'atque',\n",
              " 'ab',\n",
              " 'voluptates',\n",
              " 'quia',\n",
              " '!',\n",
              " 'Sit',\n",
              " 'sint',\n",
              " 'accusamus',\n",
              " 'sed',\n",
              " 'unde',\n",
              " 'nesciunt',\n",
              " 'ut',\n",
              " 'voluptatem',\n",
              " 'consequuntur',\n",
              " 'sed',\n",
              " 'autem',\n",
              " 'similique',\n",
              " 'vel',\n",
              " 'dolores',\n",
              " 'repellat',\n",
              " 'sit',\n",
              " 'laborum',\n",
              " 'aperiam',\n",
              " '.',\n",
              " 'Sed',\n",
              " 'itaque',\n",
              " 'nisi',\n",
              " 'ex',\n",
              " 'similique',\n",
              " 'culpa',\n",
              " 'qui',\n",
              " 'saepe',\n",
              " 'impedit',\n",
              " 'qui',\n",
              " 'atque',\n",
              " 'voluptatem',\n",
              " 'sed',\n",
              " 'nihil',\n",
              " 'quibusdam',\n",
              " '.',\n",
              " 'Sed',\n",
              " 'repudiandae',\n",
              " 'quidem',\n",
              " '33',\n",
              " 'dolores',\n",
              " 'dolorem',\n",
              " 'quo',\n",
              " 'sunt',\n",
              " 'aliquid',\n",
              " 'et',\n",
              " 'repellendus',\n",
              " 'corporis',\n",
              " 'ut',\n",
              " 'dolore',\n",
              " 'voluptatem',\n",
              " '.',\n",
              " 'Aut',\n",
              " 'quia',\n",
              " 'dolorum',\n",
              " 'ut',\n",
              " 'quod',\n",
              " 'nihil',\n",
              " 'At',\n",
              " 'tempora',\n",
              " 'dolor',\n",
              " 'ea',\n",
              " 'eligendi',\n",
              " 'porro',\n",
              " 'quo',\n",
              " 'deleniti',\n",
              " 'possimus',\n",
              " 'ut',\n",
              " 'similique',\n",
              " 'minima',\n",
              " 'eum',\n",
              " 'nesciunt',\n",
              " 'atque',\n",
              " '.',\n",
              " 'Aut',\n",
              " 'obcaecati',\n",
              " 'debitis',\n",
              " 'quo',\n",
              " 'accusamus',\n",
              " 'porro',\n",
              " 'et',\n",
              " 'iure',\n",
              " 'voluptatem',\n",
              " 'et',\n",
              " 'rerum',\n",
              " 'consectetur',\n",
              " 'ut',\n",
              " 'voluptatem',\n",
              " 'provident',\n",
              " 'et',\n",
              " 'impedit',\n",
              " 'minima',\n",
              " '.',\n",
              " 'Ex',\n",
              " 'quasi',\n",
              " 'labore',\n",
              " 'qui',\n",
              " 'repellat',\n",
              " 'totam',\n",
              " 'rem',\n",
              " 'ratione',\n",
              " 'labore',\n",
              " 'in',\n",
              " 'rerum',\n",
              " 'rerum',\n",
              " 'ea',\n",
              " 'recusandae',\n",
              " 'sunt',\n",
              " 'est',\n",
              " 'obcaecati',\n",
              " 'esse',\n",
              " '?',\n",
              " 'Ut',\n",
              " 'soluta',\n",
              " 'autem',\n",
              " 'et',\n",
              " 'vero',\n",
              " 'eaque',\n",
              " 'est',\n",
              " 'sapiente',\n",
              " 'consequatur',\n",
              " '33',\n",
              " 'ducimus',\n",
              " 'vero',\n",
              " 'est',\n",
              " 'quisquam',\n",
              " 'quaerat',\n",
              " '.',\n",
              " 'Eos',\n",
              " 'nihil',\n",
              " 'laudantium',\n",
              " 'qui',\n",
              " 'repellat',\n",
              " 'voluptas',\n",
              " '33',\n",
              " 'accusamus',\n",
              " 'eligendi',\n",
              " 'ea',\n",
              " 'corporis',\n",
              " 'minima',\n",
              " 'eum',\n",
              " 'voluptas',\n",
              " 'quibusdam',\n",
              " 'qui',\n",
              " 'nesciunt',\n",
              " 'quod',\n",
              " '.',\n",
              " 'Est',\n",
              " 'reiciendis',\n",
              " 'delectus',\n",
              " 'sed',\n",
              " 'quia',\n",
              " 'consequatur',\n",
              " 'et',\n",
              " 'officia',\n",
              " 'tempore',\n",
              " 'rem',\n",
              " 'velit',\n",
              " 'galisum',\n",
              " 'et',\n",
              " 'voluptatem',\n",
              " 'magni',\n",
              " 'sed',\n",
              " 'blanditiis',\n",
              " 'ipsam',\n",
              " 'sed',\n",
              " 'vero',\n",
              " 'voluptatum',\n",
              " '.',\n",
              " 'Sit',\n",
              " 'tenetur',\n",
              " 'amet',\n",
              " 'et',\n",
              " 'internos',\n",
              " 'dolorem',\n",
              " 'eum',\n",
              " 'alias',\n",
              " 'tempore',\n",
              " '.',\n",
              " 'Eum',\n",
              " 'corrupti',\n",
              " 'quia',\n",
              " 'qui',\n",
              " 'dolorem',\n",
              " 'molestiae',\n",
              " 'qui',\n",
              " 'eligendi',\n",
              " 'consequatur',\n",
              " '.',\n",
              " 'Id',\n",
              " 'quod',\n",
              " 'officia',\n",
              " 'ad',\n",
              " 'nobis',\n",
              " 'quam',\n",
              " 'qui',\n",
              " 'ipsa',\n",
              " 'iure',\n",
              " 'non',\n",
              " 'deleniti',\n",
              " 'eligendi',\n",
              " 'quo',\n",
              " 'corporis',\n",
              " 'exercitationem',\n",
              " '.',\n",
              " 'Sit',\n",
              " 'magni',\n",
              " 'dolore',\n",
              " 'et',\n",
              " 'suscipit',\n",
              " 'doloribus',\n",
              " 'quo',\n",
              " 'molestias',\n",
              " 'quas',\n",
              " '.',\n",
              " '33',\n",
              " 'mollitia',\n",
              " 'laudantium',\n",
              " 'id',\n",
              " 'pariatur',\n",
              " 'mollitia',\n",
              " 'eum',\n",
              " 'aperiam',\n",
              " 'quisquam',\n",
              " '.',\n",
              " 'Aut',\n",
              " 'voluptas',\n",
              " 'optio',\n",
              " 'aut',\n",
              " 'fuga',\n",
              " 'ipsam',\n",
              " 'et',\n",
              " 'quisquam',\n",
              " 'libero',\n",
              " 'ab',\n",
              " 'culpa',\n",
              " 'explicabo',\n",
              " 'ut',\n",
              " 'animi',\n",
              " 'accusamus',\n",
              " 'et',\n",
              " 'ipsam',\n",
              " 'doloribus',\n",
              " 'sed',\n",
              " 'quia',\n",
              " 'perspiciatis',\n",
              " '.',\n",
              " 'Qui',\n",
              " 'consequuntur',\n",
              " 'quia',\n",
              " 'eos',\n",
              " 'officia',\n",
              " 'alias',\n",
              " 'et',\n",
              " 'consequatur',\n",
              " 'quia',\n",
              " 'est',\n",
              " 'consequuntur',\n",
              " 'reiciendis',\n",
              " 'ex',\n",
              " 'omnis',\n",
              " 'laborum',\n",
              " 'non',\n",
              " 'doloribus',\n",
              " 'optio',\n",
              " '.',\n",
              " 'Eos',\n",
              " 'dolorum',\n",
              " 'nisi',\n",
              " 'qui',\n",
              " 'perferendis',\n",
              " 'nesciunt',\n",
              " 'in',\n",
              " 'nobis',\n",
              " 'voluptate',\n",
              " 'sit',\n",
              " 'doloribus',\n",
              " 'odio',\n",
              " 'et',\n",
              " 'dolores',\n",
              " 'itaque',\n",
              " 'nam',\n",
              " 'assumenda',\n",
              " 'magnam',\n",
              " '?']"
            ]
          },
          "metadata": {},
          "execution_count": 12
        }
      ]
    },
    {
      "cell_type": "code",
      "source": [
        "len(text_tokens)"
      ],
      "metadata": {
        "colab": {
          "base_uri": "https://localhost:8080/"
        },
        "id": "yIGET-Gtr0WB",
        "outputId": "17990369-dbfb-4c02-c95d-1986c53e46f9"
      },
      "execution_count": 13,
      "outputs": [
        {
          "output_type": "execute_result",
          "data": {
            "text/plain": [
              "300"
            ]
          },
          "metadata": {},
          "execution_count": 13
        }
      ]
    },
    {
      "cell_type": "code",
      "source": [
        "len(text)"
      ],
      "metadata": {
        "colab": {
          "base_uri": "https://localhost:8080/"
        },
        "id": "F0smnzfLr3Cf",
        "outputId": "97d8c626-e10f-4f39-927a-c19b604608ef"
      },
      "execution_count": 14,
      "outputs": [
        {
          "output_type": "execute_result",
          "data": {
            "text/plain": [
              "1858"
            ]
          },
          "metadata": {},
          "execution_count": 14
        }
      ]
    },
    {
      "cell_type": "code",
      "source": [
        "from nltk.probability import FreqDist\n",
        "fdist = FreqDist()"
      ],
      "metadata": {
        "id": "KZqIjRJisJRn"
      },
      "execution_count": 15,
      "outputs": []
    },
    {
      "cell_type": "code",
      "source": [
        "fdist"
      ],
      "metadata": {
        "colab": {
          "base_uri": "https://localhost:8080/"
        },
        "id": "q-sHrVxasaEx",
        "outputId": "ea91ce03-2c72-4d70-ea1f-399029d878e4"
      },
      "execution_count": 16,
      "outputs": [
        {
          "output_type": "execute_result",
          "data": {
            "text/plain": [
              "FreqDist({})"
            ]
          },
          "metadata": {},
          "execution_count": 16
        }
      ]
    },
    {
      "cell_type": "code",
      "source": [
        "for word in text_tokens:\n",
        "  fdist[word.lower()] += 1\n",
        "fdist"
      ],
      "metadata": {
        "colab": {
          "base_uri": "https://localhost:8080/"
        },
        "id": "EKlLzsCGsO40",
        "outputId": "79159c5a-effa-4c54-fcd6-9e6d74f96a27"
      },
      "execution_count": 17,
      "outputs": [
        {
          "output_type": "execute_result",
          "data": {
            "text/plain": [
              "FreqDist({'.': 16, 'et': 14, 'qui': 10, 'sed': 9, 'quia': 7, 'ut': 7, 'sit': 6, 'voluptatem': 6, '33': 5, 'quo': 5, ...})"
            ]
          },
          "metadata": {},
          "execution_count": 17
        }
      ]
    },
    {
      "cell_type": "code",
      "source": [
        "fdist[\"sit\"]"
      ],
      "metadata": {
        "colab": {
          "base_uri": "https://localhost:8080/"
        },
        "id": "j7I_99r2swiK",
        "outputId": "269154b9-5c0a-43f7-dfa4-a1e09df154c3"
      },
      "execution_count": 18,
      "outputs": [
        {
          "output_type": "execute_result",
          "data": {
            "text/plain": [
              "6"
            ]
          },
          "metadata": {},
          "execution_count": 18
        }
      ]
    },
    {
      "cell_type": "code",
      "source": [
        "len(fdist)"
      ],
      "metadata": {
        "colab": {
          "base_uri": "https://localhost:8080/"
        },
        "id": "1P2rlWlEs3Ie",
        "outputId": "7ffcb29b-94d6-4e16-f65f-8c25d9ade9b7"
      },
      "execution_count": 19,
      "outputs": [
        {
          "output_type": "execute_result",
          "data": {
            "text/plain": [
              "126"
            ]
          },
          "metadata": {},
          "execution_count": 19
        }
      ]
    },
    {
      "cell_type": "code",
      "source": [
        "#Top 10 tokens\n",
        "fdist.most_common(10)"
      ],
      "metadata": {
        "colab": {
          "base_uri": "https://localhost:8080/"
        },
        "id": "upZqMPP7tfVL",
        "outputId": "ba1b9f43-4796-4bd1-c991-acbc30c8036a"
      },
      "execution_count": 20,
      "outputs": [
        {
          "output_type": "execute_result",
          "data": {
            "text/plain": [
              "[('.', 16),\n",
              " ('et', 14),\n",
              " ('qui', 10),\n",
              " ('sed', 9),\n",
              " ('quia', 7),\n",
              " ('ut', 7),\n",
              " ('sit', 6),\n",
              " ('voluptatem', 6),\n",
              " ('33', 5),\n",
              " ('quo', 5)]"
            ]
          },
          "metadata": {},
          "execution_count": 20
        }
      ]
    },
    {
      "cell_type": "code",
      "source": [
        "from nltk.tokenize import blankline_tokenize\n",
        "text_blank = blankline_tokenize(text)\n",
        "len(text_blank)"
      ],
      "metadata": {
        "colab": {
          "base_uri": "https://localhost:8080/"
        },
        "id": "FC5PVZ9zvyXA",
        "outputId": "e3369ecb-3485-44be-8113-db37b7c44f9d"
      },
      "execution_count": 21,
      "outputs": [
        {
          "output_type": "execute_result",
          "data": {
            "text/plain": [
              "5"
            ]
          },
          "metadata": {},
          "execution_count": 21
        }
      ]
    },
    {
      "cell_type": "code",
      "source": [
        "text_blank"
      ],
      "metadata": {
        "colab": {
          "base_uri": "https://localhost:8080/"
        },
        "id": "c0cw7G89v-6w",
        "outputId": "f2ed26f6-5d54-4f13-ae87-9fae88d34c91"
      },
      "execution_count": 22,
      "outputs": [
        {
          "output_type": "execute_result",
          "data": {
            "text/plain": [
              "['Lorem ipsum dolor sit amet. 33 eaque repellat et ratione atque ab voluptates quia! Sit sint accusamus sed unde nesciunt ut voluptatem consequuntur sed autem similique vel dolores repellat sit laborum aperiam.',\n",
              " 'Sed itaque nisi ex similique culpa qui saepe impedit qui atque voluptatem sed nihil quibusdam. Sed repudiandae quidem 33 dolores dolorem quo sunt aliquid et repellendus corporis ut dolore voluptatem. Aut quia dolorum ut quod nihil At tempora dolor ea eligendi porro quo deleniti possimus ut similique minima eum nesciunt atque. Aut obcaecati debitis quo accusamus porro et iure voluptatem et rerum consectetur ut voluptatem provident et impedit minima.',\n",
              " 'Ex quasi labore qui repellat totam rem ratione labore in rerum rerum ea recusandae sunt est obcaecati esse? Ut soluta autem et vero eaque est sapiente consequatur 33 ducimus vero est quisquam quaerat. Eos nihil laudantium qui repellat voluptas 33 accusamus eligendi ea corporis minima eum voluptas quibusdam qui nesciunt quod. Est reiciendis delectus sed quia consequatur et officia tempore rem velit galisum et voluptatem magni sed blanditiis ipsam sed vero voluptatum.',\n",
              " 'Sit tenetur amet et internos dolorem eum alias tempore. Eum corrupti quia qui dolorem molestiae qui eligendi consequatur. Id quod officia ad nobis quam qui ipsa iure non deleniti eligendi quo corporis exercitationem. Sit magni dolore et suscipit doloribus quo molestias quas.',\n",
              " '33 mollitia laudantium id pariatur mollitia eum aperiam quisquam. Aut voluptas optio aut fuga ipsam et quisquam libero ab culpa explicabo ut animi accusamus et ipsam doloribus sed quia perspiciatis. Qui consequuntur quia eos officia alias et consequatur quia est consequuntur reiciendis ex omnis laborum non doloribus optio. Eos dolorum nisi qui perferendis nesciunt in nobis voluptate sit doloribus odio et dolores itaque nam assumenda magnam?\\n']"
            ]
          },
          "metadata": {},
          "execution_count": 22
        }
      ]
    },
    {
      "cell_type": "code",
      "source": [
        "from nltk.util import bigrams, trigrams, ngrams"
      ],
      "metadata": {
        "id": "7LhsGptPEI45"
      },
      "execution_count": 23,
      "outputs": []
    },
    {
      "cell_type": "code",
      "source": [
        "text_2 = \"mollitia laudantium id pariatur mollitia: eum aperiam quisquam.\"\n",
        "text_2_tokens = nltk.word_tokenize(text_2)\n",
        "text_2_tokens"
      ],
      "metadata": {
        "colab": {
          "base_uri": "https://localhost:8080/"
        },
        "id": "CarnRewREOtv",
        "outputId": "3b25e806-dcd0-4541-f99f-e62fde5a3b32"
      },
      "execution_count": 42,
      "outputs": [
        {
          "output_type": "execute_result",
          "data": {
            "text/plain": [
              "['mollitia',\n",
              " 'laudantium',\n",
              " 'id',\n",
              " 'pariatur',\n",
              " 'mollitia',\n",
              " ':',\n",
              " 'eum',\n",
              " 'aperiam',\n",
              " 'quisquam',\n",
              " '.']"
            ]
          },
          "metadata": {},
          "execution_count": 42
        }
      ]
    },
    {
      "cell_type": "code",
      "source": [
        "text_2_bigrams = list(bigrams(text_2_tokens))\n",
        "text_2_bigrams"
      ],
      "metadata": {
        "colab": {
          "base_uri": "https://localhost:8080/"
        },
        "id": "U_nLmHhUEpgc",
        "outputId": "7736af98-468a-4962-a451-7c7f8cbd97fb"
      },
      "execution_count": 25,
      "outputs": [
        {
          "output_type": "execute_result",
          "data": {
            "text/plain": [
              "[('mollitia', 'laudantium'),\n",
              " ('laudantium', 'id'),\n",
              " ('id', 'pariatur'),\n",
              " ('pariatur', 'mollitia'),\n",
              " ('mollitia', 'eum'),\n",
              " ('eum', 'aperiam'),\n",
              " ('aperiam', 'quisquam'),\n",
              " ('quisquam', '.')]"
            ]
          },
          "metadata": {},
          "execution_count": 25
        }
      ]
    },
    {
      "cell_type": "code",
      "source": [
        "text_2_trigrams = list(trigrams(text_2_tokens))\n",
        "text_2_trigrams"
      ],
      "metadata": {
        "colab": {
          "base_uri": "https://localhost:8080/"
        },
        "id": "4RyS3c-xFAei",
        "outputId": "4608ff8a-fcaa-4460-fe96-5d7f32455bcf"
      },
      "execution_count": 26,
      "outputs": [
        {
          "output_type": "execute_result",
          "data": {
            "text/plain": [
              "[('mollitia', 'laudantium', 'id'),\n",
              " ('laudantium', 'id', 'pariatur'),\n",
              " ('id', 'pariatur', 'mollitia'),\n",
              " ('pariatur', 'mollitia', 'eum'),\n",
              " ('mollitia', 'eum', 'aperiam'),\n",
              " ('eum', 'aperiam', 'quisquam'),\n",
              " ('aperiam', 'quisquam', '.')]"
            ]
          },
          "metadata": {},
          "execution_count": 26
        }
      ]
    },
    {
      "cell_type": "code",
      "source": [
        "text_2_ngrams = list(ngrams(text_2_tokens, 5))\n",
        "text_2_ngrams"
      ],
      "metadata": {
        "colab": {
          "base_uri": "https://localhost:8080/"
        },
        "id": "n5ZqIvTUFFzW",
        "outputId": "e7095fc5-7a03-41e4-9579-111b802f70d4"
      },
      "execution_count": 27,
      "outputs": [
        {
          "output_type": "execute_result",
          "data": {
            "text/plain": [
              "[('mollitia', 'laudantium', 'id', 'pariatur', 'mollitia'),\n",
              " ('laudantium', 'id', 'pariatur', 'mollitia', 'eum'),\n",
              " ('id', 'pariatur', 'mollitia', 'eum', 'aperiam'),\n",
              " ('pariatur', 'mollitia', 'eum', 'aperiam', 'quisquam'),\n",
              " ('mollitia', 'eum', 'aperiam', 'quisquam', '.')]"
            ]
          },
          "metadata": {},
          "execution_count": 27
        }
      ]
    },
    {
      "cell_type": "markdown",
      "source": [
        "## Stemming\n",
        "- Normalize words into its base form or root form.\n",
        "- Ex: the words such as Affection, affects, affected, affectation, etc..originated from a single word called *affect*"
      ],
      "metadata": {
        "id": "uMNeH26DFRyz"
      }
    },
    {
      "cell_type": "code",
      "source": [
        "from nltk.stem import PorterStemmer\n",
        "pst = PorterStemmer()"
      ],
      "metadata": {
        "id": "MImAle9LFS1L"
      },
      "execution_count": 28,
      "outputs": []
    },
    {
      "cell_type": "code",
      "source": [
        "pst.stem(\"having\")"
      ],
      "metadata": {
        "colab": {
          "base_uri": "https://localhost:8080/",
          "height": 35
        },
        "id": "1kEX7qUXGM6Y",
        "outputId": "48976195-3067-4741-8777-6ecad5ff8239"
      },
      "execution_count": 29,
      "outputs": [
        {
          "output_type": "execute_result",
          "data": {
            "text/plain": [
              "'have'"
            ],
            "application/vnd.google.colaboratory.intrinsic+json": {
              "type": "string"
            }
          },
          "metadata": {},
          "execution_count": 29
        }
      ]
    },
    {
      "cell_type": "code",
      "source": [
        "words_to_stem = [\"give\", \"giving\", \"given\", \"gave\"]\n",
        "for words in words_to_stem:\n",
        "  print(words + \" : \" + pst.stem(words))"
      ],
      "metadata": {
        "colab": {
          "base_uri": "https://localhost:8080/"
        },
        "id": "CZolh802GuC0",
        "outputId": "e40e0bf1-c2e1-42e0-ba92-fadd6fa93f86"
      },
      "execution_count": 30,
      "outputs": [
        {
          "output_type": "stream",
          "name": "stdout",
          "text": [
            "give : give\n",
            "giving : give\n",
            "given : given\n",
            "gave : gave\n"
          ]
        }
      ]
    },
    {
      "cell_type": "code",
      "source": [
        "from nltk.stem import LancasterStemmer\n",
        "lst = LancasterStemmer()\n",
        "for words in words_to_stem:\n",
        "  print(words + \" : \" + lst.stem(words))"
      ],
      "metadata": {
        "colab": {
          "base_uri": "https://localhost:8080/"
        },
        "id": "hg1dPJCXHRju",
        "outputId": "e0298540-0f72-44c4-bf41-a6d56ebbbd1b"
      },
      "execution_count": 31,
      "outputs": [
        {
          "output_type": "stream",
          "name": "stdout",
          "text": [
            "give : giv\n",
            "giving : giv\n",
            "given : giv\n",
            "gave : gav\n"
          ]
        }
      ]
    },
    {
      "cell_type": "code",
      "source": [
        "from nltk.stem import SnowballStemmer\n",
        "sbst = SnowballStemmer('english')\n",
        "for words in words_to_stem:\n",
        "  print(words + \" : \" + sbst.stem(words))"
      ],
      "metadata": {
        "colab": {
          "base_uri": "https://localhost:8080/"
        },
        "id": "OpNXuJfrHnes",
        "outputId": "2d6b1781-7c45-4481-dd86-9b94085b3d19"
      },
      "execution_count": 32,
      "outputs": [
        {
          "output_type": "stream",
          "name": "stdout",
          "text": [
            "give : give\n",
            "giving : give\n",
            "given : given\n",
            "gave : gave\n"
          ]
        }
      ]
    },
    {
      "cell_type": "markdown",
      "source": [
        "## Lemmatization\n",
        "\n",
        "\n",
        "- Groups together different inflected forms of word called lemma.\n",
        "- Somehow similar to stemming, as it maps several words into one common root.\n",
        "- output of lemmatisation is a proper word.\n",
        "- ex: gone, going --> go\n",
        "\n"
      ],
      "metadata": {
        "id": "LkdNldL7Iv4G"
      }
    },
    {
      "cell_type": "code",
      "source": [
        "from nltk.stem import wordnet\n",
        "from nltk.stem import WordNetLemmatizer\n",
        "word_lem = WordNetLemmatizer()"
      ],
      "metadata": {
        "id": "UtieBR2uJNRn"
      },
      "execution_count": 33,
      "outputs": []
    },
    {
      "cell_type": "code",
      "source": [
        "word_lem.lemmatize(\"corpora\")"
      ],
      "metadata": {
        "colab": {
          "base_uri": "https://localhost:8080/",
          "height": 35
        },
        "id": "4QZvBx1nJbw1",
        "outputId": "77bb9a35-d2b1-4d7e-972d-9cdc40205ac7"
      },
      "execution_count": 34,
      "outputs": [
        {
          "output_type": "execute_result",
          "data": {
            "text/plain": [
              "'corpus'"
            ],
            "application/vnd.google.colaboratory.intrinsic+json": {
              "type": "string"
            }
          },
          "metadata": {},
          "execution_count": 34
        }
      ]
    },
    {
      "cell_type": "code",
      "source": [
        "for words in words_to_stem:\n",
        "  print(words + \" : \" + word_lem.lemmatize(words))"
      ],
      "metadata": {
        "colab": {
          "base_uri": "https://localhost:8080/"
        },
        "id": "6r-N9Lq_KORT",
        "outputId": "29e93a19-a353-429c-e141-76374464e439"
      },
      "execution_count": 35,
      "outputs": [
        {
          "output_type": "stream",
          "name": "stdout",
          "text": [
            "give : give\n",
            "giving : giving\n",
            "given : given\n",
            "gave : gave\n"
          ]
        }
      ]
    },
    {
      "cell_type": "code",
      "source": [
        "from nltk.corpus import stopwords"
      ],
      "metadata": {
        "id": "iNoov1JBLJUt"
      },
      "execution_count": 36,
      "outputs": []
    },
    {
      "cell_type": "code",
      "source": [
        "stopwords.words(\"english\")"
      ],
      "metadata": {
        "colab": {
          "base_uri": "https://localhost:8080/"
        },
        "id": "jLec6HKYLMTE",
        "outputId": "b53c77c3-cf60-40e6-c021-4e5664b2640e"
      },
      "execution_count": 38,
      "outputs": [
        {
          "output_type": "execute_result",
          "data": {
            "text/plain": [
              "['a',\n",
              " 'about',\n",
              " 'above',\n",
              " 'after',\n",
              " 'again',\n",
              " 'against',\n",
              " 'ain',\n",
              " 'all',\n",
              " 'am',\n",
              " 'an',\n",
              " 'and',\n",
              " 'any',\n",
              " 'are',\n",
              " 'aren',\n",
              " \"aren't\",\n",
              " 'as',\n",
              " 'at',\n",
              " 'be',\n",
              " 'because',\n",
              " 'been',\n",
              " 'before',\n",
              " 'being',\n",
              " 'below',\n",
              " 'between',\n",
              " 'both',\n",
              " 'but',\n",
              " 'by',\n",
              " 'can',\n",
              " 'couldn',\n",
              " \"couldn't\",\n",
              " 'd',\n",
              " 'did',\n",
              " 'didn',\n",
              " \"didn't\",\n",
              " 'do',\n",
              " 'does',\n",
              " 'doesn',\n",
              " \"doesn't\",\n",
              " 'doing',\n",
              " 'don',\n",
              " \"don't\",\n",
              " 'down',\n",
              " 'during',\n",
              " 'each',\n",
              " 'few',\n",
              " 'for',\n",
              " 'from',\n",
              " 'further',\n",
              " 'had',\n",
              " 'hadn',\n",
              " \"hadn't\",\n",
              " 'has',\n",
              " 'hasn',\n",
              " \"hasn't\",\n",
              " 'have',\n",
              " 'haven',\n",
              " \"haven't\",\n",
              " 'having',\n",
              " 'he',\n",
              " \"he'd\",\n",
              " \"he'll\",\n",
              " 'her',\n",
              " 'here',\n",
              " 'hers',\n",
              " 'herself',\n",
              " \"he's\",\n",
              " 'him',\n",
              " 'himself',\n",
              " 'his',\n",
              " 'how',\n",
              " 'i',\n",
              " \"i'd\",\n",
              " 'if',\n",
              " \"i'll\",\n",
              " \"i'm\",\n",
              " 'in',\n",
              " 'into',\n",
              " 'is',\n",
              " 'isn',\n",
              " \"isn't\",\n",
              " 'it',\n",
              " \"it'd\",\n",
              " \"it'll\",\n",
              " \"it's\",\n",
              " 'its',\n",
              " 'itself',\n",
              " \"i've\",\n",
              " 'just',\n",
              " 'll',\n",
              " 'm',\n",
              " 'ma',\n",
              " 'me',\n",
              " 'mightn',\n",
              " \"mightn't\",\n",
              " 'more',\n",
              " 'most',\n",
              " 'mustn',\n",
              " \"mustn't\",\n",
              " 'my',\n",
              " 'myself',\n",
              " 'needn',\n",
              " \"needn't\",\n",
              " 'no',\n",
              " 'nor',\n",
              " 'not',\n",
              " 'now',\n",
              " 'o',\n",
              " 'of',\n",
              " 'off',\n",
              " 'on',\n",
              " 'once',\n",
              " 'only',\n",
              " 'or',\n",
              " 'other',\n",
              " 'our',\n",
              " 'ours',\n",
              " 'ourselves',\n",
              " 'out',\n",
              " 'over',\n",
              " 'own',\n",
              " 're',\n",
              " 's',\n",
              " 'same',\n",
              " 'shan',\n",
              " \"shan't\",\n",
              " 'she',\n",
              " \"she'd\",\n",
              " \"she'll\",\n",
              " \"she's\",\n",
              " 'should',\n",
              " 'shouldn',\n",
              " \"shouldn't\",\n",
              " \"should've\",\n",
              " 'so',\n",
              " 'some',\n",
              " 'such',\n",
              " 't',\n",
              " 'than',\n",
              " 'that',\n",
              " \"that'll\",\n",
              " 'the',\n",
              " 'their',\n",
              " 'theirs',\n",
              " 'them',\n",
              " 'themselves',\n",
              " 'then',\n",
              " 'there',\n",
              " 'these',\n",
              " 'they',\n",
              " \"they'd\",\n",
              " \"they'll\",\n",
              " \"they're\",\n",
              " \"they've\",\n",
              " 'this',\n",
              " 'those',\n",
              " 'through',\n",
              " 'to',\n",
              " 'too',\n",
              " 'under',\n",
              " 'until',\n",
              " 'up',\n",
              " 've',\n",
              " 'very',\n",
              " 'was',\n",
              " 'wasn',\n",
              " \"wasn't\",\n",
              " 'we',\n",
              " \"we'd\",\n",
              " \"we'll\",\n",
              " \"we're\",\n",
              " 'were',\n",
              " 'weren',\n",
              " \"weren't\",\n",
              " \"we've\",\n",
              " 'what',\n",
              " 'when',\n",
              " 'where',\n",
              " 'which',\n",
              " 'while',\n",
              " 'who',\n",
              " 'whom',\n",
              " 'why',\n",
              " 'will',\n",
              " 'with',\n",
              " 'won',\n",
              " \"won't\",\n",
              " 'wouldn',\n",
              " \"wouldn't\",\n",
              " 'y',\n",
              " 'you',\n",
              " \"you'd\",\n",
              " \"you'll\",\n",
              " 'your',\n",
              " \"you're\",\n",
              " 'yours',\n",
              " 'yourself',\n",
              " 'yourselves',\n",
              " \"you've\"]"
            ]
          },
          "metadata": {},
          "execution_count": 38
        }
      ]
    },
    {
      "cell_type": "code",
      "source": [
        "len(stopwords.words(\"english\"))"
      ],
      "metadata": {
        "colab": {
          "base_uri": "https://localhost:8080/"
        },
        "id": "2JuxTL29xIi5",
        "outputId": "8821c5ed-e8fc-4d71-8162-fc9dc3a286a9"
      },
      "execution_count": 39,
      "outputs": [
        {
          "output_type": "execute_result",
          "data": {
            "text/plain": [
              "198"
            ]
          },
          "metadata": {},
          "execution_count": 39
        }
      ]
    },
    {
      "cell_type": "code",
      "source": [
        "import re\n",
        "punctuation = re.compile(r\"[-.?!,:;()|0-9]\")"
      ],
      "metadata": {
        "id": "QEoo2wIHxQVW"
      },
      "execution_count": 40,
      "outputs": []
    },
    {
      "cell_type": "code",
      "source": [
        "post_punctuation = []\n",
        "for words in text_2_tokens:\n",
        "  word = punctuation.sub(\"\",words)\n",
        "  if len(word)>0:\n",
        "    post_punctuation.append(word)\n",
        "post_punctuation"
      ],
      "metadata": {
        "colab": {
          "base_uri": "https://localhost:8080/"
        },
        "id": "R6z8zYwZxsp9",
        "outputId": "d5d87a5f-ba50-4afd-f7e5-042fda75e6a3"
      },
      "execution_count": 43,
      "outputs": [
        {
          "output_type": "execute_result",
          "data": {
            "text/plain": [
              "['mollitia',\n",
              " 'laudantium',\n",
              " 'id',\n",
              " 'pariatur',\n",
              " 'mollitia',\n",
              " 'eum',\n",
              " 'aperiam',\n",
              " 'quisquam']"
            ]
          },
          "metadata": {},
          "execution_count": 43
        }
      ]
    },
    {
      "cell_type": "code",
      "source": [
        "sent = \"Timothy is a natural when it comes to drawing\"\n",
        "sent_tokens = word_tokenize(sent)\n",
        "sent_tokens"
      ],
      "metadata": {
        "colab": {
          "base_uri": "https://localhost:8080/"
        },
        "id": "pxYccgcczaLx",
        "outputId": "6624db07-b91e-415b-92b2-687059ea3864"
      },
      "execution_count": 47,
      "outputs": [
        {
          "output_type": "execute_result",
          "data": {
            "text/plain": [
              "['Timothy', 'is', 'a', 'natural', 'when', 'it', 'comes', 'to', 'drawing']"
            ]
          },
          "metadata": {},
          "execution_count": 47
        }
      ]
    },
    {
      "cell_type": "code",
      "source": [
        "for token in sent_tokens:\n",
        "  print(nltk.pos_tag([token]))"
      ],
      "metadata": {
        "colab": {
          "base_uri": "https://localhost:8080/"
        },
        "id": "r1Fm34UcznzP",
        "outputId": "cdc8cae8-e760-488f-bb25-bfe54e2e7540"
      },
      "execution_count": 46,
      "outputs": [
        {
          "output_type": "stream",
          "name": "stdout",
          "text": [
            "[('Timothy', 'NN')]\n",
            "[('is', 'VBZ')]\n",
            "[('a', 'DT')]\n",
            "[('natural', 'JJ')]\n",
            "[('when', 'WRB')]\n",
            "[('it', 'PRP')]\n",
            "[('comes', 'VBZ')]\n",
            "[('to', 'TO')]\n",
            "[('drawing', 'VBG')]\n"
          ]
        }
      ]
    },
    {
      "cell_type": "code",
      "source": [
        "sent = \"John is eating a delicious cake\"\n",
        "sent_tokens = word_tokenize(sent)\n",
        "for token in sent_tokens:\n",
        "  print(nltk.pos_tag([token]))"
      ],
      "metadata": {
        "colab": {
          "base_uri": "https://localhost:8080/"
        },
        "id": "pHKcmZpSz1ae",
        "outputId": "232a3d1c-b8db-4e78-adcf-3d71936127f9"
      },
      "execution_count": 49,
      "outputs": [
        {
          "output_type": "stream",
          "name": "stdout",
          "text": [
            "[('John', 'NNP')]\n",
            "[('is', 'VBZ')]\n",
            "[('eating', 'VBG')]\n",
            "[('a', 'DT')]\n",
            "[('delicious', 'JJ')]\n",
            "[('cake', 'NN')]\n"
          ]
        }
      ]
    },
    {
      "cell_type": "markdown",
      "source": [
        "## NER\n",
        "- The process of detecting a named entity such as movie, person, organization, location, etc., from the text is called named entity recognition.\n",
        "- Example: Google's CEO Sundar Pichai introduced the new pixel at Minnesota ROI centre Event.\n",
        " - Google's - Organization\n",
        " - Sundar Pichai - Person\n",
        " - Minnesota - Location\n",
        " - Roi Centre Event - Organization\n",
        "-Use Ghostscript software for visualization"
      ],
      "metadata": {
        "id": "Kz9iiVID0C4Q"
      }
    },
    {
      "cell_type": "code",
      "source": [
        "from nltk import ne_chunk\n",
        "NE_sent = \"The US President stays in the WHITE HOUSE\"\n",
        "NE_tokens = word_tokenize(NE_sent)\n",
        "NE_tags = nltk.pos_tag(NE_tokens)"
      ],
      "metadata": {
        "id": "LUal18ZC0Uw-"
      },
      "execution_count": 53,
      "outputs": []
    },
    {
      "cell_type": "code",
      "source": [
        "NE_NER = ne_chunk(NE_tags)\n",
        "print(NE_NER)"
      ],
      "metadata": {
        "colab": {
          "base_uri": "https://localhost:8080/"
        },
        "id": "x2IEPepJ1o5d",
        "outputId": "400b1d30-e905-4064-f01e-d0c4ade5e616"
      },
      "execution_count": 54,
      "outputs": [
        {
          "output_type": "stream",
          "name": "stdout",
          "text": [
            "(S\n",
            "  The/DT\n",
            "  (ORGANIZATION US/NNP)\n",
            "  President/NNP\n",
            "  stays/VBZ\n",
            "  in/IN\n",
            "  the/DT\n",
            "  (FACILITY WHITE/NNP HOUSE/NNP))\n"
          ]
        }
      ]
    },
    {
      "cell_type": "markdown",
      "source": [
        "## Chunking\n",
        "- Picking up individual pieces of information and grouping them into bigger pieces"
      ],
      "metadata": {
        "id": "JaGEP5Ub3LBg"
      }
    },
    {
      "cell_type": "code",
      "source": [
        "new = \"The big cat ate the little mouse who was after fresh cheese\"\n",
        "new_tokens = nltk.pos_tag(word_tokenize(new))\n",
        "new_tokens"
      ],
      "metadata": {
        "colab": {
          "base_uri": "https://localhost:8080/"
        },
        "id": "icgizRX92F_1",
        "outputId": "095626ab-fb49-4369-aa2c-0fcce74cdddf"
      },
      "execution_count": 55,
      "outputs": [
        {
          "output_type": "execute_result",
          "data": {
            "text/plain": [
              "[('The', 'DT'),\n",
              " ('big', 'JJ'),\n",
              " ('cat', 'NN'),\n",
              " ('ate', 'VBD'),\n",
              " ('the', 'DT'),\n",
              " ('little', 'JJ'),\n",
              " ('mouse', 'NN'),\n",
              " ('who', 'WP'),\n",
              " ('was', 'VBD'),\n",
              " ('after', 'IN'),\n",
              " ('fresh', 'JJ'),\n",
              " ('cheese', 'NN')]"
            ]
          },
          "metadata": {},
          "execution_count": 55
        }
      ]
    },
    {
      "cell_type": "code",
      "source": [
        "pip install svgling"
      ],
      "metadata": {
        "id": "arhXwbzR4cDl"
      },
      "execution_count": null,
      "outputs": []
    },
    {
      "cell_type": "code",
      "source": [
        "grammar_np = r\"NP: {<DT>?<JJ>*<NN>}\"\n",
        "chunk_parser = nltk.RegexpParser(grammar_np)\n",
        "chunk_result = chunk_parser.parse(new_tokens)\n",
        "chunk_result"
      ],
      "metadata": {
        "colab": {
          "base_uri": "https://localhost:8080/",
          "height": 189
        },
        "id": "zLzDoftY36c1",
        "outputId": "bc53e72d-295d-4dc7-ad42-2fda4341cf1e"
      },
      "execution_count": 58,
      "outputs": [
        {
          "output_type": "execute_result",
          "data": {
            "text/plain": [
              "Tree('S', [Tree('NP', [('The', 'DT'), ('big', 'JJ'), ('cat', 'NN')]), ('ate', 'VBD'), Tree('NP', [('the', 'DT'), ('little', 'JJ'), ('mouse', 'NN')]), ('who', 'WP'), ('was', 'VBD'), ('after', 'IN'), Tree('NP', [('fresh', 'JJ'), ('cheese', 'NN')])])"
            ],
            "image/svg+xml": "<svg baseProfile=\"full\" height=\"168px\" preserveAspectRatio=\"xMidYMid meet\" style=\"font-family: times, serif; font-weight: normal; font-style: normal; font-size: 16px\" version=\"1.1\" viewBox=\"0,0,576.0,168.0\" width=\"576px\" xmlns=\"http://www.w3.org/2000/svg\" xmlns:ev=\"http://www.w3.org/2001/xml-events\" xmlns:xlink=\"http://www.w3.org/1999/xlink\"><defs /><svg width=\"100%\" x=\"0\" y=\"0px\"><defs /><text text-anchor=\"middle\" x=\"50%\" y=\"16px\">S</text></svg><svg width=\"20.8333%\" x=\"0%\" y=\"48px\"><defs /><svg width=\"100%\" x=\"0\" y=\"0px\"><defs /><text text-anchor=\"middle\" x=\"50%\" y=\"16px\">NP</text></svg><svg width=\"33.3333%\" x=\"0%\" y=\"48px\"><defs /><svg width=\"100%\" x=\"0\" y=\"0px\"><defs /><text text-anchor=\"middle\" x=\"50%\" y=\"16px\">The</text></svg><svg width=\"100%\" x=\"0%\" y=\"48px\"><defs /><svg width=\"100%\" x=\"0\" y=\"0px\"><defs /><text text-anchor=\"middle\" x=\"50%\" y=\"16px\">DT</text></svg></svg><line stroke=\"black\" x1=\"50%\" x2=\"50%\" y1=\"20px\" y2=\"48px\" /></svg><line stroke=\"black\" x1=\"50%\" x2=\"16.6667%\" y1=\"20px\" y2=\"48px\" /><svg width=\"33.3333%\" x=\"33.3333%\" y=\"48px\"><defs /><svg width=\"100%\" x=\"0\" y=\"0px\"><defs /><text text-anchor=\"middle\" x=\"50%\" y=\"16px\">big</text></svg><svg width=\"100%\" x=\"0%\" y=\"48px\"><defs /><svg width=\"100%\" x=\"0\" y=\"0px\"><defs /><text text-anchor=\"middle\" x=\"50%\" y=\"16px\">JJ</text></svg></svg><line stroke=\"black\" x1=\"50%\" x2=\"50%\" y1=\"20px\" y2=\"48px\" /></svg><line stroke=\"black\" x1=\"50%\" x2=\"50%\" y1=\"20px\" y2=\"48px\" /><svg width=\"33.3333%\" x=\"66.6667%\" y=\"48px\"><defs /><svg width=\"100%\" x=\"0\" y=\"0px\"><defs /><text text-anchor=\"middle\" x=\"50%\" y=\"16px\">cat</text></svg><svg width=\"100%\" x=\"0%\" y=\"48px\"><defs /><svg width=\"100%\" x=\"0\" y=\"0px\"><defs /><text text-anchor=\"middle\" x=\"50%\" y=\"16px\">NN</text></svg></svg><line stroke=\"black\" x1=\"50%\" x2=\"50%\" y1=\"20px\" y2=\"48px\" /></svg><line stroke=\"black\" x1=\"50%\" x2=\"83.3333%\" y1=\"20px\" y2=\"48px\" /></svg><line stroke=\"black\" x1=\"50%\" x2=\"10.4167%\" y1=\"20px\" y2=\"48px\" /><svg width=\"6.94444%\" x=\"20.8333%\" y=\"48px\"><defs /><svg width=\"100%\" x=\"0\" y=\"0px\"><defs /><text text-anchor=\"middle\" x=\"50%\" y=\"16px\">ate</text></svg><svg width=\"100%\" x=\"0%\" y=\"48px\"><defs /><svg width=\"100%\" x=\"0\" y=\"0px\"><defs /><text text-anchor=\"middle\" x=\"50%\" y=\"16px\">VBD</text></svg></svg><line stroke=\"black\" x1=\"50%\" x2=\"50%\" y1=\"20px\" y2=\"48px\" /></svg><line stroke=\"black\" x1=\"50%\" x2=\"24.3056%\" y1=\"20px\" y2=\"48px\" /><svg width=\"27.7778%\" x=\"27.7778%\" y=\"48px\"><defs /><svg width=\"100%\" x=\"0\" y=\"0px\"><defs /><text text-anchor=\"middle\" x=\"50%\" y=\"16px\">NP</text></svg><svg width=\"25%\" x=\"0%\" y=\"48px\"><defs /><svg width=\"100%\" x=\"0\" y=\"0px\"><defs /><text text-anchor=\"middle\" x=\"50%\" y=\"16px\">the</text></svg><svg width=\"100%\" x=\"0%\" y=\"48px\"><defs /><svg width=\"100%\" x=\"0\" y=\"0px\"><defs /><text text-anchor=\"middle\" x=\"50%\" y=\"16px\">DT</text></svg></svg><line stroke=\"black\" x1=\"50%\" x2=\"50%\" y1=\"20px\" y2=\"48px\" /></svg><line stroke=\"black\" x1=\"50%\" x2=\"12.5%\" y1=\"20px\" y2=\"48px\" /><svg width=\"40%\" x=\"25%\" y=\"48px\"><defs /><svg width=\"100%\" x=\"0\" y=\"0px\"><defs /><text text-anchor=\"middle\" x=\"50%\" y=\"16px\">little</text></svg><svg width=\"100%\" x=\"0%\" y=\"48px\"><defs /><svg width=\"100%\" x=\"0\" y=\"0px\"><defs /><text text-anchor=\"middle\" x=\"50%\" y=\"16px\">JJ</text></svg></svg><line stroke=\"black\" x1=\"50%\" x2=\"50%\" y1=\"20px\" y2=\"48px\" /></svg><line stroke=\"black\" x1=\"50%\" x2=\"45%\" y1=\"20px\" y2=\"48px\" /><svg width=\"35%\" x=\"65%\" y=\"48px\"><defs /><svg width=\"100%\" x=\"0\" y=\"0px\"><defs /><text text-anchor=\"middle\" x=\"50%\" y=\"16px\">mouse</text></svg><svg width=\"100%\" x=\"0%\" y=\"48px\"><defs /><svg width=\"100%\" x=\"0\" y=\"0px\"><defs /><text text-anchor=\"middle\" x=\"50%\" y=\"16px\">NN</text></svg></svg><line stroke=\"black\" x1=\"50%\" x2=\"50%\" y1=\"20px\" y2=\"48px\" /></svg><line stroke=\"black\" x1=\"50%\" x2=\"82.5%\" y1=\"20px\" y2=\"48px\" /></svg><line stroke=\"black\" x1=\"50%\" x2=\"41.6667%\" y1=\"20px\" y2=\"48px\" /><svg width=\"6.94444%\" x=\"55.5556%\" y=\"48px\"><defs /><svg width=\"100%\" x=\"0\" y=\"0px\"><defs /><text text-anchor=\"middle\" x=\"50%\" y=\"16px\">who</text></svg><svg width=\"100%\" x=\"0%\" y=\"48px\"><defs /><svg width=\"100%\" x=\"0\" y=\"0px\"><defs /><text text-anchor=\"middle\" x=\"50%\" y=\"16px\">WP</text></svg></svg><line stroke=\"black\" x1=\"50%\" x2=\"50%\" y1=\"20px\" y2=\"48px\" /></svg><line stroke=\"black\" x1=\"50%\" x2=\"59.0278%\" y1=\"20px\" y2=\"48px\" /><svg width=\"6.94444%\" x=\"62.5%\" y=\"48px\"><defs /><svg width=\"100%\" x=\"0\" y=\"0px\"><defs /><text text-anchor=\"middle\" x=\"50%\" y=\"16px\">was</text></svg><svg width=\"100%\" x=\"0%\" y=\"48px\"><defs /><svg width=\"100%\" x=\"0\" y=\"0px\"><defs /><text text-anchor=\"middle\" x=\"50%\" y=\"16px\">VBD</text></svg></svg><line stroke=\"black\" x1=\"50%\" x2=\"50%\" y1=\"20px\" y2=\"48px\" /></svg><line stroke=\"black\" x1=\"50%\" x2=\"65.9722%\" y1=\"20px\" y2=\"48px\" /><svg width=\"9.72222%\" x=\"69.4444%\" y=\"48px\"><defs /><svg width=\"100%\" x=\"0\" y=\"0px\"><defs /><text text-anchor=\"middle\" x=\"50%\" y=\"16px\">after</text></svg><svg width=\"100%\" x=\"0%\" y=\"48px\"><defs /><svg width=\"100%\" x=\"0\" y=\"0px\"><defs /><text text-anchor=\"middle\" x=\"50%\" y=\"16px\">IN</text></svg></svg><line stroke=\"black\" x1=\"50%\" x2=\"50%\" y1=\"20px\" y2=\"48px\" /></svg><line stroke=\"black\" x1=\"50%\" x2=\"74.3056%\" y1=\"20px\" y2=\"48px\" /><svg width=\"20.8333%\" x=\"79.1667%\" y=\"48px\"><defs /><svg width=\"100%\" x=\"0\" y=\"0px\"><defs /><text text-anchor=\"middle\" x=\"50%\" y=\"16px\">NP</text></svg><svg width=\"46.6667%\" x=\"0%\" y=\"48px\"><defs /><svg width=\"100%\" x=\"0\" y=\"0px\"><defs /><text text-anchor=\"middle\" x=\"50%\" y=\"16px\">fresh</text></svg><svg width=\"100%\" x=\"0%\" y=\"48px\"><defs /><svg width=\"100%\" x=\"0\" y=\"0px\"><defs /><text text-anchor=\"middle\" x=\"50%\" y=\"16px\">JJ</text></svg></svg><line stroke=\"black\" x1=\"50%\" x2=\"50%\" y1=\"20px\" y2=\"48px\" /></svg><line stroke=\"black\" x1=\"50%\" x2=\"23.3333%\" y1=\"20px\" y2=\"48px\" /><svg width=\"53.3333%\" x=\"46.6667%\" y=\"48px\"><defs /><svg width=\"100%\" x=\"0\" y=\"0px\"><defs /><text text-anchor=\"middle\" x=\"50%\" y=\"16px\">cheese</text></svg><svg width=\"100%\" x=\"0%\" y=\"48px\"><defs /><svg width=\"100%\" x=\"0\" y=\"0px\"><defs /><text text-anchor=\"middle\" x=\"50%\" y=\"16px\">NN</text></svg></svg><line stroke=\"black\" x1=\"50%\" x2=\"50%\" y1=\"20px\" y2=\"48px\" /></svg><line stroke=\"black\" x1=\"50%\" x2=\"73.3333%\" y1=\"20px\" y2=\"48px\" /></svg><line stroke=\"black\" x1=\"50%\" x2=\"89.5833%\" y1=\"20px\" y2=\"48px\" /></svg>"
          },
          "metadata": {},
          "execution_count": 58
        }
      ]
    }
  ]
}