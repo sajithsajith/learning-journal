{
 "cells": [
  {
   "cell_type": "code",
   "execution_count": null,
   "id": "d0a4625e",
   "metadata": {},
   "outputs": [],
   "source": [
    "import pandas as pd\n",
    "\n",
    "df = pd.read_csv(\"assets/Iris.csv\")"
   ]
  },
  {
   "cell_type": "code",
   "execution_count": 2,
   "id": "3e8fa174",
   "metadata": {},
   "outputs": [
    {
     "data": {
      "text/plain": [
       "Index(['Id', 'SepalLengthCm', 'SepalWidthCm', 'PetalLengthCm', 'PetalWidthCm',\n",
       "       'Species'],\n",
       "      dtype='object')"
      ]
     },
     "execution_count": 2,
     "metadata": {},
     "output_type": "execute_result"
    }
   ],
   "source": [
    "df.columns"
   ]
  },
  {
   "cell_type": "code",
   "execution_count": null,
   "id": "f8f0db04",
   "metadata": {},
   "outputs": [],
   "source": [
    "X = df.drop(columns=[\"Id\", \"Species\"])\n",
    "y = df[\"Species\"]"
   ]
  },
  {
   "cell_type": "markdown",
   "id": "cbf1915a",
   "metadata": {},
   "source": [
    "Stratification is used to make sure that all split has equal distribution of data\n"
   ]
  },
  {
   "cell_type": "code",
   "execution_count": null,
   "id": "fc7617cc",
   "metadata": {},
   "outputs": [],
   "source": [
    "from sklearn.model_selection import train_test_split\n",
    "\n",
    "X_temp, X_test, y_temp, y_test = train_test_split(\n",
    "    X, y, test_size=0.2, random_state=123, shuffle=True, stratify=y\n",
    ")"
   ]
  },
  {
   "cell_type": "code",
   "execution_count": null,
   "id": "d2a9139c",
   "metadata": {},
   "outputs": [],
   "source": [
    "X_train, X_valid, y_train, y_valid = train_test_split(\n",
    "    X_temp, y_temp, test_size=0.2, random_state=123, shuffle=True, stratify=y_temp\n",
    ")"
   ]
  },
  {
   "cell_type": "code",
   "execution_count": 6,
   "id": "c49d1737",
   "metadata": {},
   "outputs": [
    {
     "data": {
      "text/plain": [
       "99     Iris-versicolor\n",
       "35         Iris-setosa\n",
       "87     Iris-versicolor\n",
       "5          Iris-setosa\n",
       "10         Iris-setosa\n",
       "            ...       \n",
       "12         Iris-setosa\n",
       "142     Iris-virginica\n",
       "120     Iris-virginica\n",
       "20         Iris-setosa\n",
       "61     Iris-versicolor\n",
       "Name: Species, Length: 120, dtype: object"
      ]
     },
     "execution_count": 6,
     "metadata": {},
     "output_type": "execute_result"
    }
   ],
   "source": [
    "y_temp"
   ]
  },
  {
   "cell_type": "code",
   "execution_count": null,
   "id": "b5001d3e",
   "metadata": {},
   "outputs": [
    {
     "name": "stdout",
     "output_type": "stream",
     "text": [
      "{'Iris-setosa': 40, 'Iris-versicolor': 40, 'Iris-virginica': 40}\n"
     ]
    }
   ],
   "source": [
    "import numpy as np\n",
    "\n",
    "str_list = y_temp\n",
    "unique_strings, inverse = np.unique(str_list, return_inverse=True)\n",
    "counts = np.bincount(inverse).tolist()\n",
    "result = dict(zip(unique_strings, counts))\n",
    "\n",
    "print(result)"
   ]
  },
  {
   "cell_type": "code",
   "execution_count": 8,
   "id": "6174c54c",
   "metadata": {},
   "outputs": [
    {
     "data": {
      "text/plain": [
       "[40, 40, 40]"
      ]
     },
     "execution_count": 8,
     "metadata": {},
     "output_type": "execute_result"
    }
   ],
   "source": [
    "counts"
   ]
  },
  {
   "cell_type": "markdown",
   "id": "a42101be",
   "metadata": {},
   "source": [
    "### Normalization\n"
   ]
  },
  {
   "cell_type": "markdown",
   "id": "c12ccc6c",
   "metadata": {},
   "source": [
    "##### Min - Max Scaling\n",
    "\n",
    "The values will be between 0 and 1\n",
    "\n",
    "$$\n",
    "x_{norm}^{[i]} = \\frac{x^{[i]} - x_{min}}{x_{max} - x_{min}}\n",
    "$$\n"
   ]
  },
  {
   "cell_type": "code",
   "execution_count": 30,
   "id": "77dea3e1",
   "metadata": {},
   "outputs": [
    {
     "data": {
      "text/plain": [
       "array([0., 1., 2., 3., 4., 5.])"
      ]
     },
     "execution_count": 30,
     "metadata": {},
     "output_type": "execute_result"
    }
   ],
   "source": [
    "x = np.arange(6).astype(float)\n",
    "x"
   ]
  },
  {
   "cell_type": "code",
   "execution_count": 31,
   "id": "c821a9b9",
   "metadata": {},
   "outputs": [
    {
     "data": {
      "text/plain": [
       "array([0. , 0.2, 0.4, 0.6, 0.8, 1. ])"
      ]
     },
     "execution_count": 31,
     "metadata": {},
     "output_type": "execute_result"
    }
   ],
   "source": [
    "x_norm = (x - x.min()) / (x.max() - x.min())\n",
    "x_norm"
   ]
  },
  {
   "cell_type": "markdown",
   "id": "f0ed2f01",
   "metadata": {},
   "source": [
    "##### Standardization\n",
    "\n",
    "$$\n",
    "x_{std}^{[i]} = \\frac{x^{[i]} - \\mu_{x}}{\\sigma_{x}}\\\\\n",
    "$$\n",
    "\n",
    "$\\text{where,}\\\\$\n",
    "\n",
    "- $\\mu_{x} \\rightarrow \\text{feature mean}\\\\$\n",
    "- $\\sigma_{x} \\rightarrow \\text{standard deviation}\\\\$\n"
   ]
  },
  {
   "cell_type": "code",
   "execution_count": 32,
   "id": "39e767a4",
   "metadata": {},
   "outputs": [
    {
     "data": {
      "text/plain": [
       "array([0., 1., 2., 3., 4., 5.])"
      ]
     },
     "execution_count": 32,
     "metadata": {},
     "output_type": "execute_result"
    }
   ],
   "source": [
    "x = np.arange(6).astype(float)\n",
    "x"
   ]
  },
  {
   "cell_type": "code",
   "execution_count": 33,
   "id": "43005a05",
   "metadata": {},
   "outputs": [
    {
     "data": {
      "text/plain": [
       "array([-1.46385011, -0.87831007, -0.29277002,  0.29277002,  0.87831007,\n",
       "        1.46385011])"
      ]
     },
     "execution_count": 33,
     "metadata": {},
     "output_type": "execute_result"
    }
   ],
   "source": [
    "x_std = (x - x.mean()) / x.std()\n",
    "x_std"
   ]
  },
  {
   "cell_type": "markdown",
   "id": "5cf4d084",
   "metadata": {},
   "source": [
    "$\\text{Population Standard Deviation }(\\sigma) = \\sqrt{\\frac{\\sum | x_{[i]}-\\mu |^2}{\\text{N}}}\\\\$\n",
    "\n",
    "- We have the entire data\n",
    "\n",
    "$\\text{where,}\\\\$\n",
    "\n",
    "- $x_{[i]} \\rightarrow \\text{single data point}\\\\$\n",
    "- $\\mu \\rightarrow \\text{mean of all the values}\\\\$\n",
    "- $\\text{N} \\rightarrow \\text{Total number of values}\\\\$\n",
    "\n",
    "$\\text{Sample Standard Deviation }(S) = \\sqrt{\\frac{\\sum | x-\\bar{x} |^2}{\\text{N-1}}}\\\\$\n",
    "\n",
    "- We have sample data out of entire data\n",
    "\n",
    "$\\text{where,}\\\\$\n",
    "\n",
    "- $x_{[i]} \\rightarrow \\text{single data point}\\\\$\n",
    "- $\\bar{x} \\rightarrow \\text{mean of all the values}\\\\$\n",
    "- $\\text{N} \\rightarrow \\text{Total number of values}\\\\$\n"
   ]
  },
  {
   "cell_type": "markdown",
   "id": "6627bfdd",
   "metadata": {},
   "source": [
    "Standard deviation tells us how far the numbers are related to each other, the more spreadout, the greater the standard deviation.\n",
    "\n",
    "4,5,6 VS 3,5,7 --> 3,5,7 has greater standard deviation\n"
   ]
  },
  {
   "cell_type": "code",
   "execution_count": null,
   "id": "8c7355cd",
   "metadata": {},
   "outputs": [
    {
     "name": "stdout",
     "output_type": "stream",
     "text": [
      "1.707825127659933\n",
      "1.707825127659933\n"
     ]
    }
   ],
   "source": [
    "print(x.std(ddof=0))  # Population standard deviation\n",
    "# implementation\n",
    "a = 0\n",
    "for i in x:\n",
    "    a += (i - x.mean()) ** 2\n",
    "a = a / (len(x))\n",
    "print(a**0.5)"
   ]
  },
  {
   "cell_type": "code",
   "execution_count": null,
   "id": "ed6906ce",
   "metadata": {},
   "outputs": [
    {
     "name": "stdout",
     "output_type": "stream",
     "text": [
      "1.8708286933869707\n",
      "1.8708286933869707\n"
     ]
    }
   ],
   "source": [
    "print(x.std(ddof=1))  # Sample standard deviation\n",
    "# implementation\n",
    "a = 0\n",
    "for i in x:\n",
    "    a += (i - x.mean()) ** 2\n",
    "a = a / (len(x) - 1)\n",
    "print(a**0.5)"
   ]
  },
  {
   "cell_type": "markdown",
   "id": "a0c39ba5",
   "metadata": {},
   "source": [
    "Scaling Validation and Test Sets\n"
   ]
  },
  {
   "cell_type": "code",
   "execution_count": 13,
   "id": "1686d056",
   "metadata": {},
   "outputs": [],
   "source": [
    "mu, sigma = X_train.mean(axis=0), X_train.std(axis=0)"
   ]
  },
  {
   "cell_type": "markdown",
   "id": "3a36ba23",
   "metadata": {},
   "source": [
    "We didn't calculate the mu and sigma for test and validation set, because they are unknown\n"
   ]
  },
  {
   "cell_type": "code",
   "execution_count": 17,
   "id": "df3b4353",
   "metadata": {},
   "outputs": [],
   "source": [
    "X_train_std = (X_train - mu) / sigma\n",
    "X_valid_std = (X_valid - mu) / sigma\n",
    "X_test_std = (X_test - mu) / sigma"
   ]
  },
  {
   "cell_type": "markdown",
   "id": "84cb6617",
   "metadata": {},
   "source": [
    "Given three training examples:\n",
    "\n",
    "- example 1: 10 cm -> Class 2\n",
    "- example 2: 20 cm -> Class 2\n",
    "- example 3: 30 cm -> Class 1\n",
    "\n",
    "Estimate:\n",
    "\n",
    "- Mean: 20 cm\n",
    "- SD: 8.2 cm\n",
    "\n",
    "Standardize:\n",
    "\n",
    "- example 1: -1.21 -> Class 2 $(\\frac{10-20}{8.2} \\rightarrow -1.2)$\n",
    "- example 2: 0.00 -> Class 2\n",
    "- example 3: 1.21 -> Class 1\n"
   ]
  },
  {
   "cell_type": "code",
   "execution_count": null,
   "id": "4dc6dad6",
   "metadata": {},
   "outputs": [],
   "source": []
  },
  {
   "cell_type": "markdown",
   "id": "972f5aba",
   "metadata": {},
   "source": [
    "If we have classification rule:\n",
    "\n",
    "$$\n",
    "h(z) = \\left\\{\n",
    "\\begin{array}{}\n",
    "\\text{class 2} & \\text{if } z \\le 0.6 \\\\\n",
    "\\text{class 1} & Otherwise \\\\\n",
    "\\end{array}\n",
    "\\right.\n",
    "$$\n",
    "\n",
    "Given three training examples:\n",
    "\n",
    "- example 1: 10 cm -> Class 2\n",
    "- example 2: 20 cm -> Class 2\n",
    "- example 3: 30 cm -> Class 1\n",
    "\n",
    "Estimate:\n",
    "\n",
    "- Mean: 20 cm\n",
    "- SD: 8.2 cm\n",
    "\n",
    "Standardize (Z Scores):\n",
    "\n",
    "- example 1: -1.21 -> Class 2 $(<0.6)$\n",
    "- example 2: 0.00 -> Class 2 $(<0.6)$\n",
    "- example 3: 1.21 -> Class 1 $(>0.6)$\n"
   ]
  },
  {
   "cell_type": "code",
   "execution_count": null,
   "id": "5ec59b1e",
   "metadata": {},
   "outputs": [],
   "source": [
    "# SKLearn's standardization and min max scaling\n",
    "from sklearn.preprocessing import StandardScaler, MinMaxScaler\n",
    "\n",
    "scaler = StandardScaler()\n",
    "scaler.fit(X_train)\n",
    "\n",
    "X_train_std = scaler.transform(X_train)\n",
    "X_valid_std = scaler.transform(\n",
    "    X_valid\n",
    ")  # we are using the same scaler fitted on the training set, not a new one for each set\n",
    "X_test_std = scaler.transform(X_test)"
   ]
  },
  {
   "cell_type": "code",
   "execution_count": 19,
   "id": "34992755",
   "metadata": {},
   "outputs": [
    {
     "data": {
      "text/plain": [
       "array([[ 1.08131314, -1.32387424,  1.17017883,  0.78318281],\n",
       "       [ 2.59673011,  1.72445612,  1.51636425,  1.04699176],\n",
       "       [-1.82323603, -0.38592644, -1.36851423, -1.32728877],\n",
       "       [ 0.82874365, -0.15143949,  0.82399341,  1.04699176],\n",
       "       [-0.30781907, -0.15143949,  0.18932015,  0.12366044],\n",
       "       [ 1.33388264,  0.08304746,  0.93938855,  1.17889624],\n",
       "       [ 0.7024589 , -0.85490034,  0.88169098,  0.91508729],\n",
       "       [ 0.57617416,  0.78650831,  1.05478369,  1.57460966],\n",
       "       [ 1.96530637, -0.62041339,  1.34327154,  0.91508729],\n",
       "       [-0.18153432,  3.13137782, -1.31081666, -1.06347982],\n",
       "       [-0.56038856,  0.78650831, -1.19542152, -1.32728877],\n",
       "       [ 0.7024589 , -0.62041339,  1.05478369,  1.17889624],\n",
       "       [ 0.32360466, -0.62041339,  0.53550557, -0.00824403],\n",
       "       [-0.30781907, -0.15143949,  0.42011043,  0.38746939],\n",
       "       [-0.30781907, -1.32387424,  0.07392501, -0.1401485 ],\n",
       "       [-0.05524958, -0.85490034,  0.18932015, -0.27205298],\n",
       "       [ 0.44988941, -0.62041339,  0.59320314,  0.78318281],\n",
       "       [ 0.9550284 , -0.38592644,  0.477808  ,  0.12366044],\n",
       "       [-0.05524958, -1.08938729,  0.13162258, -0.00824403],\n",
       "       [-0.18153432,  1.72445612, -1.19542152, -1.19538429],\n",
       "       [-1.57066654,  0.78650831, -1.36851423, -1.19538429],\n",
       "       [-0.56038856,  0.78650831, -1.31081666, -1.06347982],\n",
       "       [-1.57066654,  0.08304746, -1.31081666, -1.32728877],\n",
       "       [-1.06552755,  1.25548221, -1.36851423, -1.32728877],\n",
       "       [ 0.57617416,  0.55202136,  1.28557397,  1.70651413],\n",
       "       [-0.30781907, -0.85490034,  0.24701772,  0.12366044],\n",
       "       [-0.18153432, -1.32387424,  0.70859827,  1.04699176],\n",
       "       [ 0.7024589 ,  0.31753441,  0.88169098,  1.44270518],\n",
       "       [ 0.7024589 ,  0.08304746,  0.99708612,  0.78318281],\n",
       "       [-1.94952078, -0.15143949, -1.54160693, -1.45919324],\n",
       "       [-1.1918123 , -1.55836119, -0.27226041, -0.27205298],\n",
       "       [ 1.71273688,  0.31753441,  1.28557397,  0.78318281],\n",
       "       [ 0.19731992, -2.02733509,  0.70859827,  0.38746939],\n",
       "       [-0.18153432, -0.62041339,  0.42011043,  0.12366044],\n",
       "       [-1.31809705,  0.78650831, -1.08002638, -1.32728877],\n",
       "       [-0.18153432, -1.08938729, -0.15686527, -0.27205298],\n",
       "       [ 1.71273688,  1.25548221,  1.34327154,  1.70651413],\n",
       "       [-0.43410382,  1.02099526, -1.4262118 , -1.32728877],\n",
       "       [-1.69695129, -1.79284814, -1.4262118 , -1.19538429],\n",
       "       [ 1.46016739,  0.31753441,  0.53550557,  0.25556492],\n",
       "       [ 0.07103517,  0.31753441,  0.59320314,  0.78318281],\n",
       "       [-0.9392428 ,  0.55202136, -1.19542152, -0.93157535],\n",
       "       [-1.06552755,  0.31753441, -1.48390936, -1.32728877],\n",
       "       [ 0.32360466, -0.15143949,  0.477808  ,  0.25556492],\n",
       "       [ 0.82874365, -0.15143949,  1.17017883,  1.31080071],\n",
       "       [-0.43410382, -1.32387424,  0.13162258,  0.12366044],\n",
       "       [-1.1918123 , -0.15143949, -1.36851423, -1.32728877],\n",
       "       [-0.56038856,  1.95894307, -1.4262118 , -1.06347982],\n",
       "       [-0.18153432, -0.38592644,  0.24701772,  0.12366044],\n",
       "       [ 2.34416061, -1.08938729,  1.80485209,  1.44270518],\n",
       "       [-0.81295806,  2.42791697, -1.31081666, -1.45919324],\n",
       "       [ 0.7024589 ,  0.31753441,  0.42011043,  0.38746939],\n",
       "       [ 0.19731992, -0.85490034,  0.76629584,  0.51937387],\n",
       "       [-0.68667331,  1.48996917, -1.31081666, -1.32728877],\n",
       "       [-1.06552755, -0.15143949, -1.25311909, -1.32728877],\n",
       "       [-1.31809705, -0.15143949, -1.36851423, -1.45919324],\n",
       "       [ 0.19731992,  0.78650831,  0.42011043,  0.51937387],\n",
       "       [-0.9392428 ,  1.72445612, -1.25311909, -1.32728877],\n",
       "       [-0.56038856, -0.15143949,  0.42011043,  0.38746939],\n",
       "       [-1.06552755,  1.02099526, -1.25311909, -0.79967087],\n",
       "       [ 0.57617416, -1.79284814,  0.36241286,  0.12366044],\n",
       "       [ 0.82874365, -0.62041339,  0.477808  ,  0.38746939],\n",
       "       [ 1.71273688, -0.15143949,  1.17017883,  0.51937387],\n",
       "       [-0.05524958, -0.85490034,  0.07392501, -0.00824403],\n",
       "       [ 1.83902163, -0.38592644,  1.45866668,  0.78318281],\n",
       "       [-0.05524958, -0.62041339,  0.76629584,  1.57460966],\n",
       "       [ 1.33388264,  0.31753441,  1.11248126,  1.44270518],\n",
       "       [-1.06552755,  0.78650831, -1.25311909, -1.06347982],\n",
       "       [-0.05524958, -0.85490034,  0.76629584,  0.91508729],\n",
       "       [ 1.20759789, -0.15143949,  0.99708612,  1.17889624],\n",
       "       [-0.05524958,  2.19343002, -1.48390936, -1.32728877],\n",
       "       [-1.06552755,  1.02099526, -1.4262118 , -1.19538429],\n",
       "       [-0.43410382, -1.79284814,  0.13162258,  0.12366044],\n",
       "       [ 0.07103517, -0.15143949,  0.76629584,  0.78318281],\n",
       "       [-0.43410382, -1.55836119, -0.04147013, -0.27205298],\n",
       "       [ 1.33388264,  0.08304746,  0.65090071,  0.38746939],\n",
       "       [-0.18153432, -0.62041339,  0.18932015,  0.12366044],\n",
       "       [-1.1918123 ,  0.08304746, -1.31081666, -1.45919324],\n",
       "       [-1.06552755,  0.78650831, -1.31081666, -1.32728877],\n",
       "       [ 0.57617416, -0.62041339,  0.76629584,  0.38746939],\n",
       "       [ 1.33388264,  0.08304746,  0.76629584,  1.44270518],\n",
       "       [ 0.44988941, -0.38592644,  0.30471529,  0.12366044],\n",
       "       [ 0.07103517, -0.15143949,  0.24701772,  0.38746939],\n",
       "       [ 0.57617416, -0.38592644,  1.05478369,  0.78318281],\n",
       "       [ 1.08131314,  0.08304746,  1.05478369,  1.57460966],\n",
       "       [ 0.57617416, -0.85490034,  0.65090071,  0.78318281],\n",
       "       [-0.81295806, -0.85490034,  0.07392501,  0.25556492],\n",
       "       [-0.56038856,  1.95894307, -1.19542152, -1.06347982],\n",
       "       [-1.57066654,  0.31753441, -1.36851423, -1.32728877],\n",
       "       [ 0.7024589 , -0.62041339,  1.05478369,  1.31080071],\n",
       "       [ 1.08131314, -0.15143949,  0.82399341,  1.44270518],\n",
       "       [-1.31809705,  0.78650831, -1.25311909, -1.32728877],\n",
       "       [-1.44438179,  0.31753441, -1.25311909, -1.32728877],\n",
       "       [-0.18153432, -0.15143949,  0.24701772, -0.00824403],\n",
       "       [-0.9392428 ,  1.72445612, -1.08002638, -1.06347982],\n",
       "       [ 0.7024589 , -0.38592644,  0.30471529,  0.12366044]])"
      ]
     },
     "execution_count": 19,
     "metadata": {},
     "output_type": "execute_result"
    }
   ],
   "source": [
    "X_train_std"
   ]
  },
  {
   "cell_type": "markdown",
   "id": "9dfc8841",
   "metadata": {},
   "source": [
    "Working with Categorical data\n"
   ]
  },
  {
   "cell_type": "code",
   "execution_count": 3,
   "id": "246dfe39",
   "metadata": {},
   "outputs": [
    {
     "data": {
      "text/html": [
       "<div>\n",
       "<style scoped>\n",
       "    .dataframe tbody tr th:only-of-type {\n",
       "        vertical-align: middle;\n",
       "    }\n",
       "\n",
       "    .dataframe tbody tr th {\n",
       "        vertical-align: top;\n",
       "    }\n",
       "\n",
       "    .dataframe thead th {\n",
       "        text-align: right;\n",
       "    }\n",
       "</style>\n",
       "<table border=\"1\" class=\"dataframe\">\n",
       "  <thead>\n",
       "    <tr style=\"text-align: right;\">\n",
       "      <th></th>\n",
       "      <th>color</th>\n",
       "      <th>size</th>\n",
       "      <th>price</th>\n",
       "      <th>classlabel</th>\n",
       "    </tr>\n",
       "  </thead>\n",
       "  <tbody>\n",
       "    <tr>\n",
       "      <th>0</th>\n",
       "      <td>green</td>\n",
       "      <td>M</td>\n",
       "      <td>10.1</td>\n",
       "      <td>class1</td>\n",
       "    </tr>\n",
       "    <tr>\n",
       "      <th>1</th>\n",
       "      <td>red</td>\n",
       "      <td>L</td>\n",
       "      <td>13.5</td>\n",
       "      <td>class2</td>\n",
       "    </tr>\n",
       "    <tr>\n",
       "      <th>2</th>\n",
       "      <td>blue</td>\n",
       "      <td>XXL</td>\n",
       "      <td>15.3</td>\n",
       "      <td>class1</td>\n",
       "    </tr>\n",
       "  </tbody>\n",
       "</table>\n",
       "</div>"
      ],
      "text/plain": [
       "   color size  price classlabel\n",
       "0  green    M   10.1     class1\n",
       "1    red    L   13.5     class2\n",
       "2   blue  XXL   15.3     class1"
      ]
     },
     "execution_count": 3,
     "metadata": {},
     "output_type": "execute_result"
    }
   ],
   "source": [
    "import pandas as pd\n",
    "data = {\n",
    "    \"color\": [\"green\", \"red\", \"blue\"],\n",
    "    \"size\": [\"M\", \"L\", \"XXL\"],\n",
    "    \"price\": [10.1, 13.5, 15.3],\n",
    "    \"classlabel\": [\"class1\", \"class2\", \"class1\"],\n",
    "}\n",
    "\n",
    "df = pd.DataFrame(data)\n",
    "df"
   ]
  },
  {
   "cell_type": "markdown",
   "id": "082a5d5f",
   "metadata": {},
   "source": [
    "Here color and size are categorical and price is continuous variables\n",
    "\n",
    "- M < L < XXL --> ordinal variable, computer can't understand M is smaller than L, so we have to give some guidance\n"
   ]
  },
  {
   "cell_type": "code",
   "execution_count": 4,
   "id": "b1dfed2e",
   "metadata": {},
   "outputs": [
    {
     "data": {
      "text/html": [
       "<div>\n",
       "<style scoped>\n",
       "    .dataframe tbody tr th:only-of-type {\n",
       "        vertical-align: middle;\n",
       "    }\n",
       "\n",
       "    .dataframe tbody tr th {\n",
       "        vertical-align: top;\n",
       "    }\n",
       "\n",
       "    .dataframe thead th {\n",
       "        text-align: right;\n",
       "    }\n",
       "</style>\n",
       "<table border=\"1\" class=\"dataframe\">\n",
       "  <thead>\n",
       "    <tr style=\"text-align: right;\">\n",
       "      <th></th>\n",
       "      <th>color</th>\n",
       "      <th>size</th>\n",
       "      <th>price</th>\n",
       "      <th>classlabel</th>\n",
       "    </tr>\n",
       "  </thead>\n",
       "  <tbody>\n",
       "    <tr>\n",
       "      <th>0</th>\n",
       "      <td>green</td>\n",
       "      <td>2</td>\n",
       "      <td>10.1</td>\n",
       "      <td>class1</td>\n",
       "    </tr>\n",
       "    <tr>\n",
       "      <th>1</th>\n",
       "      <td>red</td>\n",
       "      <td>3</td>\n",
       "      <td>13.5</td>\n",
       "      <td>class2</td>\n",
       "    </tr>\n",
       "    <tr>\n",
       "      <th>2</th>\n",
       "      <td>blue</td>\n",
       "      <td>5</td>\n",
       "      <td>15.3</td>\n",
       "      <td>class1</td>\n",
       "    </tr>\n",
       "  </tbody>\n",
       "</table>\n",
       "</div>"
      ],
      "text/plain": [
       "   color  size  price classlabel\n",
       "0  green     2   10.1     class1\n",
       "1    red     3   13.5     class2\n",
       "2   blue     5   15.3     class1"
      ]
     },
     "execution_count": 4,
     "metadata": {},
     "output_type": "execute_result"
    }
   ],
   "source": [
    "mapping_dict = {\n",
    "    \"M\": 2,\n",
    "    \"L\": 3,\n",
    "    \"XXL\": 5,\n",
    "}\n",
    "df[\"size\"] = df[\"size\"].map(mapping_dict)\n",
    "df"
   ]
  },
  {
   "cell_type": "markdown",
   "id": "8eb961b1",
   "metadata": {},
   "source": [
    "Nominal data involves categories with no inherent order or ranking, while ordinal data involves categories with a meaningful order or ranking\n",
    "\n",
    "Nominal Data (Class Labels)\n",
    "\n",
    "for nominal data, we can use label endoders"
   ]
  },
  {
   "cell_type": "code",
   "execution_count": 5,
   "id": "382c8c91",
   "metadata": {},
   "outputs": [
    {
     "data": {
      "text/html": [
       "<div>\n",
       "<style scoped>\n",
       "    .dataframe tbody tr th:only-of-type {\n",
       "        vertical-align: middle;\n",
       "    }\n",
       "\n",
       "    .dataframe tbody tr th {\n",
       "        vertical-align: top;\n",
       "    }\n",
       "\n",
       "    .dataframe thead th {\n",
       "        text-align: right;\n",
       "    }\n",
       "</style>\n",
       "<table border=\"1\" class=\"dataframe\">\n",
       "  <thead>\n",
       "    <tr style=\"text-align: right;\">\n",
       "      <th></th>\n",
       "      <th>color</th>\n",
       "      <th>size</th>\n",
       "      <th>price</th>\n",
       "      <th>classlabel</th>\n",
       "    </tr>\n",
       "  </thead>\n",
       "  <tbody>\n",
       "    <tr>\n",
       "      <th>0</th>\n",
       "      <td>green</td>\n",
       "      <td>2</td>\n",
       "      <td>10.1</td>\n",
       "      <td>0</td>\n",
       "    </tr>\n",
       "    <tr>\n",
       "      <th>1</th>\n",
       "      <td>red</td>\n",
       "      <td>3</td>\n",
       "      <td>13.5</td>\n",
       "      <td>1</td>\n",
       "    </tr>\n",
       "    <tr>\n",
       "      <th>2</th>\n",
       "      <td>blue</td>\n",
       "      <td>5</td>\n",
       "      <td>15.3</td>\n",
       "      <td>0</td>\n",
       "    </tr>\n",
       "  </tbody>\n",
       "</table>\n",
       "</div>"
      ],
      "text/plain": [
       "   color  size  price  classlabel\n",
       "0  green     2   10.1           0\n",
       "1    red     3   13.5           1\n",
       "2   blue     5   15.3           0"
      ]
     },
     "execution_count": 5,
     "metadata": {},
     "output_type": "execute_result"
    }
   ],
   "source": [
    "from sklearn.preprocessing import LabelEncoder\n",
    "\n",
    "le= LabelEncoder()\n",
    "df[\"classlabel\"] = le.fit_transform(df[\"classlabel\"])\n",
    "df"
   ]
  },
  {
   "cell_type": "markdown",
   "id": "8837680e",
   "metadata": {},
   "source": [
    "In color column, we cant say one color is greater than the other, ex: (green< red< blue). In some applications there will be some colors are more impertant, but in general, they all carry same weights.\n",
    "\n",
    "If we use label encoder it may alphabetically assign numbers based on letters. ex: blue = 0, green =1, red = 2, hence (blue < green < red)\n",
    "\n",
    "To avoid this issue, we use a technique called one hot encoding, how it works is, that it creates a new feature column for each class and uses the values 0s and 1s to determine whether the color is present or not."
   ]
  },
  {
   "cell_type": "code",
   "execution_count": 6,
   "id": "0b63c483",
   "metadata": {},
   "outputs": [
    {
     "data": {
      "text/html": [
       "<div>\n",
       "<style scoped>\n",
       "    .dataframe tbody tr th:only-of-type {\n",
       "        vertical-align: middle;\n",
       "    }\n",
       "\n",
       "    .dataframe tbody tr th {\n",
       "        vertical-align: top;\n",
       "    }\n",
       "\n",
       "    .dataframe thead th {\n",
       "        text-align: right;\n",
       "    }\n",
       "</style>\n",
       "<table border=\"1\" class=\"dataframe\">\n",
       "  <thead>\n",
       "    <tr style=\"text-align: right;\">\n",
       "      <th></th>\n",
       "      <th>size</th>\n",
       "      <th>price</th>\n",
       "      <th>classlabel</th>\n",
       "      <th>color_blue</th>\n",
       "      <th>color_green</th>\n",
       "      <th>color_red</th>\n",
       "    </tr>\n",
       "  </thead>\n",
       "  <tbody>\n",
       "    <tr>\n",
       "      <th>0</th>\n",
       "      <td>2</td>\n",
       "      <td>10.1</td>\n",
       "      <td>0</td>\n",
       "      <td>False</td>\n",
       "      <td>True</td>\n",
       "      <td>False</td>\n",
       "    </tr>\n",
       "    <tr>\n",
       "      <th>1</th>\n",
       "      <td>3</td>\n",
       "      <td>13.5</td>\n",
       "      <td>1</td>\n",
       "      <td>False</td>\n",
       "      <td>False</td>\n",
       "      <td>True</td>\n",
       "    </tr>\n",
       "    <tr>\n",
       "      <th>2</th>\n",
       "      <td>5</td>\n",
       "      <td>15.3</td>\n",
       "      <td>0</td>\n",
       "      <td>True</td>\n",
       "      <td>False</td>\n",
       "      <td>False</td>\n",
       "    </tr>\n",
       "  </tbody>\n",
       "</table>\n",
       "</div>"
      ],
      "text/plain": [
       "   size  price  classlabel  color_blue  color_green  color_red\n",
       "0     2   10.1           0       False         True      False\n",
       "1     3   13.5           1       False        False       True\n",
       "2     5   15.3           0        True        False      False"
      ]
     },
     "execution_count": 6,
     "metadata": {},
     "output_type": "execute_result"
    }
   ],
   "source": [
    "pd.get_dummies(df)"
   ]
  },
  {
   "cell_type": "markdown",
   "id": "887eb7c2",
   "metadata": {},
   "source": [
    "We can assume if the color is not blue or green, it must be red so one column is unnecessary so we can drop one column"
   ]
  },
  {
   "cell_type": "code",
   "execution_count": 7,
   "id": "5a562b1e",
   "metadata": {},
   "outputs": [
    {
     "data": {
      "text/html": [
       "<div>\n",
       "<style scoped>\n",
       "    .dataframe tbody tr th:only-of-type {\n",
       "        vertical-align: middle;\n",
       "    }\n",
       "\n",
       "    .dataframe tbody tr th {\n",
       "        vertical-align: top;\n",
       "    }\n",
       "\n",
       "    .dataframe thead th {\n",
       "        text-align: right;\n",
       "    }\n",
       "</style>\n",
       "<table border=\"1\" class=\"dataframe\">\n",
       "  <thead>\n",
       "    <tr style=\"text-align: right;\">\n",
       "      <th></th>\n",
       "      <th>size</th>\n",
       "      <th>price</th>\n",
       "      <th>classlabel</th>\n",
       "      <th>color_green</th>\n",
       "      <th>color_red</th>\n",
       "    </tr>\n",
       "  </thead>\n",
       "  <tbody>\n",
       "    <tr>\n",
       "      <th>0</th>\n",
       "      <td>2</td>\n",
       "      <td>10.1</td>\n",
       "      <td>0</td>\n",
       "      <td>True</td>\n",
       "      <td>False</td>\n",
       "    </tr>\n",
       "    <tr>\n",
       "      <th>1</th>\n",
       "      <td>3</td>\n",
       "      <td>13.5</td>\n",
       "      <td>1</td>\n",
       "      <td>False</td>\n",
       "      <td>True</td>\n",
       "    </tr>\n",
       "    <tr>\n",
       "      <th>2</th>\n",
       "      <td>5</td>\n",
       "      <td>15.3</td>\n",
       "      <td>0</td>\n",
       "      <td>False</td>\n",
       "      <td>False</td>\n",
       "    </tr>\n",
       "  </tbody>\n",
       "</table>\n",
       "</div>"
      ],
      "text/plain": [
       "   size  price  classlabel  color_green  color_red\n",
       "0     2   10.1           0         True      False\n",
       "1     3   13.5           1        False       True\n",
       "2     5   15.3           0        False      False"
      ]
     },
     "execution_count": 7,
     "metadata": {},
     "output_type": "execute_result"
    }
   ],
   "source": [
    "pd.get_dummies(df, drop_first=True)"
   ]
  },
  {
   "cell_type": "markdown",
   "id": "bae37dd7",
   "metadata": {},
   "source": [
    "Dealing with Missing Data"
   ]
  },
  {
   "cell_type": "code",
   "execution_count": 9,
   "id": "f2883fd6",
   "metadata": {},
   "outputs": [
    {
     "data": {
      "text/html": [
       "<div>\n",
       "<style scoped>\n",
       "    .dataframe tbody tr th:only-of-type {\n",
       "        vertical-align: middle;\n",
       "    }\n",
       "\n",
       "    .dataframe tbody tr th {\n",
       "        vertical-align: top;\n",
       "    }\n",
       "\n",
       "    .dataframe thead th {\n",
       "        text-align: right;\n",
       "    }\n",
       "</style>\n",
       "<table border=\"1\" class=\"dataframe\">\n",
       "  <thead>\n",
       "    <tr style=\"text-align: right;\">\n",
       "      <th></th>\n",
       "      <th>A</th>\n",
       "      <th>B</th>\n",
       "      <th>C</th>\n",
       "      <th>D</th>\n",
       "    </tr>\n",
       "  </thead>\n",
       "  <tbody>\n",
       "    <tr>\n",
       "      <th>0</th>\n",
       "      <td>1.0</td>\n",
       "      <td>2.0</td>\n",
       "      <td>3.0</td>\n",
       "      <td>4.0</td>\n",
       "    </tr>\n",
       "    <tr>\n",
       "      <th>1</th>\n",
       "      <td>5.0</td>\n",
       "      <td>6.0</td>\n",
       "      <td>NaN</td>\n",
       "      <td>8.0</td>\n",
       "    </tr>\n",
       "    <tr>\n",
       "      <th>2</th>\n",
       "      <td>10.0</td>\n",
       "      <td>11.0</td>\n",
       "      <td>12.0</td>\n",
       "      <td>NaN</td>\n",
       "    </tr>\n",
       "  </tbody>\n",
       "</table>\n",
       "</div>"
      ],
      "text/plain": [
       "      A     B     C    D\n",
       "0   1.0   2.0   3.0  4.0\n",
       "1   5.0   6.0   NaN  8.0\n",
       "2  10.0  11.0  12.0  NaN"
      ]
     },
     "execution_count": 9,
     "metadata": {},
     "output_type": "execute_result"
    }
   ],
   "source": [
    "x = [\n",
    "    {\"A\": 1, \"B\": 2, \"C\": 3, 'D': 4},\n",
    "    {\"A\": 5, \"B\": 6, \"C\": None, 'D': 8},\n",
    "    {\"A\": 10, \"B\": 11, \"C\": 12, 'D': None},\n",
    "]\n",
    "df2 = pd.DataFrame(x).astype(float)\n",
    "df2"
   ]
  },
  {
   "cell_type": "markdown",
   "id": "33dec760",
   "metadata": {},
   "source": [
    "Naive Ways\n",
    "- If we do this method, if sometimes the column is required for prediction but we omitted already from training, it may cause wrong prediction\n",
    "- better to remove rows\n",
    "- but if we have millions of columns, we can remove one column for example if an image containing one pixel is damaged, we can remove them"
   ]
  },
  {
   "cell_type": "code",
   "execution_count": 10,
   "id": "6e4b5ff1",
   "metadata": {},
   "outputs": [
    {
     "data": {
      "text/html": [
       "<div>\n",
       "<style scoped>\n",
       "    .dataframe tbody tr th:only-of-type {\n",
       "        vertical-align: middle;\n",
       "    }\n",
       "\n",
       "    .dataframe tbody tr th {\n",
       "        vertical-align: top;\n",
       "    }\n",
       "\n",
       "    .dataframe thead th {\n",
       "        text-align: right;\n",
       "    }\n",
       "</style>\n",
       "<table border=\"1\" class=\"dataframe\">\n",
       "  <thead>\n",
       "    <tr style=\"text-align: right;\">\n",
       "      <th></th>\n",
       "      <th>A</th>\n",
       "      <th>B</th>\n",
       "      <th>C</th>\n",
       "      <th>D</th>\n",
       "    </tr>\n",
       "  </thead>\n",
       "  <tbody>\n",
       "    <tr>\n",
       "      <th>0</th>\n",
       "      <td>1.0</td>\n",
       "      <td>2.0</td>\n",
       "      <td>3.0</td>\n",
       "      <td>4.0</td>\n",
       "    </tr>\n",
       "  </tbody>\n",
       "</table>\n",
       "</div>"
      ],
      "text/plain": [
       "     A    B    C    D\n",
       "0  1.0  2.0  3.0  4.0"
      ]
     },
     "execution_count": 10,
     "metadata": {},
     "output_type": "execute_result"
    }
   ],
   "source": [
    "df2.dropna(axis=0, how=\"any\")  # drop rows with any NaN values"
   ]
  },
  {
   "cell_type": "code",
   "execution_count": 11,
   "id": "83dd7e7a",
   "metadata": {},
   "outputs": [
    {
     "data": {
      "text/html": [
       "<div>\n",
       "<style scoped>\n",
       "    .dataframe tbody tr th:only-of-type {\n",
       "        vertical-align: middle;\n",
       "    }\n",
       "\n",
       "    .dataframe tbody tr th {\n",
       "        vertical-align: top;\n",
       "    }\n",
       "\n",
       "    .dataframe thead th {\n",
       "        text-align: right;\n",
       "    }\n",
       "</style>\n",
       "<table border=\"1\" class=\"dataframe\">\n",
       "  <thead>\n",
       "    <tr style=\"text-align: right;\">\n",
       "      <th></th>\n",
       "      <th>A</th>\n",
       "      <th>B</th>\n",
       "    </tr>\n",
       "  </thead>\n",
       "  <tbody>\n",
       "    <tr>\n",
       "      <th>0</th>\n",
       "      <td>1.0</td>\n",
       "      <td>2.0</td>\n",
       "    </tr>\n",
       "    <tr>\n",
       "      <th>1</th>\n",
       "      <td>5.0</td>\n",
       "      <td>6.0</td>\n",
       "    </tr>\n",
       "    <tr>\n",
       "      <th>2</th>\n",
       "      <td>10.0</td>\n",
       "      <td>11.0</td>\n",
       "    </tr>\n",
       "  </tbody>\n",
       "</table>\n",
       "</div>"
      ],
      "text/plain": [
       "      A     B\n",
       "0   1.0   2.0\n",
       "1   5.0   6.0\n",
       "2  10.0  11.0"
      ]
     },
     "execution_count": 11,
     "metadata": {},
     "output_type": "execute_result"
    }
   ],
   "source": [
    "df2.dropna(axis=1)"
   ]
  },
  {
   "cell_type": "markdown",
   "id": "af637927",
   "metadata": {},
   "source": [
    "Assigning the mean of columns\n"
   ]
  },
  {
   "cell_type": "code",
   "execution_count": 12,
   "id": "8c62ec43",
   "metadata": {},
   "outputs": [
    {
     "data": {
      "text/plain": [
       "array([[ 1. ,  2. ,  3. ,  4. ],\n",
       "       [ 5. ,  6. ,  7.5,  8. ],\n",
       "       [10. , 11. , 12. ,  6. ]])"
      ]
     },
     "execution_count": 12,
     "metadata": {},
     "output_type": "execute_result"
    }
   ],
   "source": [
    "import numpy as np\n",
    "from sklearn.impute import SimpleImputer\n",
    "\n",
    "imputer = SimpleImputer(missing_values=np.nan ,strategy=\"mean\")\n",
    "X = df2.values\n",
    "X = imputer.fit_transform(X)\n",
    "X"
   ]
  },
  {
   "cell_type": "markdown",
   "id": "d8511aae",
   "metadata": {},
   "source": [
    "Alternate way (predicting data):\n",
    "- We can actually predict the missing values by considering all the other columns as features and the column with Nan as target\n",
    "- We can use a regression model"
   ]
  },
  {
   "cell_type": "markdown",
   "id": "3f21b0ec",
   "metadata": {},
   "source": []
  }
 ],
 "metadata": {
  "kernelspec": {
   "display_name": "venv",
   "language": "python",
   "name": "python3"
  },
  "language_info": {
   "codemirror_mode": {
    "name": "ipython",
    "version": 3
   },
   "file_extension": ".py",
   "mimetype": "text/x-python",
   "name": "python",
   "nbconvert_exporter": "python",
   "pygments_lexer": "ipython3",
   "version": "3.12.11"
  }
 },
 "nbformat": 4,
 "nbformat_minor": 5
}
